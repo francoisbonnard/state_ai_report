{
  "nbformat": 4,
  "nbformat_minor": 0,
  "metadata": {
    "colab": {
      "provenance": []
    },
    "kernelspec": {
      "name": "python3",
      "display_name": "Python 3"
    },
    "language_info": {
      "name": "python"
    },
    "widgets": {
      "application/vnd.jupyter.widget-state+json": {
        "020c5f4f0d944322b10d562dd51f9265": {
          "model_module": "@jupyter-widgets/controls",
          "model_name": "HBoxModel",
          "model_module_version": "1.5.0",
          "state": {
            "_dom_classes": [],
            "_model_module": "@jupyter-widgets/controls",
            "_model_module_version": "1.5.0",
            "_model_name": "HBoxModel",
            "_view_count": null,
            "_view_module": "@jupyter-widgets/controls",
            "_view_module_version": "1.5.0",
            "_view_name": "HBoxView",
            "box_style": "",
            "children": [
              "IPY_MODEL_74ba1ddfa8194e7c82ef49622561a3fb",
              "IPY_MODEL_4a316fb7b9af4281a6bbf44ba47ad07c",
              "IPY_MODEL_f9ca4e73b4d04996a0e9c015ac95f22b"
            ],
            "layout": "IPY_MODEL_d03f501d29df44e38187fe3c7cca93c8"
          }
        },
        "74ba1ddfa8194e7c82ef49622561a3fb": {
          "model_module": "@jupyter-widgets/controls",
          "model_name": "HTMLModel",
          "model_module_version": "1.5.0",
          "state": {
            "_dom_classes": [],
            "_model_module": "@jupyter-widgets/controls",
            "_model_module_version": "1.5.0",
            "_model_name": "HTMLModel",
            "_view_count": null,
            "_view_module": "@jupyter-widgets/controls",
            "_view_module_version": "1.5.0",
            "_view_name": "HTMLView",
            "description": "",
            "description_tooltip": null,
            "layout": "IPY_MODEL_c5ed3f385fce46839dc632a06af6e7ae",
            "placeholder": "​",
            "style": "IPY_MODEL_3f2cf23d18e7417aa2dfe51e155001c6",
            "value": "100%"
          }
        },
        "4a316fb7b9af4281a6bbf44ba47ad07c": {
          "model_module": "@jupyter-widgets/controls",
          "model_name": "FloatProgressModel",
          "model_module_version": "1.5.0",
          "state": {
            "_dom_classes": [],
            "_model_module": "@jupyter-widgets/controls",
            "_model_module_version": "1.5.0",
            "_model_name": "FloatProgressModel",
            "_view_count": null,
            "_view_module": "@jupyter-widgets/controls",
            "_view_module_version": "1.5.0",
            "_view_name": "ProgressView",
            "bar_style": "success",
            "description": "",
            "description_tooltip": null,
            "layout": "IPY_MODEL_bcd8df79a65c4c70b733988edb5349a2",
            "max": 3,
            "min": 0,
            "orientation": "horizontal",
            "style": "IPY_MODEL_6a4af54835d3497aabbfbcc4940bacb4",
            "value": 3
          }
        },
        "f9ca4e73b4d04996a0e9c015ac95f22b": {
          "model_module": "@jupyter-widgets/controls",
          "model_name": "HTMLModel",
          "model_module_version": "1.5.0",
          "state": {
            "_dom_classes": [],
            "_model_module": "@jupyter-widgets/controls",
            "_model_module_version": "1.5.0",
            "_model_name": "HTMLModel",
            "_view_count": null,
            "_view_module": "@jupyter-widgets/controls",
            "_view_module_version": "1.5.0",
            "_view_name": "HTMLView",
            "description": "",
            "description_tooltip": null,
            "layout": "IPY_MODEL_90fb11617d154599afbd0ab8929c8e31",
            "placeholder": "​",
            "style": "IPY_MODEL_cdf329d0f12e4b199ca20cb43226f791",
            "value": " 3/3 [00:00&lt;00:00, 164.87it/s]"
          }
        },
        "d03f501d29df44e38187fe3c7cca93c8": {
          "model_module": "@jupyter-widgets/base",
          "model_name": "LayoutModel",
          "model_module_version": "1.2.0",
          "state": {
            "_model_module": "@jupyter-widgets/base",
            "_model_module_version": "1.2.0",
            "_model_name": "LayoutModel",
            "_view_count": null,
            "_view_module": "@jupyter-widgets/base",
            "_view_module_version": "1.2.0",
            "_view_name": "LayoutView",
            "align_content": null,
            "align_items": null,
            "align_self": null,
            "border": null,
            "bottom": null,
            "display": null,
            "flex": null,
            "flex_flow": null,
            "grid_area": null,
            "grid_auto_columns": null,
            "grid_auto_flow": null,
            "grid_auto_rows": null,
            "grid_column": null,
            "grid_gap": null,
            "grid_row": null,
            "grid_template_areas": null,
            "grid_template_columns": null,
            "grid_template_rows": null,
            "height": null,
            "justify_content": null,
            "justify_items": null,
            "left": null,
            "margin": null,
            "max_height": null,
            "max_width": null,
            "min_height": null,
            "min_width": null,
            "object_fit": null,
            "object_position": null,
            "order": null,
            "overflow": null,
            "overflow_x": null,
            "overflow_y": null,
            "padding": null,
            "right": null,
            "top": null,
            "visibility": null,
            "width": null
          }
        },
        "c5ed3f385fce46839dc632a06af6e7ae": {
          "model_module": "@jupyter-widgets/base",
          "model_name": "LayoutModel",
          "model_module_version": "1.2.0",
          "state": {
            "_model_module": "@jupyter-widgets/base",
            "_model_module_version": "1.2.0",
            "_model_name": "LayoutModel",
            "_view_count": null,
            "_view_module": "@jupyter-widgets/base",
            "_view_module_version": "1.2.0",
            "_view_name": "LayoutView",
            "align_content": null,
            "align_items": null,
            "align_self": null,
            "border": null,
            "bottom": null,
            "display": null,
            "flex": null,
            "flex_flow": null,
            "grid_area": null,
            "grid_auto_columns": null,
            "grid_auto_flow": null,
            "grid_auto_rows": null,
            "grid_column": null,
            "grid_gap": null,
            "grid_row": null,
            "grid_template_areas": null,
            "grid_template_columns": null,
            "grid_template_rows": null,
            "height": null,
            "justify_content": null,
            "justify_items": null,
            "left": null,
            "margin": null,
            "max_height": null,
            "max_width": null,
            "min_height": null,
            "min_width": null,
            "object_fit": null,
            "object_position": null,
            "order": null,
            "overflow": null,
            "overflow_x": null,
            "overflow_y": null,
            "padding": null,
            "right": null,
            "top": null,
            "visibility": null,
            "width": null
          }
        },
        "3f2cf23d18e7417aa2dfe51e155001c6": {
          "model_module": "@jupyter-widgets/controls",
          "model_name": "DescriptionStyleModel",
          "model_module_version": "1.5.0",
          "state": {
            "_model_module": "@jupyter-widgets/controls",
            "_model_module_version": "1.5.0",
            "_model_name": "DescriptionStyleModel",
            "_view_count": null,
            "_view_module": "@jupyter-widgets/base",
            "_view_module_version": "1.2.0",
            "_view_name": "StyleView",
            "description_width": ""
          }
        },
        "bcd8df79a65c4c70b733988edb5349a2": {
          "model_module": "@jupyter-widgets/base",
          "model_name": "LayoutModel",
          "model_module_version": "1.2.0",
          "state": {
            "_model_module": "@jupyter-widgets/base",
            "_model_module_version": "1.2.0",
            "_model_name": "LayoutModel",
            "_view_count": null,
            "_view_module": "@jupyter-widgets/base",
            "_view_module_version": "1.2.0",
            "_view_name": "LayoutView",
            "align_content": null,
            "align_items": null,
            "align_self": null,
            "border": null,
            "bottom": null,
            "display": null,
            "flex": null,
            "flex_flow": null,
            "grid_area": null,
            "grid_auto_columns": null,
            "grid_auto_flow": null,
            "grid_auto_rows": null,
            "grid_column": null,
            "grid_gap": null,
            "grid_row": null,
            "grid_template_areas": null,
            "grid_template_columns": null,
            "grid_template_rows": null,
            "height": null,
            "justify_content": null,
            "justify_items": null,
            "left": null,
            "margin": null,
            "max_height": null,
            "max_width": null,
            "min_height": null,
            "min_width": null,
            "object_fit": null,
            "object_position": null,
            "order": null,
            "overflow": null,
            "overflow_x": null,
            "overflow_y": null,
            "padding": null,
            "right": null,
            "top": null,
            "visibility": null,
            "width": null
          }
        },
        "6a4af54835d3497aabbfbcc4940bacb4": {
          "model_module": "@jupyter-widgets/controls",
          "model_name": "ProgressStyleModel",
          "model_module_version": "1.5.0",
          "state": {
            "_model_module": "@jupyter-widgets/controls",
            "_model_module_version": "1.5.0",
            "_model_name": "ProgressStyleModel",
            "_view_count": null,
            "_view_module": "@jupyter-widgets/base",
            "_view_module_version": "1.2.0",
            "_view_name": "StyleView",
            "bar_color": null,
            "description_width": ""
          }
        },
        "90fb11617d154599afbd0ab8929c8e31": {
          "model_module": "@jupyter-widgets/base",
          "model_name": "LayoutModel",
          "model_module_version": "1.2.0",
          "state": {
            "_model_module": "@jupyter-widgets/base",
            "_model_module_version": "1.2.0",
            "_model_name": "LayoutModel",
            "_view_count": null,
            "_view_module": "@jupyter-widgets/base",
            "_view_module_version": "1.2.0",
            "_view_name": "LayoutView",
            "align_content": null,
            "align_items": null,
            "align_self": null,
            "border": null,
            "bottom": null,
            "display": null,
            "flex": null,
            "flex_flow": null,
            "grid_area": null,
            "grid_auto_columns": null,
            "grid_auto_flow": null,
            "grid_auto_rows": null,
            "grid_column": null,
            "grid_gap": null,
            "grid_row": null,
            "grid_template_areas": null,
            "grid_template_columns": null,
            "grid_template_rows": null,
            "height": null,
            "justify_content": null,
            "justify_items": null,
            "left": null,
            "margin": null,
            "max_height": null,
            "max_width": null,
            "min_height": null,
            "min_width": null,
            "object_fit": null,
            "object_position": null,
            "order": null,
            "overflow": null,
            "overflow_x": null,
            "overflow_y": null,
            "padding": null,
            "right": null,
            "top": null,
            "visibility": null,
            "width": null
          }
        },
        "cdf329d0f12e4b199ca20cb43226f791": {
          "model_module": "@jupyter-widgets/controls",
          "model_name": "DescriptionStyleModel",
          "model_module_version": "1.5.0",
          "state": {
            "_model_module": "@jupyter-widgets/controls",
            "_model_module_version": "1.5.0",
            "_model_name": "DescriptionStyleModel",
            "_view_count": null,
            "_view_module": "@jupyter-widgets/base",
            "_view_module_version": "1.2.0",
            "_view_name": "StyleView",
            "description_width": ""
          }
        },
        "d90cc429a72b4dd6b50acaf6120f884b": {
          "model_module": "@jupyter-widgets/controls",
          "model_name": "HBoxModel",
          "model_module_version": "1.5.0",
          "state": {
            "_dom_classes": [],
            "_model_module": "@jupyter-widgets/controls",
            "_model_module_version": "1.5.0",
            "_model_name": "HBoxModel",
            "_view_count": null,
            "_view_module": "@jupyter-widgets/controls",
            "_view_module_version": "1.5.0",
            "_view_name": "HBoxView",
            "box_style": "",
            "children": [
              "IPY_MODEL_5a8436aa77f249d8a730fd3f7c404a4a",
              "IPY_MODEL_bde57097b0634f429abfed8a0649c506",
              "IPY_MODEL_d5430e6ce18d4861aacdfa9f9f76829c"
            ],
            "layout": "IPY_MODEL_92c5781644824e3d943f8ec0ae6fe939"
          }
        },
        "5a8436aa77f249d8a730fd3f7c404a4a": {
          "model_module": "@jupyter-widgets/controls",
          "model_name": "HTMLModel",
          "model_module_version": "1.5.0",
          "state": {
            "_dom_classes": [],
            "_model_module": "@jupyter-widgets/controls",
            "_model_module_version": "1.5.0",
            "_model_name": "HTMLModel",
            "_view_count": null,
            "_view_module": "@jupyter-widgets/controls",
            "_view_module_version": "1.5.0",
            "_view_name": "HTMLView",
            "description": "",
            "description_tooltip": null,
            "layout": "IPY_MODEL_862b5a87d2504ae6a25596ebd78096b9",
            "placeholder": "​",
            "style": "IPY_MODEL_d77ed94b7fb94174824b92eda94838a2",
            "value": "100%"
          }
        },
        "bde57097b0634f429abfed8a0649c506": {
          "model_module": "@jupyter-widgets/controls",
          "model_name": "FloatProgressModel",
          "model_module_version": "1.5.0",
          "state": {
            "_dom_classes": [],
            "_model_module": "@jupyter-widgets/controls",
            "_model_module_version": "1.5.0",
            "_model_name": "FloatProgressModel",
            "_view_count": null,
            "_view_module": "@jupyter-widgets/controls",
            "_view_module_version": "1.5.0",
            "_view_name": "ProgressView",
            "bar_style": "success",
            "description": "",
            "description_tooltip": null,
            "layout": "IPY_MODEL_7bf9463b8ca64f3bb2a3c7864b4a6743",
            "max": 3,
            "min": 0,
            "orientation": "horizontal",
            "style": "IPY_MODEL_6e94bd3d410e4fa48a4331dffa8ff123",
            "value": 3
          }
        },
        "d5430e6ce18d4861aacdfa9f9f76829c": {
          "model_module": "@jupyter-widgets/controls",
          "model_name": "HTMLModel",
          "model_module_version": "1.5.0",
          "state": {
            "_dom_classes": [],
            "_model_module": "@jupyter-widgets/controls",
            "_model_module_version": "1.5.0",
            "_model_name": "HTMLModel",
            "_view_count": null,
            "_view_module": "@jupyter-widgets/controls",
            "_view_module_version": "1.5.0",
            "_view_name": "HTMLView",
            "description": "",
            "description_tooltip": null,
            "layout": "IPY_MODEL_9021deedd19040b6a60aee40de0a6988",
            "placeholder": "​",
            "style": "IPY_MODEL_76634187d92d4d3c9a5d90fb18547455",
            "value": " 3/3 [00:00&lt;00:00, 135.25it/s]"
          }
        },
        "92c5781644824e3d943f8ec0ae6fe939": {
          "model_module": "@jupyter-widgets/base",
          "model_name": "LayoutModel",
          "model_module_version": "1.2.0",
          "state": {
            "_model_module": "@jupyter-widgets/base",
            "_model_module_version": "1.2.0",
            "_model_name": "LayoutModel",
            "_view_count": null,
            "_view_module": "@jupyter-widgets/base",
            "_view_module_version": "1.2.0",
            "_view_name": "LayoutView",
            "align_content": null,
            "align_items": null,
            "align_self": null,
            "border": null,
            "bottom": null,
            "display": null,
            "flex": null,
            "flex_flow": null,
            "grid_area": null,
            "grid_auto_columns": null,
            "grid_auto_flow": null,
            "grid_auto_rows": null,
            "grid_column": null,
            "grid_gap": null,
            "grid_row": null,
            "grid_template_areas": null,
            "grid_template_columns": null,
            "grid_template_rows": null,
            "height": null,
            "justify_content": null,
            "justify_items": null,
            "left": null,
            "margin": null,
            "max_height": null,
            "max_width": null,
            "min_height": null,
            "min_width": null,
            "object_fit": null,
            "object_position": null,
            "order": null,
            "overflow": null,
            "overflow_x": null,
            "overflow_y": null,
            "padding": null,
            "right": null,
            "top": null,
            "visibility": null,
            "width": null
          }
        },
        "862b5a87d2504ae6a25596ebd78096b9": {
          "model_module": "@jupyter-widgets/base",
          "model_name": "LayoutModel",
          "model_module_version": "1.2.0",
          "state": {
            "_model_module": "@jupyter-widgets/base",
            "_model_module_version": "1.2.0",
            "_model_name": "LayoutModel",
            "_view_count": null,
            "_view_module": "@jupyter-widgets/base",
            "_view_module_version": "1.2.0",
            "_view_name": "LayoutView",
            "align_content": null,
            "align_items": null,
            "align_self": null,
            "border": null,
            "bottom": null,
            "display": null,
            "flex": null,
            "flex_flow": null,
            "grid_area": null,
            "grid_auto_columns": null,
            "grid_auto_flow": null,
            "grid_auto_rows": null,
            "grid_column": null,
            "grid_gap": null,
            "grid_row": null,
            "grid_template_areas": null,
            "grid_template_columns": null,
            "grid_template_rows": null,
            "height": null,
            "justify_content": null,
            "justify_items": null,
            "left": null,
            "margin": null,
            "max_height": null,
            "max_width": null,
            "min_height": null,
            "min_width": null,
            "object_fit": null,
            "object_position": null,
            "order": null,
            "overflow": null,
            "overflow_x": null,
            "overflow_y": null,
            "padding": null,
            "right": null,
            "top": null,
            "visibility": null,
            "width": null
          }
        },
        "d77ed94b7fb94174824b92eda94838a2": {
          "model_module": "@jupyter-widgets/controls",
          "model_name": "DescriptionStyleModel",
          "model_module_version": "1.5.0",
          "state": {
            "_model_module": "@jupyter-widgets/controls",
            "_model_module_version": "1.5.0",
            "_model_name": "DescriptionStyleModel",
            "_view_count": null,
            "_view_module": "@jupyter-widgets/base",
            "_view_module_version": "1.2.0",
            "_view_name": "StyleView",
            "description_width": ""
          }
        },
        "7bf9463b8ca64f3bb2a3c7864b4a6743": {
          "model_module": "@jupyter-widgets/base",
          "model_name": "LayoutModel",
          "model_module_version": "1.2.0",
          "state": {
            "_model_module": "@jupyter-widgets/base",
            "_model_module_version": "1.2.0",
            "_model_name": "LayoutModel",
            "_view_count": null,
            "_view_module": "@jupyter-widgets/base",
            "_view_module_version": "1.2.0",
            "_view_name": "LayoutView",
            "align_content": null,
            "align_items": null,
            "align_self": null,
            "border": null,
            "bottom": null,
            "display": null,
            "flex": null,
            "flex_flow": null,
            "grid_area": null,
            "grid_auto_columns": null,
            "grid_auto_flow": null,
            "grid_auto_rows": null,
            "grid_column": null,
            "grid_gap": null,
            "grid_row": null,
            "grid_template_areas": null,
            "grid_template_columns": null,
            "grid_template_rows": null,
            "height": null,
            "justify_content": null,
            "justify_items": null,
            "left": null,
            "margin": null,
            "max_height": null,
            "max_width": null,
            "min_height": null,
            "min_width": null,
            "object_fit": null,
            "object_position": null,
            "order": null,
            "overflow": null,
            "overflow_x": null,
            "overflow_y": null,
            "padding": null,
            "right": null,
            "top": null,
            "visibility": null,
            "width": null
          }
        },
        "6e94bd3d410e4fa48a4331dffa8ff123": {
          "model_module": "@jupyter-widgets/controls",
          "model_name": "ProgressStyleModel",
          "model_module_version": "1.5.0",
          "state": {
            "_model_module": "@jupyter-widgets/controls",
            "_model_module_version": "1.5.0",
            "_model_name": "ProgressStyleModel",
            "_view_count": null,
            "_view_module": "@jupyter-widgets/base",
            "_view_module_version": "1.2.0",
            "_view_name": "StyleView",
            "bar_color": null,
            "description_width": ""
          }
        },
        "9021deedd19040b6a60aee40de0a6988": {
          "model_module": "@jupyter-widgets/base",
          "model_name": "LayoutModel",
          "model_module_version": "1.2.0",
          "state": {
            "_model_module": "@jupyter-widgets/base",
            "_model_module_version": "1.2.0",
            "_model_name": "LayoutModel",
            "_view_count": null,
            "_view_module": "@jupyter-widgets/base",
            "_view_module_version": "1.2.0",
            "_view_name": "LayoutView",
            "align_content": null,
            "align_items": null,
            "align_self": null,
            "border": null,
            "bottom": null,
            "display": null,
            "flex": null,
            "flex_flow": null,
            "grid_area": null,
            "grid_auto_columns": null,
            "grid_auto_flow": null,
            "grid_auto_rows": null,
            "grid_column": null,
            "grid_gap": null,
            "grid_row": null,
            "grid_template_areas": null,
            "grid_template_columns": null,
            "grid_template_rows": null,
            "height": null,
            "justify_content": null,
            "justify_items": null,
            "left": null,
            "margin": null,
            "max_height": null,
            "max_width": null,
            "min_height": null,
            "min_width": null,
            "object_fit": null,
            "object_position": null,
            "order": null,
            "overflow": null,
            "overflow_x": null,
            "overflow_y": null,
            "padding": null,
            "right": null,
            "top": null,
            "visibility": null,
            "width": null
          }
        },
        "76634187d92d4d3c9a5d90fb18547455": {
          "model_module": "@jupyter-widgets/controls",
          "model_name": "DescriptionStyleModel",
          "model_module_version": "1.5.0",
          "state": {
            "_model_module": "@jupyter-widgets/controls",
            "_model_module_version": "1.5.0",
            "_model_name": "DescriptionStyleModel",
            "_view_count": null,
            "_view_module": "@jupyter-widgets/base",
            "_view_module_version": "1.2.0",
            "_view_name": "StyleView",
            "description_width": ""
          }
        }
      }
    }
  },
  "cells": [
    {
      "cell_type": "code",
      "source": [
        "import os\n",
        "os.environ['PYTORCH_MPS_HIGH_WATERMARK_RATIO'] = '0.0'"
      ],
      "metadata": {
        "id": "guQ7M5IeGqMS"
      },
      "execution_count": null,
      "outputs": []
    },
    {
      "cell_type": "markdown",
      "source": [
        "# Handling Long Sequence by Chunking\n",
        "## Plan\n",
        "1. We will split the entire text into sentences.\n",
        "2. Calculate the embedding of each sentence.\n",
        "3. Calculate the whole text embedding by averaging the embeddings of each sentence.\n",
        "4. Pass the whole text embedding to the fully connected layer for text classification."
      ],
      "metadata": {
        "id": "_wCSEQbkDHyB"
      }
    },
    {
      "cell_type": "markdown",
      "source": [
        "## Data Preparation"
      ],
      "metadata": {
        "id": "IV01qsVJEa_y"
      }
    },
    {
      "cell_type": "code",
      "execution_count": null,
      "metadata": {
        "colab": {
          "base_uri": "https://localhost:8080/",
          "height": 67,
          "referenced_widgets": [
            "020c5f4f0d944322b10d562dd51f9265",
            "74ba1ddfa8194e7c82ef49622561a3fb",
            "4a316fb7b9af4281a6bbf44ba47ad07c",
            "f9ca4e73b4d04996a0e9c015ac95f22b",
            "d03f501d29df44e38187fe3c7cca93c8",
            "c5ed3f385fce46839dc632a06af6e7ae",
            "3f2cf23d18e7417aa2dfe51e155001c6",
            "bcd8df79a65c4c70b733988edb5349a2",
            "6a4af54835d3497aabbfbcc4940bacb4",
            "90fb11617d154599afbd0ab8929c8e31",
            "cdf329d0f12e4b199ca20cb43226f791"
          ]
        },
        "id": "i7gX7KMRHtYn",
        "outputId": "c4212635-4d42-4e3e-8c7f-43bd41e8f925"
      },
      "outputs": [
        {
          "output_type": "stream",
          "name": "stderr",
          "text": [
            "Found cached dataset imdb (/Users/premtimsina/.cache/huggingface/datasets/imdb/plain_text/1.0.0/d613c88cf8fa3bab83b4ded3713f1f74830d1100e171db75bbddb80b3345c9c0)\n"
          ]
        },
        {
          "output_type": "display_data",
          "data": {
            "text/plain": [
              "  0%|          | 0/3 [00:00<?, ?it/s]"
            ],
            "application/vnd.jupyter.widget-view+json": {
              "version_major": 2,
              "version_minor": 0,
              "model_id": "020c5f4f0d944322b10d562dd51f9265"
            }
          },
          "metadata": {}
        }
      ],
      "source": [
        "import torch\n",
        "import torch.nn as nn\n",
        "import torch.optim as optim\n",
        "from torch.utils.data import DataLoader, Dataset, random_split\n",
        "from datasets import load_dataset\n",
        "import nltk\n",
        "from transformers import BertTokenizer, BertModel\n",
        "\n",
        "# IMDB Dataset preparation\n",
        "imdb_data = load_dataset('imdb')\n",
        "\n",
        "tokenizer = BertTokenizer.from_pretrained('bert-base-uncased')\n",
        "# tokenizer.pad_token = tokenizer.eos_token\n",
        "\n",
        "class IMDBDataset(Dataset):\n",
        "    def __init__(self, data, tokenizer, max_sentence_length=48):\n",
        "        self.data = data\n",
        "        self.tokenizer = tokenizer\n",
        "        self.max_sentence_length = max_sentence_length\n",
        "\n",
        "    def __len__(self):\n",
        "        return len(self.data)\n",
        "\n",
        "    \n",
        "    def __getitem__(self, idx):\n",
        "        text = self.data[idx]['text']\n",
        "        label = self.data[idx]['label']\n",
        "        # splitting the text into sentences\n",
        "        sentences = nltk.sent_tokenize(text)\n",
        "        # input_ids is the list of `input_ids` for each sentence\n",
        "        input_ids = [tokenizer.encode(sentence, max_length=self.max_sentence_length, truncation=True, padding='max_length') for sentence in sentences]\n",
        "        # attention_masks is the list of `attention_masks` for each sentence\n",
        "        attention_masks = [[1 if token_id != tokenizer.pad_token_id else 0 for token_id in sentence] for sentence in input_ids]\n",
        "        return {'input_ids': torch.tensor(input_ids, dtype=torch.long),\n",
        "                'attention_mask': torch.tensor(attention_masks, dtype=torch.long),\n",
        "                'label': torch.tensor(label, dtype=torch.long)}\n",
        "\n",
        "# We are just training with 10% of overall dataset. I am doing training in my laptop (Mac M2), which has just 30 core GPU and 32 GB RAM\n",
        "train_dataset = IMDBDataset(imdb_data['train'], tokenizer)\n",
        "test_dataset = IMDBDataset(imdb_data['test'], tokenizer)\n",
        "\n",
        "train_10_percent = int(len(train_dataset) * 0.1)\n",
        "test_10_percent = int(len(test_dataset) * 0.1)\n",
        "\n",
        "# Calculate the number of samples for the remaining 90%\n",
        "train_90_percent = len(train_dataset) - train_10_percent\n",
        "test_90_percent = len(test_dataset) - test_10_percent\n",
        "\n",
        "# Split the datasets into 10% and 90%\n",
        "train_data_10_percent, _ = random_split(train_dataset, [train_10_percent, train_90_percent])\n",
        "test_data_10_percent, _ = random_split(test_dataset, [test_10_percent, test_90_percent])\n",
        "\n",
        "\n",
        "\n"
      ]
    },
    {
      "cell_type": "markdown",
      "source": [
        "### pad_collate\n",
        "**What we are doing here?**\n",
        "If you choose a batch size of 4, Pytorch requires that the number of sentences in each sample for that batch should be the same. However, this is not the case in real life. In a batch of size 4, sample 1 could have 10 sentences, and sample 2 could have 13 sentences.\n",
        "\n",
        "Therefore, in the pad_collate function, we perform padding on the sentences. We calculate the maximum number of sentences in that batch and pad accordingly."
      ],
      "metadata": {
        "id": "MKTwdM8dF8_o"
      }
    },
    {
      "cell_type": "code",
      "source": [
        "\n",
        "\n",
        "def pad_collate(batch):\n",
        "    # calculate the maximum number of sentences in that batch\n",
        "    max_num_sentences = max([item['input_ids'].shape[0] for item in batch])\n",
        "\n",
        "    input_ids_batch = []\n",
        "    attention_masks_batch = []\n",
        "\n",
        "    # looping through each sample through batch. if batch_size =4; the following code loops for 4 times\n",
        "    for item in batch:\n",
        "        num_sentences = item['input_ids'].shape[0]\n",
        "        pad_length = max_num_sentences - num_sentences\n",
        "        input_ids = torch.cat([item['input_ids'], torch.zeros(pad_length, item['input_ids'].shape[1], dtype=torch.long)], dim=0)\n",
        "        attention_mask = torch.cat([item['attention_mask'], torch.zeros(pad_length, item['attention_mask'].shape[1], dtype=torch.long)], dim=0)\n",
        "\n",
        "        input_ids_batch.append(input_ids)\n",
        "        attention_masks_batch.append(attention_mask)\n",
        "\n",
        "    # it is just converting list into tensor by stacking along the dim=0\n",
        "    input_ids_tensor = torch.stack(input_ids_batch, dim=0)\n",
        "    attention_masks_tensor = torch.stack(attention_masks_batch, dim=0)\n",
        "    labels_tensor = torch.tensor([item['label'] for item in batch], dtype=torch.long)\n",
        "\n",
        "    return {'input_ids': input_ids_tensor, 'attention_mask': attention_masks_tensor, 'label': labels_tensor}\n",
        "\n",
        "train_loader = DataLoader(train_data_10_percent, batch_size=4, shuffle=True, collate_fn=pad_collate)\n",
        "test_loader = DataLoader(test_data_10_percent, batch_size=4, shuffle=True, collate_fn=pad_collate)"
      ],
      "metadata": {
        "id": "7KZwGv-oEjrv"
      },
      "execution_count": null,
      "outputs": []
    },
    {
      "cell_type": "code",
      "source": [
        "item=next(iter(train_loader))\n"
      ],
      "metadata": {
        "id": "mcdzMtouIdkk"
      },
      "execution_count": null,
      "outputs": []
    },
    {
      "cell_type": "markdown",
      "source": [
        "### We are just looking at the shape of data.\n",
        "1. This signifies that batch_size=4, max_sentences inthat batch=21, max_seq_len=48"
      ],
      "metadata": {
        "id": "NHTSka2nIYIX"
      }
    },
    {
      "cell_type": "code",
      "source": [
        "print('input_ids', item['input_ids'].shape)\n",
        "print('attention_mask', item['attention_mask'].shape)\n",
        "print('label', item['label'].shape)"
      ],
      "metadata": {
        "colab": {
          "base_uri": "https://localhost:8080/"
        },
        "id": "JPoEcXGPH85n",
        "outputId": "24ac661f-53a0-428f-98e9-c84ff65f0401"
      },
      "execution_count": null,
      "outputs": [
        {
          "output_type": "stream",
          "name": "stdout",
          "text": [
            "input_ids torch.Size([4, 21, 48])\n",
            "attention_mask torch.Size([4, 21, 48])\n",
            "label torch.Size([4])\n"
          ]
        }
      ]
    },
    {
      "cell_type": "code",
      "source": [
        "print(item['input_ids'])"
      ],
      "metadata": {
        "colab": {
          "base_uri": "https://localhost:8080/"
        },
        "id": "056snCedKKas",
        "outputId": "614f2cf0-65b5-4278-ab4f-7fe3370575ed"
      },
      "execution_count": null,
      "outputs": [
        {
          "output_type": "stream",
          "name": "stdout",
          "text": [
            "tensor([[[ 101, 1045, 2031,  ...,    0,    0,    0],\n",
            "         [ 101, 5735, 2001,  ...,    0,    0,    0],\n",
            "         [ 101, 2200, 3422,  ...,    0,    0,    0],\n",
            "         [ 101, 2748, 2009,  ...,    0,    0,    0],\n",
            "         [   0,    0,    0,  ...,    0,    0,    0],\n",
            "         [   0,    0,    0,  ...,    0,    0,    0]],\n",
            "\n",
            "        [[ 101, 2044, 2108,  ..., 1000, 3458,  102],\n",
            "         [ 101, 2349, 2000,  ..., 2521, 2682,  102],\n",
            "         [ 101, 2023, 3576,  ...,    0,    0,    0],\n",
            "         [ 101, 2009, 2471,  ...,    0,    0,    0],\n",
            "         [ 101, 2174, 1010,  ..., 2477, 1007,  102],\n",
            "         [   0,    0,    0,  ...,    0,    0,    0]],\n",
            "\n",
            "        [[ 101, 2054, 2001,  ...,    0,    0,    0],\n",
            "         [ 101, 2076, 1996,  ..., 2787, 2008,  102],\n",
            "         [ 101, 2306, 1017,  ...,    0,    0,    0],\n",
            "         [ 101, 1045, 2179,  ...,    0,    0,    0],\n",
            "         [ 101, 1996, 2047,  ...,    0,    0,    0],\n",
            "         [ 101, 2006, 2028,  ..., 2028, 2008,  102]],\n",
            "\n",
            "        [[ 101, 2023, 2003,  ...,    0,    0,    0],\n",
            "         [ 101, 1045, 2031,  ...,    0,    0,    0],\n",
            "         [ 101, 2174, 1010,  ...,    0,    0,    0],\n",
            "         [ 101, 2122, 4301,  ..., 2065, 2009,  102],\n",
            "         [ 101, 2021, 2005,  ...,    0,    0,    0],\n",
            "         [   0,    0,    0,  ...,    0,    0,    0]]])\n"
          ]
        }
      ]
    },
    {
      "cell_type": "markdown",
      "source": [
        "### Model Architecture\n",
        "1. forward(self, input_ids_list, attention_mask_list): This method defines the forward pass of the neural network. It takes two arguments: input_ids_list and attention_mask_list, which are lists of input IDs and attention masks for each input sentence, respectively.\n",
        "\n",
        "2. The nested loops iterate through the batches and sentences within the batches. For each sentence, the BERT model is applied, and the 'pooler_output' is extracted, which is a fixed-size representation of the input text. The pooled outputs for each sentence are then stacked into a single tensor and averaged along the first dimension.\n",
        "\n",
        "3. The batch_pooled_outputs list is then converted into a tensor using torch.stack().\n",
        "\n",
        "\n",
        "4. The final fully connected (linear) layer is applied to produce the classification logits.\n",
        "\n",
        "5. The FineTunedBertClassifier class is designed to handle variable-length input sequences by processing them sentence by sentence and averaging their pooled outputs. This approach can handle different numbers of sentences per batch and allows the model to be fine-tuned on a specific classification task."
      ],
      "metadata": {
        "id": "3GXnwuWN3Axi"
      }
    },
    {
      "cell_type": "code",
      "source": [
        "class FineTunedBertClassifier(nn.Module):\n",
        "    def __init__(self, n_classes):\n",
        "        super(FineTunedBertClassifier, self).__init__()\n",
        "        self.bert = BertModel.from_pretrained('bert-base-uncased')\n",
        "        self.dropout = nn.Dropout(p=0.3)\n",
        "        self.fc = nn.Linear(self.bert.config.hidden_size, n_classes)\n",
        "\n",
        "    def forward(self, input_ids_list, attention_mask_list):\n",
        "        batch_pooled_outputs = []\n",
        "\n",
        "        # Loop through each sample in a batch\n",
        "        for batch_input_ids, batch_attention_mask in zip(input_ids_list, attention_mask_list):\n",
        "            pooled_outputs = []\n",
        "            \n",
        "            # Loop through each sentence within the sample\n",
        "            # pooler_output is the sentence representation: output['pooler_output'] is the sentence embedding in case of bert\n",
        "            for input_ids, attention_mask in zip(batch_input_ids, batch_attention_mask):\n",
        "                output = self.bert(input_ids=input_ids.unsqueeze(0), attention_mask=attention_mask.unsqueeze(0))\n",
        "                pooler_output = output['pooler_output']\n",
        "                pooled_outputs.append(pooler_output)\n",
        "            \n",
        "            # Stack the pooled outputs into a single tensor\n",
        "            pooled_outputs_tensor = torch.stack(pooled_outputs, dim=1)\n",
        "            \n",
        "            # Compute the mean along the first dimension (dim=1)\n",
        "            concatenated_output = torch.mean(pooled_outputs_tensor, dim=1)\n",
        "            batch_pooled_outputs.append(concatenated_output)\n",
        "\n",
        "        # Stack the batch_pooled_outputs into a single tensor\n",
        "        batch_pooled_outputs_tensor = torch.stack(batch_pooled_outputs, dim=0)\n",
        "        \n",
        "        output = self.dropout(batch_pooled_outputs_tensor)\n",
        "        \n",
        "        output = torch.squeeze(output, dim=1)\n",
        "\n",
        "        return self.fc(output)"
      ],
      "metadata": {
        "id": "mLn9cyUMN7pr"
      },
      "execution_count": null,
      "outputs": []
    },
    {
      "cell_type": "markdown",
      "source": [
        "The above code may looks confusing. Thus, lets understand through the example. It's important to understand that the following example is just to explain the architecture of model. Our IMDB data_set dimension is diffrent than following example.\n",
        "\n",
        "1. Suppose, input_ids_list and attention_mask_list looks like below. \n",
        "```\n",
        "input_ids_list = [\n",
        "    [  # sample 1\n",
        "        [101, 2023, 2003, 1037, 2742, 102],  # Sentence 1: \"This is a sample.\"\n",
        "        [101, 1045, 2066, 2026, 3835, 102]   # Sentence 2: \"I like my coffee.\"\n",
        "    ],\n",
        "    [  # sample 2\n",
        "        [101, 1045, 2572, 1037, 3076, 102],  # Sentence 1: \"I am a student.\"\n",
        "        [101, 2026, 3899, 2003, 2307, 102]   # Sentence 2: \"My dog is great.\"\n",
        "    ]\n",
        "]\n",
        "```\n",
        "```\n",
        "attention_mask_list = [\n",
        "    [  # sample 1\n",
        "        [1, 1, 1, 1, 1, 1],  # Attention mask for sentence 1\n",
        "        [1, 1, 1, 1, 1, 1]   # Attention mask for sentence 2\n",
        "    ],\n",
        "    [  # sample 2\n",
        "        [1, 1, 1, 1, 1, 1],  # Attention mask for sentence 1\n",
        "        [1, 1, 1, 1, 1, 1]   # Attention mask for sentence 2\n",
        "    ]\n",
        "]\n",
        "```\n",
        "2. pooled Output looks like\n",
        "\n",
        "\n",
        "```\n",
        "pooled_outputs = [\n",
        "    [tensor_1_1],  # pooler_output for Batch 1, Sentence 1\n",
        "    [tensor_1_2]   # pooler_output for Batch 1, Sentence 2\n",
        "]\n",
        "\n",
        "```\n",
        "Here, tensor_1_1 and tensor_1_2 are tensors of shape (1, 768) representing the pooled outputs (fixed-size sentence embeddings) for the two sentences in the first batch.\n",
        "\n",
        "When you execute pooled_outputs_tensor = torch.stack(pooled_outputs, dim=1), it stacks the pooled output tensors along dimension 1. The resulting pooled_outputs_tensor would have the shape (1, 2, 768):\n",
        "\n",
        "```\n",
        "[\n",
        "    [\n",
        "        [tensor_1_1],  # pooler_output for Batch 1, Sentence 1\n",
        "        [tensor_1_2]   # pooler_output for Batch 1, Sentence 2\n",
        "    ]\n",
        "]\n",
        "\n",
        "```\n",
        "3. \n",
        "In the example, the pooled_outputs_tensor has a shape of (1, 2, 768), where the first dimension corresponds to the batch, the second dimension corresponds to the sentences within the batch, and the third dimension corresponds to the hidden size of the BERT model's output.\n",
        "\n",
        "The line concatenated_output = torch.mean(pooled_outputs_tensor, dim=1) computes the mean of the pooled_outputs_tensor along dimension 1 (i.e., the sentences dimension). By doing this, we are effectively averaging the sentence embeddings within each batch. The result is a single tensor representing the entire batch, with a shape of (1, 768).\n",
        "\n",
        "In this specific example, the concatenated_output tensor would be:\n",
        "```\n",
        "[\n",
        "    [tensor_mean_1]  # Mean of pooled_outputs for Batch 1 (shape: (1, 768))\n",
        "]\n",
        "\n",
        "```\n",
        "\n",
        "4. batch_pooled_outputs\n",
        "\n",
        "\n",
        "```\n",
        "batch_pooled_outputs = [\n",
        "    [tensor_mean_1],  # Averaged sentence representation for sample 1\n",
        "    [tensor_mean_2]   # Averaged sentence representation for sample 2\n",
        "]\n",
        "\n",
        "```\n",
        "\n",
        "5. Finally Batched Pooled Output is send to the fully connected layer of classification"
      ],
      "metadata": {
        "id": "EgHNC1L65FKw"
      }
    },
    {
      "cell_type": "code",
      "source": [
        "len(train_loader)"
      ],
      "metadata": {
        "colab": {
          "base_uri": "https://localhost:8080/"
        },
        "id": "nPZcaUQvPORT",
        "outputId": "769582f6-e6df-4056-d3df-95dbad3f011e"
      },
      "execution_count": null,
      "outputs": [
        {
          "output_type": "execute_result",
          "data": {
            "text/plain": [
              "625"
            ]
          },
          "metadata": {},
          "execution_count": 6
        }
      ]
    },
    {
      "cell_type": "code",
      "source": [
        "import torch\n",
        "import torch.nn as nn\n",
        "import torch.optim as optim\n",
        "from torch.utils.data import DataLoader, Dataset, random_split\n",
        "from datasets import load_dataset\n",
        "from accelerate import Accelerator\n",
        "from tqdm import tqdm\n",
        "\n",
        "accelerator = Accelerator()\n",
        "device = accelerator.device\n",
        "\n",
        "model = FineTunedBertClassifier(n_classes=2)\n",
        "optimizer = optim.Adam(model.parameters(), lr=1e-5)\n",
        "\n",
        "model, optimizer = accelerator.prepare(model, optimizer)\n",
        "\n",
        "criterion = nn.CrossEntropyLoss()\n",
        "\n",
        "train_loader, test_loader = accelerator.prepare(train_loader, test_loader)\n",
        "# We are saving the intermediate model after every 100 batches.\n",
        "# This is a good practice if you have to train the model for many epochs.\n",
        "# There could be system failures or other issues.\n",
        "# Thus, you can restart your training from where you left off.\n",
        "# Adjust the save interval based on your needs.\n",
        "save_interval=100\n",
        "\n",
        "# Training loop\n",
        "num_epochs = 3\n",
        "\n",
        "for epoch in range(num_epochs):\n",
        "    model.train()\n",
        "    train_loader_progress = tqdm(enumerate(train_loader), desc=f\"Epoch {epoch + 1}/{num_epochs}, Training\", total=len(train_loader))\n",
        "    for batch_idx, batch in train_loader_progress:\n",
        "        input_ids = batch['input_ids'].to(device)\n",
        "        attention_mask = batch['attention_mask'].to(device)\n",
        "        labels = batch['label'].to(device)\n",
        "\n",
        "        optimizer.zero_grad()\n",
        "        logits = model(input_ids, attention_mask)\n",
        "        loss = criterion(logits, labels)\n",
        "        accelerator.backward(loss)\n",
        "        torch.nn.utils.clip_grad_norm_(model.parameters(), 1.0)\n",
        "\n",
        "        optimizer.step()\n",
        "\n",
        "        if batch_idx % 10 == 0:\n",
        "            train_loader_progress.set_postfix(loss=loss.item())\n",
        "        if (batch_idx + 1) % save_interval == 0:\n",
        "            model_save_path = f\"/Users/premtimsina/Documents/bpbbook/chapter6/model/AlbertTextClassifier_epoch{epoch + 1}_batch{batch_idx + 1}.pt\"\n",
        "            torch.save(model.state_dict(), model_save_path)\n",
        "    model.eval()\n",
        "    total_correct = 0\n",
        "    total_samples = 0\n",
        "    test_loader_progress = tqdm(test_loader, desc=f\"Epoch {epoch + 1}/{num_epochs}, Testing\")\n",
        "\n",
        "    with torch.no_grad():\n",
        "        for batch in test_loader_progress:\n",
        "            input_ids = batch['input_ids'].to(device)\n",
        "            attention_mask = batch['attention_mask'].to(device)\n",
        "            labels = batch['label'].to(device)\n",
        "\n",
        "            logits = model(input_ids, attention_mask)\n",
        "            _, preds = torch.max(logits, dim=1)\n",
        "            total_correct += (preds == labels).sum().item()\n",
        "            total_samples += labels.size(0)\n",
        "\n",
        "    accuracy = total_correct / total_samples\n",
        "    print(f\"Epoch {epoch + 1}/{num_epochs}, Accuracy: {accuracy:.4f}\")"
      ],
      "metadata": {
        "id": "IgQeyJWPIFKj"
      },
      "execution_count": null,
      "outputs": []
    },
    {
      "cell_type": "markdown",
      "source": [
        "![Screenshot 2023-04-15 at 5.20.11 PM.png](data:image/png;base64,iVBORw0KGgoAAAANSUhEUgAABfYAAAB2CAYAAACK9cJSAAAMQGlDQ1BJQ0MgUHJvZmlsZQAASImVVwdYU8kWnluSkEAIEEBASuhNEKkBpITQQu8IohKSAKHEGAgqdnRRwbWLBWzoqoiCFRALithZFHtfLKgo62LBrrxJAV33le/N982d//5z5j9nzp259w4AtONcsTgP1QAgX1QoiQsJYIxJSWWQngIU0IAmYAItLq9AzIqJiQCwDLZ/L++uA0TWXnGQaf2z/78WTb6ggAcAEgNxBr+Alw/xAQDwKp5YUggAUcabTy4UyzCsQFsCA4R4gQxnKXCVDGco8B65TUIcG+I2AFTUuFxJFgDqlyDPKOJlQQ31PoidRHyhCAAaA2Lf/PyJfIjTIbaBNmKIZfrMjB90sv6mmTGkyeVmDWHFXORFJVBYIM7jTv0/0/G/S36edNCHFaxq2ZLQONmcYd5u5k4Ml2E1iHtFGVHREGtB/EHIl9tDjFKypaGJCnvUkFfAhjkDuhA78bmB4RAbQhwsyouKUPIZmcJgDsRwhaBThIWcBIj1IF4gKAiKV9pskkyMU/pCGzIlbJaSP8uVyP3KfN2X5iaylPqvswUcpT6mXpydkAwxBWKLImFSFMTqEDsW5MaHK21GF2ezowZtJNI4WfwWEMcJRCEBCn2sKFMSHKe0L8svGJwvtilbyIlS4n2F2QmhivxgbTyuPH44F+ySQMRKHNQRFIyJGJwLXxAYpJg79kwgSoxX6nwQFwbEKcbiFHFejNIeNxPkhch4M4hdC4rilWPxpEK4IBX6eKa4MCZBESdenMMNi1HEgy8FEYANAgEDSGHNABNBDhB29Db2wjtFTzDgAgnIAgLgoGQGRyTLe0TwGg+KwZ8QCUDB0LgAea8AFEH+6xCruDqATHlvkXxELngCcT4IB3nwXiofJRrylgQeQ0b4D+9cWHkw3jxYZf3/nh9kvzMsyEQoGemgRwZt0JIYRAwkhhKDiba4Ae6Le+MR8OoPqzPOxD0H5/HdnvCE0El4SLhG6CLcmiAskfwUZSTogvrBylxk/JgL3ApquuEBuA9Uh8q4Lm4AHHBX6IeF+0HPbpBlK+OWZYXxk/bfZvDD01DakZ3IKHkY2Z9s8/NIdTt1tyEVWa5/zI8i1oyhfLOHen72z/4h+3zYhv9siS3A9mNnsBPYOewI1ggYWAvWhLVjR2V4aHU9lq+uQW9x8nhyoY7wH/4Gn6wskwVOtU49Tl8UfYWCKbJ3NGBPFE+VCLOyCxks+EUQMDginuMIhrOTswsAsu+L4vX1Jlb+3UB0279zc/8AwKdlYGDg8HcurAWAvR5w+x/6ztkw4adDFYCzh3hSSZGCw2UXAnxL0OBO0wfGwBzYwPk4A3fgDfxBEAgD0SABpIDxMPpsuM4lYDKYDuaAUlAOloJVYB3YCLaAHWA32AcawRFwApwGF8AlcA3cgaunG7wAfeAd+IwgCAmhInREHzFBLBF7xBlhIr5IEBKBxCEpSDqShYgQKTIdmYuUI8uRdchmpAbZixxCTiDnkE7kFvIA6UFeI59QDFVDtVEj1AodiTJRFhqOJqDj0Cx0ElqMzkMXo2vQanQX2oCeQC+g19Au9AXajwFMFdPFTDEHjImxsWgsFcvEJNhMrAyrwKqxOqwZPucrWBfWi33EiTgdZ+AOcAWH4ok4D5+Ez8QX4evwHXgD3oZfwR/gffg3ApVgSLAneBE4hDGELMJkQimhgrCNcJBwCu6lbsI7IpGoS7QmesC9mELMIU4jLiKuJ9YTjxM7iY+I/SQSSZ9kT/IhRZO4pEJSKWktaRephXSZ1E36oKKqYqLirBKskqoiUilRqVDZqXJM5bLKU5XPZA2yJdmLHE3mk6eSl5C3kpvJF8nd5M8UTYo1xYeSQMmhzKGsodRRTlHuUt6oqqqaqXqqxqoKVWerrlHdo3pW9YHqRzUtNTs1tlqamlRtsdp2teNqt9TeUKlUK6o/NZVaSF1MraGepN6nflCnqzuqc9T56rPUK9Ub1C+rv6SRaZY0Fm08rZhWQdtPu0jr1SBrWGmwNbgaMzUqNQ5p3NDo16RrjtKM1szXXKS5U/Oc5jMtkpaVVpAWX2ue1hatk1qP6BjdnM6m8+hz6Vvpp+jd2kRta22Odo52ufZu7Q7tPh0tHVedJJ0pOpU6R3W6dDFdK12Obp7uEt19utd1Pw0zGsYaJhi2cFjdsMvD3usN1/PXE+iV6dXrXdP7pM/QD9LP1V+m36h/zwA3sDOINZhssMHglEHvcO3h3sN5w8uG7xt+2xA1tDOMM5xmuMWw3bDfyNgoxEhstNbopFGvsa6xv3GO8UrjY8Y9JnQTXxOhyUqTFpPnDB0Gi5HHWMNoY/SZGpqGmkpNN5t2mH42szZLNCsxqze7Z04xZ5pnmq80bzXvszCxiLSYblFrcduSbMm0zLZcbXnG8r2VtVWy1XyrRqtn1nrWHOti61rruzZUGz+bSTbVNldtibZM21zb9baX7FA7N7tsu0q7i/aovbu90H69fecIwgjPEaIR1SNuOKg5sByKHGodHjjqOkY4ljg2Or4caTEydeSykWdGfnNyc8pz2up0Z5TWqLBRJaOaR712tnPmOVc6X3WhugS7zHJpcnnlau8qcN3getON7hbpNt+t1e2ru4e7xL3OvcfDwiPdo8rjBlObGcNcxDzrSfAM8JzlecTzo5e7V6HXPq+/vB28c713ej8bbT1aMHrr6Ec+Zj5cn80+Xb4M33TfTb5dfqZ+XL9qv4f+5v58/23+T1m2rBzWLtbLAKcAScDBgPdsL/YM9vFALDAksCywI0grKDFoXdD9YLPgrODa4L4Qt5BpIcdDCaHhoctCb3CMODxODacvzCNsRlhbuFp4fPi68IcRdhGSiOZINDIsckXk3SjLKFFUYzSI5kSviL4XYx0zKeZwLDE2JrYy9kncqLjpcWfi6fET4nfGv0sISFiScCfRJlGa2JpES0pLqkl6nxyYvDy5a8zIMTPGXEgxSBGmNKWSUpNSt6X2jw0au2psd5pbWmna9XHW46aMOzfeYHze+KMTaBO4E/anE9KT03emf+FGc6u5/RmcjKqMPh6bt5r3gu/PX8nvEfgIlgueZvpkLs98luWTtSKrJ9svuyK7V8gWrhO+ygnN2ZjzPjc6d3vuQF5yXn2+Sn56/iGRlihX1DbReOKUiZ1ie3GpuGuS16RVk/ok4ZJtBUjBuIKmQm34I98utZH+In1Q5FtUWfRhctLk/VM0p4imtE+1m7pw6tPi4OLfpuHTeNNap5tOnzP9wQzWjM0zkZkZM1tnmc+aN6t7dsjsHXMoc3Ln/F7iVLK85O3c5LnN84zmzZ736JeQX2pL1UslpTfme8/fuABfIFzQsdBl4dqF38r4ZefLncoryr8s4i06/+uoX9f8OrA4c3HHEvclG5YSl4qWXl/mt2zHcs3lxcsfrYhc0bCSsbJs5dtVE1adq3Ct2Liaslq6umtNxJqmtRZrl679si573bXKgMr6KsOqhVXv1/PXX97gv6Fuo9HG8o2fNgk33dwcsrmh2qq6YgtxS9GWJ1uTtp75jflbzTaDbeXbvm4Xbe/aEbejrcajpman4c4ltWittLZnV9quS7sDdzfVOdRtrtetL98D9kj3PN+bvvf6vvB9rfuZ++sOWB6oOkg/WNaANExt6GvMbuxqSmnqPBR2qLXZu/ngYcfD24+YHqk8qnN0yTHKsXnHBlqKW/qPi4/3nsg68ah1Quudk2NOXm2Lbes4FX7q7Ong0yfPsM60nPU5e+Sc17lD55nnGy+4X2hod2s/+Lvb7wc73DsaLnpcbLrkeam5c3Tnsct+l09cCbxy+irn6oVrUdc6rydev3kj7UbXTf7NZ7fybr26XXT7853Zdwl3y+5p3Ku4b3i/+g/bP+q73LuOPgh80P4w/uGdR7xHLx4XPP7SPe8J9UnFU5OnNc+cnx3pCe659Hzs8+4X4hefe0v/1Pyz6qXNywN/+f/V3jemr/uV5NXA60Vv9N9sf+v6trU/pv/+u/x3n9+XfdD/sOMj8+OZT8mfnn6e/IX0Zc1X26/N38K/3R3IHxgQcyVc+a8ABiuamQnA6+0AUFMAoMPzGWWs4vwnL4jizCpH4D9hxRlRXtwBqIP/77G98O/mBgB7tsLjF9SnpQEQQwUgwROgLi5DdfCsJj9XygoRngM2RX3NyM8A/6Yozpw/xP1zC2SqruDn9l8Kz3x0MMhyTwAAAIplWElmTU0AKgAAAAgABAEaAAUAAAABAAAAPgEbAAUAAAABAAAARgEoAAMAAAABAAIAAIdpAAQAAAABAAAATgAAAAAAAACQAAAAAQAAAJAAAAABAAOShgAHAAAAEgAAAHigAgAEAAAAAQAABfagAwAEAAAAAQAAAHYAAAAAQVNDSUkAAABTY3JlZW5zaG90cdk8dgAAAAlwSFlzAAAWJQAAFiUBSVIk8AAAAddpVFh0WE1MOmNvbS5hZG9iZS54bXAAAAAAADx4OnhtcG1ldGEgeG1sbnM6eD0iYWRvYmU6bnM6bWV0YS8iIHg6eG1wdGs9IlhNUCBDb3JlIDYuMC4wIj4KICAgPHJkZjpSREYgeG1sbnM6cmRmPSJodHRwOi8vd3d3LnczLm9yZy8xOTk5LzAyLzIyLXJkZi1zeW50YXgtbnMjIj4KICAgICAgPHJkZjpEZXNjcmlwdGlvbiByZGY6YWJvdXQ9IiIKICAgICAgICAgICAgeG1sbnM6ZXhpZj0iaHR0cDovL25zLmFkb2JlLmNvbS9leGlmLzEuMC8iPgogICAgICAgICA8ZXhpZjpQaXhlbFlEaW1lbnNpb24+MTE4PC9leGlmOlBpeGVsWURpbWVuc2lvbj4KICAgICAgICAgPGV4aWY6UGl4ZWxYRGltZW5zaW9uPjE1MjY8L2V4aWY6UGl4ZWxYRGltZW5zaW9uPgogICAgICAgICA8ZXhpZjpVc2VyQ29tbWVudD5TY3JlZW5zaG90PC9leGlmOlVzZXJDb21tZW50PgogICAgICA8L3JkZjpEZXNjcmlwdGlvbj4KICAgPC9yZGY6UkRGPgo8L3g6eG1wbWV0YT4KdEepkgAAABxpRE9UAAAAAgAAAAAAAAA7AAAAKAAAADsAAAA7AABWpPC6QjMAAEAASURBVHgB7J0J3G7V9Md3k1uaUyENV9FAKqXxSqG6KUOJipQ0oJCrQYPbzVSGm7FUiorccJEmFNGAUoaEiCKapEKlJOT97+/+W8d697v3GZ5znuF971qfz/s+z3POPvvs8zt7WOu31157oTEvzsQQMAQMgRFH4Oabb3Ynnniiu/rqq93DDz8cSrv++usXpV5nnXXc3Llzi9/2xRAYJAIPPPCAO/TQQ929994bbksdvfXWW4sibLnllu7II490G2ywQXHMvhgChoAhMNUQuOaaa9xee+2Vfawll1zSnX/++W6ttdbKprEThoAhYAgYAobAMBB49NFH3THHHOMYy+6+++5QhHXXXdctuuii4ftyyy0X7NGVV155GMWzexoChoAhkERgISP2k7jYQUPAEBgxBM455xx33HHHlZbqhhtucEsvvXRpGjtpCPQDgeuvv97ttttupVnPmjXLHXLIIaVp7KQhYAgYApMZgbK+cNddd3WzZ892yy+//GR+RCu7IWAIGAKGwBRF4KabbnI77bRT6dOdeeaZbtttty1NYycNAUPAEBgkAkbsDxJtu5chYAj0jMBDDz3kLrnkEvfII48k81hzzTXdjBkzkufsoCHQbwQee+wxd+GFFzrqaUqWWGIJt9122zk8fUwMAUPAEJjKCPzqV79yt9xyi3vwwQfdiiuu6BifV199dTdt2rSp/Nj2bIaAIWAIGAKTHAGCWVx66aXFCtz4cdDjd9hhBxvPYmDstyFgCAwVASP2hwq/3dwQMAQMAUPAEDAEDAFDwBAwBAwBQ8AQMAQMAUPAEDAEDAFDwBBohoAR+83wstSGgCFgCBgChoAhYAgYAoaAIWAIGAKGgCFgCBgChoAhYAgYAobAUBEwYn+o8NvNDQFDwBAwBAwBQ8AQMAQMAUPAEDAEDAFDwBAwBAwBQ8AQMAQMgWYIGLHfDC9LbQgYAoaAIWAIGAKGgCFgCBgChoAhYAgYAoaAIWAIGAKGgCFgCAwVASP2hwq/3dwQMAQMAUPAEDAEDAFDwBAwBAwBQ8AQMAQMAUPAEDAEDAFDwBBohoAR+83wstSGgCFgCBgChoAhYAgYAoaAIWAIGAKGgCFgCBgChoAhYAgYAobAUBEwYn+o8NvNDQFDwBAwBAwBQ8AQMAQMAUPAEDAEDAFDwBAwBAwBQ8AQMAQMgWYIGLHfDC9LbQgYAoaAIWAIGAKGgCFgCBgChoAhYAgYAoaAIWAIGAKGgCFgCAwVASP2hwq/3dwQMAQMAUNglBH44Ac/6E477TR36qmnupkzZyaLesIJJ7hvfvObyXN1Dz7wwANumWWWcQsttFDdSyak+9Of/uRWXnnlVnn87W9/c0svvfSEvOse+Pe//+3uv/9+t+KKK9a9JJlu//33d3vvvXfy3OWXX+44v99++7nZs2cn09hBQ8AQMAQMAUPAEDAEDAFDwBAwBAwBQ2CqI2DE/lR/w/Z8hoAhYAgYAj0j8O53v9udffbZ7mMf+5h7yUteksznrW99q7vooouS5ybbwUUWWcQ99thjQy/2IYcc4mbNmpUsx6WXXuoOOuggt9dee7n3vOc9yTR20BAwBAwBQ8AQMAQMAUPAEDAEDAFDwBCY6ggYsT/V3/AIP98111wTvC3f8pa3uF122WWES2pFK0MAT+OFF164lZdvWf51zkFE3nfffcFLGGLSxBDoCgEj9rtCslk+Ruw3w6vr1J/+9Kfd/Pnzw4TWuuuu23X2lp8hYAgYAoaAITBpEGBF5Bve8Aa38cYbuzlz5tQqt9kmtWCyRIaAIWAIGAIdIGDEfgcgdpHF2NiYu/XWW93f//73kN1qq63mll122S6yHsk8UHZe+MIXuttuu83tuuuu7kMf+lCtcoJTm1AVtW5iiWojcMopp7gTTzwxpCcUydOe9rTa13aV8K9//avbYYcd3J///Ge32267ublz53aVteXTEoG27bXt9S2LHy43Yr8LFJvnMRmJ/f/85z9hkrPJ045CHY/L+4c//ME9//nPD4cJRfWKV7wiTlL5e6pgUfmglsAQGDACXfQZXeTRxWO3LUfb67t4BsujewRG8b0eeeSR7ktf+pJ7whOe4H74wx9WPvSCbpswEXLvvfeOwwn7fe2113aLLbbYuOP2ozcERqGddF2GXvPr9TqNfBd56PzsuyEwaASM2B804pn7zZs3zx177LHF2Z122smdfPLJxe9hfYEsvfbaa933vvc9d/XVVwcC9ZhjjmldnIsvvthB3CDnnnuu22KLLbJ5/uQnP3Ff+MIX3HXXXRcmApZcckm3wQYbuNe85jXuRS96UfY6O9F/BIhxfcUVV4QbnXHGGWGypv93HX+H66+/PhD6HMWz9Otf//r4BParNgJdtPef//znwdP329/+tiNe+zbbbBNi0+fC2KQK941vfCO8R+oW8d4hGSEXn/3sZ6eSjzvGpOFll13mbrrpJvevf/3LrbPOOqHfmjZt2rh0dX8YsV8XqW7TTQZi/xe/+IX7/ve/76jzjFN33323Y3xioprJxpywWo0xkOvIA6Jgo402CvsGlI2F5Pf73//eXXjhhYUTQOoeq6++unv1q1+dOlXrGLoIOgny05/+NOz9UHUhz06b55nok2+++eaABfskvP3tb89eziTC5z73Ofezn/0skCUyvtNf7L777qUTJQ899JD7/Oc/HyZ1czdgrwfyYf+KySA4d/z4xz921BH6v0UXXTS870GXnXpGGb773e+G9/Le9743u8eILhv9LvWTiZ0yYZXfa1/7WvfEJz6xLFnrc23w/PKXv+x++9vfOoz9lPBucExZa621Uqc7P9ZmXKQw7H/ymc98xl155ZVBp0df2nbbbcNeJk9+8pM7L28uw2HrCLlyTabjkMaf/exn3SOPPFJZbMYivMwHJf/4xz/cy172MveXv/zFPfOZz3Qf+chH3PLLL196e/S2r371q6FeMubg9PXUpz7VbbLJJu7Nb36zY0wbptx5551u6623DkUgRKDYr2VlWpBtE+0cEGP0vve9z+2xxx7xYftdE4Eu+s+atypN1nY8kszpwwiviS5Mm+EP2XTTTQM/VLYKH50TXRVMsF/pM9Zff/0QqrPOStMHH3zQnX/++e6CCy5wv/nNb9zDDz/snv70p7vNN9/cEU1ipZVWkmLapyEwKRAYGrHPIA5ZS/iMJkJD32qrrZpcMinSQkS9/vWvL8oKkcVS+GEJ3gjELqaj1QLpABHfRjCSdt5550C8QdDTqeYEY/LMM8/MnXYvfelLg9I4ql78GOY33HBDtvypExCZ++yzTzDoU+dH6RhxrhmQEeqreHkOsoy/+tWvQn3ingzokAomzRDoqr1Dbua8e/F2YhlzlWCsvvOd70wmq5oERLGDSIRc0oKyR5x8VkI1FSP2myLWTfpRJvYhLU8//XSHN3tKWMX08pe/fMIpyBjGNAiMnBxwwAGubPJcNnPOXS/H6ZcxUJrKPffcU0y0v/GNbywl5SVvxjmMIIyiWCDV3//+98eHwz4On/zkJ4sVXxMS+APoe2eddZZ7/OMfnzrtZBPl5El18Pjjj3evetWr1JH+fE3ptRDYkFxVxBTejUcffXQg8+PSMUlSZtzG6dv8xkj+xCc+ESapdD6HHnpoINj0sdR36sHXvva11KkJx8r2LZmQuOGBtnhi8DPZViVMQPEc/ZY24yJlo25CSKbeDXUTe+xJT3pSvx8jTIAOU0fo+wMO6AaxM1jZben76AMHJfQfehU2pNmznvWs7O1//etfO/RDJndzgqMbDm/DEvATm/xHP/qRW2GFFSqL0sY2YXIdPfbjH/+4G+SkW+VD1UzApA5OPSmd4F3velfQ02tmZckUAl3YWCq7nr+2HY/kxjgQHHzwwRNsNs5jt11yySXJ1R2MZ+xtVubIhz514IEHyq0mfNI+999//wm6jiTEyQSbs6zvkrRMRlx11VXyM3wysTBz5sxxx+yHIdBvBIZG7EMYQ8o2FRRPPMenomjFe9jEPsQaHXcsXRD7eIDhqYWceuqp2Y4PY1Y6RTpYDKjnPve5DnIEokAUhhNOOMHtueeecVFH4veaa67ZUznwFBukh01PhfQXQR7hMbnKKqu4ww8/vJay2+u9ctc9+uijwSjAO5y9Gpp4hufyXNCOd9He//jHP7oZM2YE6GivKFTLLbdc8KagLSNVRI6e4ESpY3NUvDlOO+20or1D5q2xxhohv/gfnl0oetwfjyC89CFR8Sbute8yYj9GeTC/R5XYh/A77LDDgnc6SOBtD3lNaDmMfXSUxRdfPAmSLOXnJHWUZ0T5v+OOOxzjmIxpZSTGBz7wAQchjuTI4mc84xmBWFliiSVCuib/PvzhDxerBfHYLvOoZpL+ox/9qDvppJOKW0Da0QeDw8orr5wNKUi7BEcRHBsg8v/5z38GvUCcCliZRxtMiSb2c1hQfiZTepnkSN2z7FjO6MYA5a9M8H5705velEwySGKfekxYSIS6zWQpUpfYZwyGoON9cH0s9Ocy8frFL34xvPM4TRe/2+LJ3kGyQoznoL3GwoQTbXjHHXeMTzX6zQoNxj68BPGgj6XtuEh+9C+f+tSnQtbo0ZCkEKp48COMt4RT7OcE0ijoCOFhp8A/Jo8JhUm9JLRJSsTzlX4217ekrmtz7K677gp2ms6jitin35d+BuccVpvhhIHDCcS2SJnuJ2n68YnNycoBhFXKs2fPrnWbXm0TxkDxNuYdt+1fahW2T4no71k5i2AfoOMYsd8b2F30n73defxVXYxH5Mh4g/OIyPOe97yw+h5djRU+ZbonOjC6MELbZNKaCTB0C/Q9bD6E8U1W2oQD6p92QiAPVjZNnz49TH6LgyB6DLpElS7NBAH9UyysJEjpDnE6+20IdIXA0Ih9BjyWY7HcjsGbzp7KL4p0/IB432DckIaGMlWFJeuQusMm9lFkfvCDHwTlar311gszqt/61rd6Jsf0+4KsgzCgw2QZVc6QQLlhCSek8Stf+cpxZMnvfvc7t91224VseyXsdJn68Z1lz6Jwo6QREgCh7lPnEYyppzzlKeE7/wh5hLBKIWXghZP2zxDoGIEu2jsGGCQfAoHwghe8IHwnxiYkAoZb1YoKyHjaBv08nhrSNugv6DeQnBcxE6NC3uHli7cQwvJKMYzqhhUJF/73nxH7Go3BfR9VYl+vImOchoSvUvoFNVnhRL+PJ5A2XAj5sf3224eknGdsTIkQ+/3QEQhts+WWWwZ9jMlyyMAy0YYZ4znOAHzWEe3xFU9kE8qBNot+iBAOMLUkWhP76ATDFnQmCYHEqsTnPOc5Qb/BYGSSo0wgP/D4WmqppYKHGLGcIUCQQRL74Eifid7HBKo4J9Ql9iERmbTJrRgRUoA+nv44p/+VYVXnXFs8NbHPqlJWl3YpjFdggXOLeCpDLvDeY2kzLpIX7VrKj42Fd77EuNbjdr9XXep7DUNHiHGdzL+pJ0wU4xlPOKhYWA2/2WabhcOs0qA9D0LEuYIJQhnDqoh96WOYEGZFmg6byNggodxwCDvuuOMG8Rjj7qH3EiOMVS8rP8dlWPGD8Y/JeQQbmBVfU0HwfDZiv/c32UX/2fvd/3dl2/GInCDedfSNppyHTAZi80HC6z6DyUWcQqlr6NTiCPO/J/j/b9iV6LA4oxAyTIt2wmG8lL5Up9Hf0ZnQ/3B2oTwyqYqzBw5uJobAwBDwlXDo8rrXvW7MG7JjfObEL/UOaTwxlEvS6XGvCI95j7Ex31jHPBHbU96e0BrzS/bG/HKfMe/lV+ThCd8xb3QUv/WXI444Ijyn9wooDvslbSEfH7NujGuHId6bLpTLL+lsdXtvwIR8eN/eW6tVXl7JG2idaFpYP6gUz+oN9uJybzAWxy+66KLiuA/vUBz3pGZxvO4X77E+5j2/xqgvVUL9pm6Tnj8/yI5x/2GJH4jHPKEbyjGsMtC2PIEy5gfisfvvv39YxRiJ+zZt72DnSaxQf2mXsZxzzjlF3fYTs/Hp8NsTm0UaT3ZMSOM9zsJ5xgBv+Ew4r9ub92wpznuPoSJf74laHK/7xZNr4XqvrGUv8SR0cQ/6tsn85zfAHonye4M2izf9Ixh7z7lsmn6c8MuGC2x8yKfsOJ67t19NMkb7oK6nxE9aFflTn1PiV6uFNFpHSKXr5Zgn9or733LLLaVZoMP4ybOQnjbpnS9K08cnvbfwGBh6h4H4VPjtif+iLHr81Im/853vFGn08WF994ZiUR5Pbrcqhg8dVuQ1LL2PB5C+zK/KqP08Of2WDKSOD7rtNsUTHUCe3YdTrP3sVQl9zP8xv8qxaDtyDz8RHnSP+Pq24yL5oWvLfdD3tFC3aL+cZ9zvl4yCjtCvZxtWvmXtTPpP+uhBiV9NH+oR9Qn7Weocdl+ZeDJ/zK9oGqNtxOInwIr66cPbxacn/EY3xFamnqNrij1E/cPmadqXUiZpH29729sm3K8fB7TO6icV+3GLoeQpOFI3exG4GGw03qvmVOrkhX3rnYsCH+MdBcbQ5bzzYLiU49jAVULdwbZgPKB+8Z36iVDncjpbVb51znfRf9a5T1WaLsYj7uGJ86J/oN9oInBr0rf4SbfkpX6CMaTBLu1F4AHkHt4Jp1EWPox1ca13mmt0rSU2BNoiwOzS0KUOsY9hRyNjYBDxm9YVZBLnIMXp/HzswTFIIO95FtJjPKI40BmUCcQoRrMQVNKo+UTphpyqUgro2L1HX6EI6Dz8rOCYGM48R2oQ0MS+n/Eb85vDFh0EeVE27+VT9hh9OdeU6MsVQne2KXIud118nEEahRVMeL+jKHTo8v4hrUVyxD7nJb0mEX2YhuJZ5bz3bAnZoQBCglK35Byf3mswWVeZSPDeH+PSynXUraoJBd5Z6nreRdX79JvrFu2C+v+Vr3xlzHsSTWhv3rsxGAWCV+oT0kSURCk/n34TxlTycce812xxLXlggHhP8+KY5AcB4b2exl2b+gExhVFCH8G1vIu5c+cGg0IrL+AbG9VxfpTFxycdg7DqdUIxzrOX303bu1aCUko7Sq/gCtYp8V4VRRomQ2Ohvkge9P0pkb4b0ghlnT7dh/8prqvqv1N5GrE/nImKUST2ZfyiHvolv6nq0uqYjP/kz2RnSvpF7NPfSPuh76sS9Cxpj3zvWnR71+Ohvo8R+xqN8d/p+xgn0Tnpf3sVecdNiP3cvSDZJD+/OjGXbMLxLsbFYRP7PDtje6y3oC+g0+fGpi7GRbGxuHfqPrrfSZGr8QshD2wyv1ppDDuljlPIqOgI8bNM1d/YCLQ1H1ptII/IJAO6O/dE14colbZeRexXFVDGJeyMnECyovfJPfUn10se6INNBJtC8vrlL39ZeWkb2wTMmHyAOJZ70u8yCa7/SIMdOdlE+r6UjZB7Fvoa7zFd2FeCC5+8U0jUKizQH2IuRfLRx1OcDOXCtqWvkzok18qn2H4+JOOExyBP3if9X90/2kvcT3fRf04oXA8HuhiP0J0FO3TqpqIn3VNOYOQnjmD0Sb0IdUbKiINuEzFivwlalrZrBIYWikcvSSBmHZuvEXpEb5TKBqLEs2UZLEuRWVrjG1qxvO+8884Lcb0lL+JgsqRPwpzIcflk6S/L/HxHLoeKT08UhRhdhIsoEz8whZh/xOGKhWXFbALiB+f4VPI3oSYkVIskkFA88jv3SVxz4nEOStj0sm0oHm9cFpurHnXUUeM2C27yHL4RhB3MWRqOeGUuxD1skscg0hI+irAGiB8kQhgSvlOnZVM2lta9+MUv5nAQWapIPfUGXzimN2D6b7LwQZ0lrpvEq9Xn+M4Sb9mjgN/eOK61r0XZcmxPFrgNN9yQ7CYIS8+WXXbZCcflwDve8Y4Qj19+V32yTE6HqtDpWZ6q4zrLOU9IO+pWmbD8r24bpb17RT0ZLsAbwKHu5TZ/pr/xSt24ohBGg7BSKYnj3BOjmv0o+hWqIFUGOda0vRN2gTAjSG7ZtyydpF5Tv2ORkDfg5hVbF2+ITVgOxggktzkpS769V1VIE/+j/hEmg/AH3lsn7AGQi4Wur5Vyle0PQPxsP2mmL5u036lvhIkYtoxaKB7dbxNmhf7HG18hXAzh4urUpTJMiUVLjFF0EHSZ6667bkIb4HoJxUPYDk/Ah9CE9GfEFyXkG/FEc5vNlt1fhzzwpHo2LKLkwR5JjCmUlb6aenP77beHMaBsHJDrqz4lbBHpaLMSrkFfp0PxzJ8/P+h+LMMmNBKhDAjTRz86KNGheNirgHjzvQqxYXsNxcOeDdQlLVqn0MervgvudUPxlOUnG37Sx6MvLLroomXJw7muxsWmeHqyqGgDtDnaJ2MQISLXWWedsAdSnfAmtAnurW0bHozwdOhvufCjAoyMP23GRdk3AX0QvTAWbUthi5WF02JsoOzYZCK77bab884M8jP5OSo6QrJwU+ygJ36L8IPa9ujnY3qy1tFW6W/plz35Vtg/VaF4ysp14403FvtmEXJIb8or1/lJhaBXozeKMBbS9mIdnHFLQkZK2twndZ3xlPEV3TNuw6nrerVN2BvKk5ypLJPH6A/6GcosedOWB8W+ZVzzDnmVufH+iIOu32vqIrBAHxP7QKfR4QI5jr6yzDLLFPvIxGn9ilV9KHzX4Rc5AA+FPhjzRZQjDhVN7HfaYFNh82Q/IVtc1kX/WWTW4ksX4xG6CPumIcKDEbKV9lZXX5NwQLwLbE6tf1Nv/CRgyB9blrA6TYT3CpeAjsI7rauryD10ffETMhaKR4Cxz4EgMNLEvhgUEJcYABiPxFwWUp1OAOWSTgJlVAvxZ2UQgQDV5GdMitMJoKiKAkBsVwj6tdZaKyjxfpY+7AeAEYugMEDmPe5xjytuiRJDLC/p6FGM6RiI/4WBgMEXKwUphSsm9pncwDgkfhjEkXSGxMvMEYpFoTr80pToS916zpw5zns/hFO9xLpmYoDJhYsvvrgY6CFeMZrYaGXURA8u2ljSBFFM7GN4UadjUoBNzrzHV5jUknrEgOZDi4THps56rwFHfFyJ0Qohveqqqxaw+CV0oY4yUDEoQnBjVC688MIBV4ljqSfPiovVF94DxCjCgMczyPcyQodJASYp2MRL2gnXcV+UZ0gy7+lT7HJP3cdQSIn3oHDeC8LxiRx99NFB+a5D7KOk+xn4sOmd5I2yB/FLnD3OMzCL4eq97JKTgSheEBWIYEoc5XvuucexKaD0J5xH4US5QGlMEfXEuIeoi4XYgBJ3Oz7Xz99N27tfzVTEPs1NyAgRyMZ9GIGx0Oei5NF3xv05afWkEnUGUjMlGEgYf9I2UBSJcc0Yot8LGyJB0FSJKLJG7Fch1e35USP2NcHgPVwdv6lrIrRf76lTbHonx+t+akKgjEQVYj+XL+2HvKoIQ32997gN/Qxthgk42kmZMLmOfoQwybGGj8XONdKvUwbaKHpVL4LOJoZ/2R46mtjP3adXQjuXX9nxUSH2teEs5UUXhRxoKqKHl9XJunnKxrp19m8gzy7HxTbEfu75IObZU0CTCpIWmwN9PSZ10GsgbGgzdaSLcVHeYW4jasZbHKyQeL+LuIy5NpfbB0OuHyUdQco0VT+ZZGECB92HvjR2kuj6uYnnj82Nzisbv2vHpl6JfWx8+gq/0jUUORfrGj2ZcRFhbKaNoZMj2Cjo9sIBEMcfXa6OaLKdPXEYi6qkV9tEj3lV9+A8dhqkdcqeqHP9MNIIJ1OH2I8naxi/4BCw0ehv0VV477p/pW/S/SrOVzhAUi/RSdjXQ4h7Jmrpn7WDGOMj99FC/WHiEsHOZo8HcTjDVsQ+wG5BqHMxsY8Nm7J3wgUl/+K9M7roP0tuV/tUF+OROG2AF/s4MdEm9hrHDjjggDDJVVa34cNwqELQddFP6O/gSrDfeTdIHScV0tHX8P4h4oVj4Tjlow9qIkbsN0HL0naOQNdLAHrJT5aJ+oGqWPqivxMPvEx8R1tcx1Ivb1yNS86SJgmBQ74s5/MdfZGGuPFyv1y8LvLQy/AJtaHFdypFHnwnREosEk5I7kWcuFj0klhC/8TCsl25viy+Ynxd29+eMA337TXGvic7i3J7Bayn4uhnBwNCLdVZNtzTzTq4iDoDXoQK4rsIywblHRIaRwthSlg6lqobpGOZp1zLJ8tt/QSCziLcS99Pn2R5fu4cS3Ylb90+9PXxdx0KgeVxdUSWLXIv75U67hLCQUgZJNzQuASZH7Ls2G/InUkx/rCO0cfyyjjkjlfminKk6iuhlaSchD2SOJ5yF35zXNJ45U5OJT/9ZE+RVq7h00/SJNP3+2DT9u6V0KL8uTYp/TzvPyXET+WZc3FUWe4v2FThSf68Y8IvSL5yrVcaxzyRkSpC8piF4kmPy4Jnvz49OZ18Hxz0hlSoC4OM0+0ngor6V/bM3tjOljt3whukRd70R2X9r+6nKQfLv4n9i16jy8Vy/bpCKBC5lrJUiR7P5brUZ6rvrMr7zjvvHBeuhDAsOSGci74vY+fhhx8+IVzcoPpRP6lZlIexuo00DR2j70Xb0bjwnXrVi0g+ngDp5fLiGj9RXpSpbv/b5bjYFE/GMXl2wY+Qe+yRoY+j78dCfdNpsEu8A0QIDxenrfot41ev4yJ9iZSFviMlOswD/VyZxG1O8vbETNllY6OoI5QWeJKeRL+XkCF+gm8gTyEhJ6mjEpbJE2tFvSO0SC+CnS31ixCaOaFdko7nTtk3hFJhTxrSECajjvAcEqaF8KO9ShPbBN4AvkPbJ8T35lj812t5hnkd/SDvoE4oHvpLefe8O4mHH5df9+txH6nHHML5pISxSO4T23GkZz8UOU98+ZRIWXNhXwjLS951/1KhhbroP1Nlb3qs7XjE/TQHINjGn/A9VeFo/ebcxbuJr6cvaNLvxPwc+cX8TF2sLBRPXaQsXT8QGKkY+3HDlN9NiH1idudEx9+TDdt0HHQG75RSIPnRKcvAhBEtAsEuZYVsLjPKKZ+kZdCJRYj9nBHmZ5iL62NCN86ry99Nib743pqMQOHrReh46ezlHYAjAwRGyWSSMmK/6jk0sQ8WZXUtl5f3th/zXg5j1CUGIMgX78kQvkvdrEsKtSH2qVMpkQk03nNdaaI8k6dWnP3s/ITb0A9IPSNWXyza4NAbtep0HBc86xDR3sO1SM913D9Hkuv79ON70/auFZlcHyp50kemBKWY5y6bPBQ8MSRzQhxU8Jb3xzX0p8TIzMUtz+XFcSP2jdinHuixlzrF2INhgfHAhKzUTeodekVdYT8JuZZPJhXLhElFyEXGAt3/o4fofonxwXshlWVVnBNjjTYoxExxMvFFE4FSdgxgSHhITd329P4yiazGHWJsFDKFfFN9s76AfpwJQ+Ks8l2LnoihPExG9FtGhdhnjJf3Ip84t/Qicn1bYl90QN5FjqRJla+rcVETQLkxKr4/+jiOQ7E+RJvVE2noplq0rQF+5NPrPgdtx0Xslqp3iCOJpKmakAI7xnBJzyeT5VUySjpCVVkn83k98dKE2Or1mf3q66Iu6D2k2hL7eo8V6lvZmKpJTwhc7h2PffzGISB24sk9t8aR63qVprYJ94Hgl/blV+b3euuRu070gjrEvtYDyjgD9BXtRKV1fLgjwZE0xLpPOV0yXsZ9uICnCV/6MMj91PiBnuNXhchlnX920X92Uai24xHYyTuRTzgI3g18guTPOfakKRN4DMkj/sTmo2+qK/QvTNLHkw6UjYnBJqLfVVm/1SRPS2sI1EVgpELxEBOU+N4isiSKUDippa6SzpM4YalTahmUpOFTxx1k+SwhQfxsbbEE9ZhjjglLgPQ18XcdS1nCybDET5acEx6CJehlwvI5PxNZxA3UabmWpbBg4Q0RfSp8Z0mixOj2nWARlmhCwo4PNA3NoW/vB9cQa9GTEM6Tdu7444/Xpxt/98Z/WILHMjqE9074j6WWWqpxXsO4oCwUT1V5CL/kB5+QjFA0Sy+9dNUlxXlC6PiNF2stx2eZG0seq8R7d4Y4saRjyWJZKB7JS+K9Ek9SnkXO8amXHBJaqI5ImBdPHlfG2Cc/lg5vttlmIWuW6BMKKBZZckgoHJZ8amEJPs/uDY4iHI8+L9/33Xdf5xVD54m4IlSNnIs/WQrIcnb6JOJDewUjxIKM0w3id9P2rpdC00elQmPRb3GOZZMsj4xFsCLUmQ5xIunoMyWmMXE3U7H0OU68RRHeHf3CCiusEJbjEpKAPS3qxnEkHwvFI2gO9nPUQvHo5bWMObRrXc9Z5s2yXcQTecWeE2WooZOwzJuxEekibIzsWUR+9CUsQS8TwpJ5r/+QpCzclM4jjlsbhzdEN/KTBeGSXOgtnR/fCbVFH8A4gviJiRBeoU0YCd0v5fblCDfr6N+ohOLhcTwZEkI1EB6JftCTKj09pYRxYaxuEgNa34yxjTAWlIVxwBvL+nTp967GxaaheEoL5U+yZJ86ivBJ2xWhPRPCT3RUOe5JvrC3S5N30XZc9MRXEX4CvYWwJLGgP++1117hMPrXjBkz4iTjfvN82B+eOA62CnpQ1X4Jui0OU0cY9yBT8Ae2rZ+cGVgYHtHrZN8ZgTQOxUPotrp7v+gwG+SHTie6n+SvPxkzJFyKPs44TXhMQqeg72MnSH+m06W+0x5oF4yffgK/55A3TW0TykI4H2wAhLB63ukwfJ/s/+qG4tE2MiGeNC+UwgD9Q/o1wqgQ+lTkwAMPLPZllGN8En6VfYkI3UPd5ZoUz4Regi0mYQZ1HtgRhIfGZuEdbbzxxiG0rU7DPmmED/aEtj5c+n2xxRYLXJSEDSJxF/1n6U1rnmw7HvmJZudJ9+Ju2HHYbSIx3vBrOuy1pKNOCJdEaGrC+9DOb7nllqBfyPvK2feST+qTdu/J+SJ8F7xcLvRr6nptK6AnLLfccqlkdswQ6A8CdWcA+plOQjTwqQUvMu0Zz+xrKvwMHjXM1pG+TPTSWpbuIT4ubDHjV2dWXryOuB+71CN4/8tsIV5rbUQ89ll6lhLtHVG19DV1fa/HxNu2zJs2lzeeYoKP73RzyRofl/dO3szcThbpymO/yfN6JbtYngteeE5Q16jPnswZwytOe2GVhT/Q923jsY+Xa0poQ1JfUudTx5p6xWiP/auvvjqV5Zgs76Xux8LqHsroB/v41LjfnpwM6ep47I+7cMg/mrZ3vZIE75eUiCdEagUE6WU5d261EnVY6oXfqyN1i+C5w5iBBy/9I2FK5Br9Sb2tK+axbx771BXtsY8XTyzayy5Xx/U16A/iwUbdxKO4C9Ge6qwoqBK8bbk//X9Kv0pdrz326QtTIl50PGOVMCbKqgHKAn4pr7iqfOLzOmRQ3TBtcR5NfnuDsOhvqjyfq/KlPkif1QUWVffLnZcytPHYZ4yVfPyEeO5WfT3eDzxlTMO7NCV467FSTLdzcKBt4AlaZ3VMF+Oi6HaEqUqJn0gv3k+/vE5HRUdIPf9UOUaoTWlnqTGq6+dkFYrcD12LlSryJ7qv1Hc+ZaV8WTliL1w/CVSWvDjHanip51Km1GeVFzAZstJBroUjaCNNbRPupXWJBdFjH694wR/v5yrRqyti24A2QRgnyS/3id2RWxmAriY2X+56jsNhxWO1hIAquy51Lh5vu+g/q3Csc77teAQ++nl5P7HQRiVNbjySts57ifVW3qOMuUQA6EXIQ8qgecg6eZnHfh2ULE2/EBipUDwxsU8HIEt2ibtKI0sRy0Lw5gghAQ+iRxqqDBba4Kha9k0+LNWRPGTJFx2PHGNJYBuZasQ+MdJ4L+BTRYI2xU0b0fEg2DSvQaYfBrGvJ6RQ+FOx61gKJ/XYiP2xUmJf2inKRazISV3iOAoBmE51Yl8r1iky0Xv4FXVL+l7BST51HSV8QCy6vftNjuLTE34TXxbsUfCo80wYabKRdlhHjNg3Yp96osPo5ZaSVxF9Ut8IfSGGB3X09NNPl1OtP/X+H1WkBAar9Pm5Z0oVSBs9uXFd9DLyT7VnyZdzQn6QlvxE75M0vX5qI5J9CPotuo8yYv9/aMt4SZ1vuqz9f7m0+9YPYl/GkyrbA6ci9swSMkLaHBMCEJkxMaGftItxUSbNchMQOHdImbyno759Z99HUUfo7OFGJCMdvqYqpFsXRdYEuNSfss8qh4p4b4p4v7w6ZSZMFo4d6JlMMuCgo8cXylflYCbhQGnXbfsruXeTiWVN7A9qf5g62LZNIzpPla6hnz/lWBWXY/78+UX/lXPyY78WdDi/an3s2GOPDY5EODVImagX4vAZ5y+/Ca86b968Me+RHeoWE6UyBki9j2P5M5FNvk3+yDcO/9ZF/ynP0eazi/FI7GIwS4meaE5NBmq9Nfe+eUfyTnrVJ7VjWNkYHT+DEfsxIvZ7kAiMNLGvgfA7xodGSiccizYgMaxyopVXGSxRYqXxM2lQ5kHDwCAktVbk6TQkD+KDVXUibDIad9pSZjGAporHvlY08fLrUvDkENxR5KoEBY2OGvJF/qQeVF3b5flhEPuifDCg5kR7yhixX07sMwkodS9Hyuk0dYh9DBLaP30c76vXjXty77fJ8aYe+3oFBEpzLCi3gldOEWPTUUmDAh4L5Lycv+OOO+LTE35LrEa/FLM4Rx8ginxupUaR+L9fjNg3Yp+qAFEi9S+32kjqVuykoOtUTOpD+HUpesWTD7NTmrXoG5Sbybe6oglzYvmnBENW8MpNfuLRrGPpck0TAyp1X31Mb553yimn6FN9+T4qxD7xpFkpCbboqhiaub1gqoCQd9ir84Se1KW+NZWuxsWuiX0wFnugrL3r56VuM/7J2CTYQvjTD6TaSRfjoiYaUvVAyEf0wzIbSJ6FzbZ5ZspPm60Ty3gUdQSeh/Fd7AE+IYMnq2DD8k6ol9TPJtJLn4FNDDnKfeM/7eFMfWfCtmyMgRCV9sB4VNdTn2dkEhWdWZztUs+tib6ySVe9P4kPf5LKqtExaVtNiH09vrL/WRsZFbuXZxD9qIrYJ630kVxT5hhAWu0Vr/cyYUKVeslYmBPtpEA/HAu2MHW5bJJJR20o2/8rzrvJ7y76T32/Xto713cxHsnYQXtnEicW3RekJii1Qy6TACmRDY25B++4F2EvK+mTmuilery1GPu9IG/XtEFg0hD7PlZsaGB08rFoYh/FNBUKQhNLNNTbbrutyEa8WTieM7LpBAlXIo2ce2ph6bicw1M0pRyTBySTDG4pcl8M7alA7PO8KMrgAqHeVDAWUO5SWJKXeFWQv49NXpm9nvGWd5UaNCozaplgmMQ+z51SklBexEgljRH75cS+nuQDL4xBvAhYVki71n0S56uIfeq4Jri4hr+UEd6y+tW6vCmxT6bSB6YUcYw6nodzuQ2BmRCVvnHvvfceZ5hqvOuSKNL3xIqfGAyELKkjRuwbsU89wdiWOoUBGHvyMQZJu8UrLCWQlFLHSZuaWIaY97FDeyK4aSfaK7iMSIEEkfLi9NBU6PPk+liXwXlBnhNiIyWUVZM/Rx999ARi87rrrhvzex+N1ZnIS91D+h3KyfjfbxkVYl8TDfKOYp21LhZyfa/EPqEkJI/Uaq6ycnQ5LnZN7KPLy3M1XanLc13uJ7u1RyB5sSI4li7GRfodKSuhgbTojXNzTgo6vQ6JJ3nSL+b0dH3tqOkIetJJnqUOBvqZRuX77bffXrzjJiSylL/LPoM8NWFatYmvDjPCuEGd1AKpxph67rnn6sPFd9FXmWQmZG9KGEvkHefsfK7DMUXS1V3VmbqfHOuF2OdaKUNupRntEP2hjHAmn1GxeymL6AR1iH3tGU5Yp9SkJ3mCgWBFP6RF921loZbF8Y3yxSIOWpxLcUukp35KGejj+iVt+09drl7bexfjEU5rgle8woEyyvsgDbpkLDrEYmoiFu6JvoDreW+psYm2zQR1ig/hfn5vz6KMTA41ESP2m6BlabtGYKib5/qBP2zwNWfOHOeJxLC5lyfAkpsJ+OXlYUOM1Aa5XOMHinHXeWI8bBjlG3jYAMeTO8V5NllhEykRNhVlgxYRr2w7ryiETVV8hx023WXTUTZGQ9gwxYeCGLdxKRt1sPmKVxRDGr6zacv06dPDRrl+gHFeoXbegyyc5x+b1rGpI0I5vWLmwMIPxI7NQNiMi41+ZFMq7sGmdbJJDJvqbL755o02ggw3q/HPE5TOD2KO50fYpMST4I4Njb3SGI6xEdKqq66a3bSWzbW8N0dI6wfHgE/4UeOfV1rCxqQkZWMarxyFZ11nnXWcN/Kd99B33vMp5MTmRryPadOmleYMXt44LdLU3dSvuKDFF09mhnfPe/aERrFhMxtEslEystJKK7nVVlttwl14F2wI4xt/2ASIZ0fYZFkL9YQNl6S+6HPe27nYAJbn3nPPPQOunjgOOHrlSCcPm+xutNFGjg2vFllkkXDOK1bOk9ehPktiNnudO3du+MlmNnrzXDYAojxyvVcIQp1iUyrq8q677hrayNprr11sOORDbjlvgBebJbHJqh+cx20+Q90gnRY29vOTdWETa9q+FjY3YlMdEfBkQxtPEIdDXjFw2223XbHJJO+ITXs9ERLaPG2RDVSph3oTnyuvvLLIQ/LOfVZtnkudlnqg8/CksvMktz7Ul+9dtHc2ieI5Efo/Nqukvz7rrLOKjQV5N+CdE67xnrXhtPcEdGzi6wnUcI304WxI6Mn5XBbFcdlIl816eX/0E2w+zXtF6mwsSjrbPBcUBi/0jbNmzUremP6ezbLoS7wSnUzTj4N6U7+ZM2eGsZCNsTxxFspDH4SQLt583HsmOTYOR+9B6Ne8wRC+yz/6eBlfqav0PVo8cRzagjdWHPenf5Uxg/EZ/YHNxhA2OqVfzAk6jSexwmmti+TSx8fRV7wjRTjMs9Au0Q+8oeT8UvLQvjiZ68OkfUq+Rx11VDEOyDE/yeF8CMWg82idjfPeuAt6Gn0MG2KDFZvN0UfzHhiXpM/YZJNNnDcgi7FI8u/6Ex3RG6UhW09MuF122aX2LRhfGefRFRD0G9FrKTvjOs/GWIauUCZg6cMTTEhSZzN6xlfqKOMgwsaw8onewGbGSy+9dNCPGeOrZJ999gk6Lem8sZzcoDCXR5txsQ2etENPojg/+RXGGjbeRE9ZZpllnPfAc2zI5z0CQ7Gpf+i6Ve8k94y0W9ohfRobbfrVQBOSdjEuUhfZ7BY544wzgs1DG2bMln6L+stmo2VCv5TqV/wqu9INTslz1HQEvxJ8nH7Fu6SPXWqppcogGMlz9L+ygTN6M3pPE2nTZ+j7MM5hJ9CPMEYjbCq/1VZbFTq2Ts94tdNOOxWHaAOMb1poh9gFiI+/Hvqg8OO///QGqeh52KtsZLrEEkuEfuzGG28M4xBtDbngggscG7nG4r2ig53JcT8p7Ng0s4m0tU30vfbYYw8H74H4icNgD2OveWc35z2Wi/GVOgu/kJNh2b2MY37C33lStSiajCX0Odj0Wuhfdbvz4WJDfyicCWO4n+Qv7DDGBr+awfnQOEU2jJm67oCLdx4ozmN/8MemuYxjvG9P+Bc2AfoZfaMWuAs2QxVBP8P+WH755cMhxlRsHCkH9k1sg8q1bT+76D+lDG3ae9vxCN0CrBl3qL+MeXBwjNneySTwO5QTHVf4Dim3fMqm1PxGx0Tvgmug/6G98N4Q+Dx03Vg0b8gG4PAim266qUOnAWf6EHgKhH5V6m6cT+o39UXub5vnphCyY/1EYGjEfjyY133I1CAmDZRdziHCZTBM5YlxSIcmZKOkQanGGBViXo7Hn5D6dPyx0U46lGKMVekM4mvlN+WEvKITEfEeBMXgIsf49B78QTmCYIfUTklTYymVR3yMjg4FokpSA6FcI3lg7DN4MpDWFd3xV11Tx6Agj9122y1MTkh+3vvDbbHFFvKzr58QlH6GvPIeKKAoo1oY3ES50cdT32kLGNKxoBCijJTVb+/pGYwafS0DuF/REg4x+Ioxq9OUfWdAZWBF/BJFF08gcFwmfXhGnjUWDBQMFcTP3geFPU5T9pv2pvsE2l2qjaL0MzEBmSSTZzpf2rb3ntGHAomGkStkmj6JggIhg6FYReyj/Hpvk8LAlnzOO+88xwRLv0XaatV9yto7zwBpLgpunBcTI7Q5iNCcMOlF/RUCIk6HcoViHfffcTp+o3AzYZMS7kFbqSNG7NdBqfs0o0jsMy5BmKMviKCT6H41N3nlvRLdYYcdJpdVfjJmYuxqyfVNOg3f6TPpe3LEq+5Hc+WN80z9xrCGtBGJscDI5rnj9gpRgyFVV5i8YRJHS2680Gn4Tpkg+GUCJD7f5e82xH7d8ZXnQTfTk8zxM0BcxWMVk61ibMbp5TdGcUq3lfP6sw6Bgd4xY8aMcBkT+RjcTaTNuNgGT9o5umFKT4jLDymfG2fitGW/wT7W/SR9F+MiZCvjp+6rJH8+cf5AD6iS1GQLdRInD5x9ymTUdAQm33C4EmEimXFnsgkTURBjEGXou7yLhRdeuNFj9NpnxDfJEYakgzDD0UZLzi7QaeQ79SxFYufsK7CI2zATXLz3lOg+A71dOwSl0utjekzVx8u+x7aJTgshWIdMrLIthmX3QrQyHtaV1PjARDfvlsn9KklNpGNPxxMI5EM9WnzxxSfUjZRDBpO4EMex8O5wOtL9KQ4O6DtMAPdDuug/pVxt2nsX45HWlaRM8Weqv5A0TPBtv/328jO8U96JTFJzAr7Or8we53AoF6BfH3zwwfIz+5mbbM9e4E8YsV+Gjp3rNwJDI/bvu+8+50NPTOhYqx545513Hud1TXoIGjybIOwgjjB+8cTAC41BHWIZYwXP1zIvBsrEzFzsCc09GAjwPseTP6d8k84v7wkKMkZ1LHQylAGvJ5ntlTR6JlaO8SkzhShuGA/xAJcznHUevXwXMqvqWjBhFj0WrZRAcKYG1/ia+DeKEorWFVdcMa6zlnSQjBiXa6yxhhzKfvrlmeO8H5n9T5HM2QxanuA94lFTJtRTCIiYBGFyR4jtsus553eTD+0qlQ6FGMKa1TFauC+TWgyS++67r7vqqqvCaeo8E1Bbb711+E27aOrBAvEDYY3g1RB71zIQ+ziWgazHS5AyaEWJ6/SMOxNceGfWnejgevoFv4kkX4PgRaSJOQ6ikOHtwTMzAYMyqYXj1DW8aGJB2cLYxTsF45y88BxFccQTCdK/DnnmwxSE9s6zcT8Udt7LIKRte5cy5hRPvGkhlWSFkqRPfdKH0q/EE4uQDpCIcftI5SHHUP6YnGIVFPWKuk4fjKd03XwEm7J+jNUFGAVTQcAFYmvYMorEPpiADXWKfisWSA2cB1J1ixVw1OGYaIjz4De6gg/VMWEVGv0f9RBjM+4nJR/6aNpPauWWpNHenaw8akN6M2Yx2RELBAoGMd7dsYAhhENuAi9OnzK4SYP3MDqCNub0tRAjPsTPBH1Lp+nyuzZWU0RD2b14RvqRKqEvRR9I1TG5Fm9HCDNZ1cgYiJ683nrrSZLkJ+8FXS01UR1fUKZrSFpNHuAQg87WVHodF9vi6UNBBq+9eByS8mNLMB7lHG4kXVefXYyLEF3oeHEflJo4Kys3eiH6HPmg7zCJhF5WR0ZJR9CrGCg77zq2zeo807DTsIJV9PScTVZVxl77jDhfVkXjJR4LYxpOWDG+ufEjvp7fOZJNdDTsCUjV2E7mWs7hnAPhnBob8TBnBTzjKvohHrtNpAvbJL4fNpsPDTRhnGRVAljAoZT16cO0exn70VPqCmNfavxjpTerwelzUjoPOKB3Ub9igdNhtRUCV0K9SOWBQxmTeqm+HFtRVp6QR2w/yz3R+0hXx8aRa3r57KL/5L5t23sX4xGTzaycl1Wsggc4o9fhqFsm6Cm0j9QYTb1A9yubnIP0x6k2NQGFDQ5fgs5epmulymfEfgoVOzYoBIZG7Hf5gJrY1wQe98BQadoouQZPI0L04PE2ffr0yuWp8fOQB8oWXqMsL2PpFwNP07LE+U6W30y08F5Q+hkYU4pUk2dheT9KDgMAJATvZJVVVqmdRRw2RbzEa2cwRRIKCU3dZuBCkeHTpHsEmIyDhEGRbLKsl+W8K6644qTuK/DoQNnCo2XDDTds1FblTdDWIVfog/3+D0mvC0lb57OXsYB8xWg0Yr8Oyt2lGVViX54QIgAjD2MRQ5sVKTFpIWn78Un7wLBBz6APZzIRQ6jKa5ayyOSmnjRtU0YJ00ZIIjBgXCFM36AEI5OJVfQtVgaidxBGrt9Gdvx8bYj9OK8uflNHIUbKVkl1cZ9cHkx0Y7zjPYxzTRv9d1jjIgQIk+388Tx4HFO30D+bekXncGpyvO24iF7Cs9BWeQZ0lKowlqnyMZ4SyiJFqKXSx8eGrSMQfhDdRKSJjibXjMon75RJG8hlnBd0SJOmZRx2n9G0vKRHz6Q+MwbjeAehTZgpPmmjkHvY4GX9j/buZlK9jsNYL2Xt5RrGV/QM7Dfamw55WpbfVLN7IepxkKAf5v3QF5e9U7DB1gU/+mzwQ18iH8ZFcKRelOEpbUtC4NHGyJOQbOga6BjkUebwWfaOej3XRf/Jvdu29y7GIxwzxMmDNoweW/VeBTfeKXWC9sF4pMdnSVP1yVjGmCjRL6hblKHXd2rEfhXidr6fCEx5Yr+f4FneeQTwtifGK8tDUTSHLdpjnoEDz5EmoYGGXX67/+RDAONA4kIz8y/fJ9+TLNglNmJ/OO9/1In94aDSzV0xYuifWIFUZtR2c7cFJ5dRI/YXHOTtSQ2BZgiwEljHwqbtVu0v0OwOlnoyIQCBy2p/iEHZO2YylT9VVrN7U6jYMUOgvwgYsd9ffC33cgSM2C/Hx85OEQT0kluW9O24445T5MnsMYaNALP9eHAQcgKSjNUlGIksEZRln2x6jUetyeRDwIj94bwzI/aHg7vdtXcEjNjvHTu70hAYJAKa9KyKUz7Ictm9DIGuEDC7tyskLR9DoD4CRuzXx8pSdo/ApCb28Toj1i07xAuBRmwuEZaDz507V37a5wKMgMQ6Z4k+JGvdZV4LMGT26DURYFNHNtrKCTFt58yZkzttx0ccASP2h/OCjNgfDu52194R0MQ+uRAiib1WiDeMDmJiCBgCo4EAMdSJ3Y2UbdI4GqW1UhgCzREwu7c5ZnaFIdALAuwrQohnRPhIvrPf5LBCIXJ/kwUPgUlN7LPpxXHHHVf61m644Ybk5m2lF9nJKYcA8fTYUFlip025B7QHGhoCbLTLhruxsFkXxuMOO+wQn7LfkwgBI/aH87KM2B8O7nbX3hG46667HBvxacOO3BgH2JDRxBAwBEYDAUKvsIcPMbNlg83RKJmVwhDoBgGze7vB0XIxBKoQYIX+vHnzxiVj763LLrus9R6T4zK1H4ZABQKTmthnY5xLLrkkbKSSek42v5gxY0bqlB0zBAwBQ6ATBNh86Nprrw0b97BvA5NHrAxZaaWVOsnfMhkuAkbsDwd/I/aHg7vdtR0CEIVs7ifC6kDboF7QsE9DwBAwBAwBQ8AQMASmFgJsaKwFvc+iQ2hE7PsgEJjUxP4gALJ7GAKGgCFgCCy4CJx88snu3HPPDV63bAaekkMPPdSdf/75qVOT7hiKKPtGDFtmzZrlIPdTwuqrI444wu2+++6OdCaGgCFgCBgChoAhYAgYAoaAIWAIGAKGwIKIgBH7C+Jbt2c2BAwBQ8AQMAQMAUPAEDAEDAFDwBAwBAwBQ8AQMAQMAUPAEJi0CBixP2lfnRXcEDAEDAFDwBAwBAwBQ8AQMAQMAUPAEDAEDAFDwBAwBAwBQ2BBRMCI/QXxrdszGwKGgCFgCBgChoAhYAgYAoaAIWAIGAKGgCFgCBgChoAhYAhMWgSM2J+0r84KbggYAoaAIWAIGAKGgCFgCBgChoAhYAgYAoaAIWAIGAKGgCGwICJgxP6C+NbtmQ0BQ8AQMAQMAUPAEDAEDAFDwBAwBAzmqcR5AAAWZElEQVQBQ8AQMAQMAUPAEDAEJi0CRuxP2ldnBTcEDAFDwBAwBAwBQ8AQMAQMAUPAEDAEDAFDwBAwBAwBQ8AQWBARMGJ/QXzr9syGgCFgCBgChoAhYAgYAoaAIWAIGAKGgCFgCBgChoAhYAgYApMWASP2J+2rs4IbAoaAIWAIlCFw+eWXu/3339/tt99+bvbs2cmkX//6190HP/jB5Lm6B//+97+7RRZZxE2bNq3uJRPS3X///W6JJZZolccDDzzglllmGbfQQgtNyL/ugT/96U9u5ZVX7jmPf//7345nWXHFFeveckI68njkkUfc0ksvPeFc3QO8k8cee6x1HvZe/x9xe6/ja5611//h0UV7JTf66r333vt/Gatv9NGnnXaaO/XUU93MmTPVGftqCBgChoAhYAgYAoaAIWAILNgIGLG/YL9/e3pDwBAwBKYsApdeeqk76KCD3F577eXe8573JJ/z85//vHvHO96RPGcHDQFDwBAwBAaDwCGHHOJmzZqVvNm73/1ud/bZZ7uPfexj7iUveUkyjR00BAwBQ8AQMAQMAUPAEDAEFkQEjNhfEN/6iDzzNddcE7xo3/KWt7hddtllREplxRgGAvfee2/wNG7j8TyMcts9RxsBI/ZH+/1Y6QwBQ8AQEASM2BckBv/J6iYmVe65554wgcLqMRNDwBAwBAwBQ2AYCHz605928+fPD5P56667bq0iGJdQCyZLNIURMGJ/RF7u2NiYu/XWWx3hA5DVVlvNLbvssiNSuu6LgRHxwhe+0N12221u1113dR/60Idq3QSc2oSZqHUTSzRQBPbZZx/3ve99zz3pSU9y3/3ud0NIk4EWwG6WRKCLttZFHsnC1TxoxH5NoCyZIWAIGAJDRmAyEvv/+c9/3MILL9wIuWGPi6nCfvWrX3WHHXZYOPWd73zHTZ8+PZWs9NhUwaL0ISfByVGoX6NQhq5eVdtnaXv9qDwH5RiVZ+kKE8tnIgKj8I7/8Ic/uOc///mhcIThe8UrXjGxoNER4xIiQOznAomAEfsj8trnzZvnjj322KI0O+20kzv55JOL38P68uc//9lde+21gXi9+uqr3Q477OCOOeaY1sW5+OKLHUYccu6557otttgim+dPfvIT94UvfMFdd911YSJgySWXdBtssIF7zWte4170ohdlr7MTkwOBNddcsygo73q55ZYrftuX+ggwKfjjH//YsRLmiiuucIsuuqi78MIL62fgU/785z8PHhLf/va33d/+9je3zTbbhHjGTUIftM3jhz/8oaMe/PWvf3VrrLFGmAAk5nsvYsR+L6jZNYaAIWAIDB6ByUDs/+IXv3Df//73w1jJOHX33Xc7dFKcU9CPc8K4jN7L+EgeT3jCE9xGG20U9hUo03/J7/e//30Yy8XxJ3WP1Vdf3b361a9Onao8hqMNZce5aNNNN3Vf/OIXK68hAc+OrsAzXX/99e7mm28OWLBPwtvf/vZsHpA2n/vc59zPfvYzx3gvOj16xu677146UfLQQw85wudhm+SE/V3Ih/1mJoO01d3+9a9/uXPOOceh7/zyl790Dz/8sFt//fXdZpttFkIRUtf6LdQhJodw0vnpT38abLWnPvWpbpNNNnFvfvObHfWzjrTFos496qRpq8dyj2984xuOPZzQx9kvCKISgvLZz352nSJ0kob9Tz7zmc+4K6+8MrwbPJ+33XbbsJfJk5/85Fr3YBUPeeB4Rd+15ZZbuuc973nuda97nXvc4x5XK4+pkoh6fuONNzr4kKuuuir0edT7VVddte+PiE302c9+Nuw/VXUz+vONN964KlmYqKF+0mZvuOGGYEPSf+Bo96Uvfck95SlPqcyjHwngw+DFEMpWpy83LqEfb8LynGwIDI3Yp3OErL3vvvsaYYbSudVWWzW6ZjIkvuyyy9zrX//6oqgoACxDGpagbBOTmkFcCwYIRHwbYTZ45513djfddFMg6M8///xsdu9973vdmWeemT3/0pe+1H3kIx8ZWS9+BkwGyyaCAsjMM8TsKMqDDz4YjIUVVlghLJFr6q2mn4m6sNZaaxWH6g7gxQX2xbHZ6dFHH+2oa7FgaLP5Zx2BpMh5RRx55JHuDW94Q2U2bfJgTIAMQEnWgtF/0kknBWNEH6/z3Yj9OihZGkPAEDAEho/AKBP7eKOffvrp2Y3WTzzxRPfyl798AoiQMeix8bimEx5wwAGlDjOycbC+JvWd8e7pT3966lTpMW1/oG9D/FUJ+gZhNCGBYoFUf//73x8fDpuZf/KTn3RglRNsvLPOOss9/vGPTya5/PLLw2RI8qQ6ePzxx7tXvepV6kh/vjLB8OUvf9n94x//KG5A2dnXJ/cMkrAL3Y37gzeTMilBf6LeQsb2S3796187dEQmanKCoxoOaznpAotc3k2Pt9Fj5V4QsO985zvl57jPKme2cYlb/ECnJrzW1772tQm5MNECBwOBWyZwNHvssUeyfm2//fbBAXGxxRYry2JKnKP/h2zGWSru88CRSbR+S+wAWnY/+j76wDJhkhTbMVU/uO6b3/yme9rTnlaWRV/OMZEkk91vfOMbSyeJpQBtuAQmMBhz2GttxowZkmXjz4suusj97ne/K64jusQLXvCCMMlaHLQvhkCfERgasQ9hDCnbVBiEmCmdiqIH4WET+ygkKCaxdEHsM+v/2te+NmR96qmnBo/g+D78hpScOXNmOIVyijfPc5/73ODJi9Egg+sJJ5zg9txzz1QWQz+mZ5CbFAZDoc5se5M8u0r7gx/8oPAMYzXHSiut1Crrj3/848FDe8MNN3Rve9vbWuW1IF6MV9Cb3vSm5KPXJfb/+Mc/FgoNbe3AAw8MKydQJMkDqdq0sG0eeJwdd9xx4V6MDeuss07wQMNYpEx4xyy//PLhfN1/RuzXRcrSGQKGgCEwXARGldjHmYEwNXinI3hAQ6YSThIHB+ySxRdfPAkehCfEAcI4xjPiNXvHHXc4dFfRY8uIzw984AMOQhzJeT4/4xnPCKsGeomNv9tuuwWPeyYFLrnkklJHGQiUj370o2GyPRTI/8MhAP0cHFhdlwsjyuSGhPvhWpyZIPL/+c9/OmwBcSRiNS6bJadEE/s5LJ74xCeGyZReJjlS9yw7Rrnnzp07IQkrEqqc0NrqbryL/fffv3DqoE5C6FEH8JxnQgmh3jF5Ay79EN6hrKBgpQArRwgni4MY+r0I745VmClpi0Uqz9SxBx54IJCzxOKm/i211FLjkrXVY8lMT5SxaoFJnkceecSddtppRXsvw2JcgVr8oH/51Kc+FXLAdmZihUkYvO8RygZ5m3P+gcxm/ztplzwH75drKD/CMZwAp7posplnpU1J3z0oYp8J0VNOOSXce+21105CzsophH42ZxdyHrsO0lwmBOkreZfwDqyaZzVHrl5wfT/lwx/+cBGxgpVudfutXrkEJq7oq+ClxAZt+nzwd6nxhtU5X/nKV5pmZ+kNgZ4RGBqx/+ijj7r3ve99YbkeDYoOko4yt0SN2Xw6ItKwRG6qCh6rkLrDJvbxMoLARTlbb7313MEHH+y+9a1vhVnUth77DB501ijlGEq5wQNlH2/8VVZZxb3yla8cZzgxK7rddtuFatDFZEM/6hNLIGXwxZBjeTBC3afOIyhWeqkbyjhS12sqJB7wPybWMLwQJml0+QdcFLudR4Bl2JDeGCjPetazAonwrne9K2BTl9hHIcJYRzAE8DJAMH4wBjDaUOjLQvu0zUP6hYMOOsgdccQR4f60ITzNuD8rmOgXm4gR+03QsrSGgCFgCAwPgVEl9vXKUcYgSPi6BDrjGeMQuh66syYpfvvb3zq8XhHOy8RB/AaE2O+HXfCjH/0oTFJwT/Ttl73sZfHtx/2G1IMQQtDhcQDKEezjLvQ/tBdz7LyCx/uOO+4YbEKuyzmNaGJfe0fG9xrUb633YCfh6IKdinNCVZiStrqbjkONcxNErhZNMONtTOiUfog4MDG5w+qSadOmFbfhPUtYpjLirC0WxQ0zX+66665Q/1i9IJKafNHvs1ddWIhC6gETZWIjYfei5yJ1PZGlrE0/8cYmZC0CrwL5LJ71+hnL9GrtxMUkyFFHHRXyg8SkLom9SgjQpk43IaNJ9g+7XXAlDBn1HRkUsc8EMRPFhH1jb8JYWF0hKwfwwoe7SQnvj7ITNQFhVQdj7ygI+GLzwQmm+rR+lBF+iTrc9n7wITImMQnDM8D9EI7LxBAYFAJDI/b1A+63337B44Dln7mwK8SHYyAZFLFPgySuJYoZHgZVCpp+HvlOJ4viRZkZ2AmxgtCp4mmRCrWSIvYh2eksUBjJJ0eEy3378UkYji6IfSZlxHDA6x4Pk15l3333DYTmoOpE03ISKxIyFMFDYuuttw7f8f4itiqCgvXiF784fNdLycpWMpCYvKlb999/fzCqmF2vGxKH+1Cn8ECgLBiaTJ6g9P3lL38JRLE2PkPh1L9RJPZpU3geEBceIyPnMaYeY8p+pa41IfbBjskxyHPiZp599tnjsMH4mTNnTjgGsS91WifqIg/xGow3ShLCPz6u75/7bsR+Dhk7bggYAobAaCEwisS+Jk/xesVGSenuOSTxRCZmPWOoEKA6rRD/HMMzNhW+pZ/EPqvzmFDA2x4HgbJnY6Idh5rbbrst2DVc12T/m9/85jfBi5xQk+KYo7HQq/a0zqzTjDKxj52KM1Sv0lR3E/2G+8UTJVIGnD2wZyECIQT7IaxYuPPOO4OzXjzhhdc3q3EpQxPv1aZY5J4L8hLyOvaaZZKB/eKE7Ob6LvRY7XSGPS+TYFI+9huA6MNuZVJNT4JImi4+58+fXxDxcd3gObFBeSdMLMpqoPi+hx56qJNQuezdoFclgauEVurnpFFcplH5TZz9QRP7PDt9cK6Plv6TidYrfKi0nPBOebdIG1KfeoTzF1wC5YJHYDyAi2CMwJkxNZ7lysVxxldZaQTnpEP1ll3X5lxXxL4uA9EmcKwzYl+jYt8HgcCkIfYlfIsmcSEY3/rWtxZLAFkOyioAlGjOEScPog9lAuWGiQHxmk6By0zhJz7xiaAgybJCSYc3DdezzLGMWIdwxeuFGVwGTS1sIsRmr3RaPAceKXGnp4l94leieMisKnmxBBhCnCXAg5SuiH2eiZlknoPZ/l6VGshpvJcYPDC2UmGDBolP6l6Q7hJOByXrOc95TkiWI/Y5KYZfKuwJz8zmayjnPHcsEKAsvyvbfJYYcEwa6Dol+TAAyfHYwGQAR3GX1QazZ88OlzEIM5hrIa7c9OnTxynM+jxLQWlLeDxowcNJvMb1cf0djyj6AtoWbYh2hlcSnjW6vTGo0s6qNg2jLNQdJpx4ZjBA4aV8/MYYl3vhRY5BmhOW8OLNRrkwWsveQy6PLo43NYhYugmpjjAhwMZ3WqhrTLoi9Lf8xdJFHhKygP4aQxHlFEMZ4gG54IILQj8e37vstxi+tI3ccmE24iO2ookhYAgYAobA8BAYRWJfdFZQgaQnRFyXIjo/ebIpb2pDy34R+xDteMkjqbE/nFD/WHEguh/6Va+b9aosx30977zz3OGHHx6OpXRgThix/z/IIO9wjENi8lZSCbFPOnl3ci712Q89VkL1VBGOujxN9Vh9Ld/xjj/jjDPGEZzo5ujw6LhMZMXShR7LigDZXwICH5tCi67jqRUDOq18h0RGF8YDmxjgdRwNxWGSZ2bvspi30P0O+ccTMth8ElqEPoIQMFqwR/EOhyuB25BwYzrNVP4+LGK/DFNsaOxWxqxcWFtWRuFkyHvDPsae1hM2ZfnLOXgAbG6cwGKujDTwZU03Yuc6ojRQv8kTGx6uokzacAmE5GJSgolH8IKEZ5JLh4qTe+MoWObsKOn0pxH7Gg37PkgERprYZwCGBGV2kUZHQ9HLVfUACWh0UhCjEuYkBpIBDq9PyPVYUKiZuUx1Ujot3qp4WUNcxsLgCfEYE5ZxOvnNEj0J1SLH9GArx1KfkFGbb7556lRfjnVB7GvPJ5b06c2CmxQahQKST2acUVZFuW2ST7/TEj5KNqzSns5lxL4o4bF3MpMExMtDWS0T6jjeKbIcT6fVS6g5Tnthp3mJsRen1ZvmQHCjhNYVPDlYrp4S2lpMHpOuzsw2MUvrti/aKjFdY4VWyoSXCgZzTsBSTxaUeTyhwOOJo2VQ3gb6nnxvahAJ+c21ueWbYpgxeUrdjKWLPLSnU5w/E5nEJ73uuutCiDAmIuos/5dyGbEfI2q/DQFDwBAYLQRGjdjXutrOO+8c4srjmchkNw4NTQmRGG3ibrNKTkgWxjccI2IRYh8CDQ9gHBHQg5gEQG+CqImdhOI8Ur/F3kDXSTkaxdcIcYTuiC6KbnX77beHFZJdrJLUqxdw2BBHF10OTezjMIO9R5gViEn2GWD1YYq01Xl0+V2HNRm0x75eFYzXaazPiv7D85aFXBE8+qHHagK0TIeWMshnUz2W6yCjeWZ0RQhOEeordYsV4nFMfUnDp8arV12YvSEgPGlT7A8Vt2ftKJPbcFuXKd7vjroNGZuza+RadGZsuxxBqvkTJohifVqHdclN+kn/Ab453kXKM9U+db0eVCieMgz1JK3mG+Jr9GQgzk7YRti5vO9VV121sl6RH5O6OroGvBxjZcyf0QaahM7WYbtYYYOTV5n0yiXofTTK8tfnmk7qG7Gv0bPvg0RgpIl9UerwImbpEYokoWiEVGcQh/CHaKKz0oI3t5CkNH7xRCZNTIqjmEJEConH7DQEPUuAmEFkCRorAURRQJFmskHPmkO8MtsnHRuDJMQ1M97MDBKrTneElCPV+cpAyXmEyQ02r8GzHW9rFBaE2HmyRC4c6PO/Loh9TQ4zCQKp3ESYGIAsxWsdhQmBvEUBHMX4ftSrbbbZJpRTK07aWNSheEgogwGbx/DeRWT5Jr8Z7PAex8hjGSkGHl4iKJMIShaDkF6dggHARBB1nLrJbLsQ97Kp00knnRSu5x8Krnhr8BvvKf7qCitbjj/++GRyJmZoS4T9QfAC473WIfZ5Vpav6niAPC8e18985jMDFigd9AsIK3BSE3nUIZ0HhDX9DVgw4SbXkwf54/mDp17s1cJ5RAze///1///rekjpa7r43tQgkuWb3Js+NuWZIM+XWx3TRR7cH2UZw0iMBBRDDBT6fPo7WakiCinXlIkYakbsl6Fk5wwBQ8AQGD4Co0bsa/IGnYvfkJ8i6GCMReguvQire0XvwlEldg6QPIXYl9/xJzodeVURIfo6yHDGc6ROOAb0NgmLwCQHIUpZHa1tHuwXCc+h71XnuyZpyvbN0sR+Lt/YMSaXrovjwyT2KT9hUObNmxceBT0WXYcJJ8hfibmPDgtuZaQ2GYieFzL77782eiw2OnGriV+NNCFAm+ixeBBDCqLva8cf2iWEPjZALnzJfx8zfHShx8IdYEPQJmNegpsQRYDQRAjtJQ7VE0789x8hU+ljYsEpSfbmiM/Jb+FPchtRUzZxiEut9oAzkbac29ibdiacBDZT1WSDlG0qfOqxoUm97tezs8oZD3cmfuhL4wklua/e5wSbHt5ANtwlDeGFmEzKcSp6VQtcGZvNis1I28N+o/4jTYh9POep0008/XvlEuDrmAwXzi8UtuQfzwFnkNv4O3WpcDl1eI3U9XbMEOgVgf8DAAD//4AUjPMAAEAASURBVO2dB5glRfX2iyggCwgLSJIkeSVIZgVUcgYRWCVKUMlZchBhQWHJSSTnnCWsoAIqOUpSkqBIRpQFJOh89au/p7+amup7+4aZuXfmPc8zc7urq6ur366urnrPqXMm6vHiBlm23XZb99vf/ra0Fn/84x/d5z//+dLjhx9+uLvwwgvDcfKdffbZbtllly3y/+c//3EXXHCBO/LII0Pal770JXfLLbe4qaaaKux/97vfdffdd1/Y3nfffd2OO+5YnGsblLHHHnu4X/7ylyFpp512cvvss48ddnvvvbe77rrrwv5GG23kjjrqKDfFFFMUx9m455573NZbb12k3XjjjW7UqFHFPhs/+tGP3NVXXx3SjjjiCLfFFlv0Or7JJpu4hx9+OKT9+c9/dpNOOmmv4/2184Mf/MD96le/csstt5y79NJLG77MW2+9VTyTH/7wh+E+Gy0kvnfO/eIXv+juvPNON+WUUzZa1IDkp81sueWW4Rmdd955bpJJJgnX/de//uUWX3zxsH3yySe7ddddt6jPSSedFNrmuHHjirZBW91ll11CnuWXX95R1uSTT16cYxuUdeKJJ4bdb3/72+5nP/uZHXLPP/+8W3311cP+0Ucf7TbbbLPimG3cdddd7nvf+17YpY194QtfsEPh98MPP3R0F3/4wx8c7QG59dZb3eyzzx627d/EE0/c0DP56U9/6n7+85+7BRdcMNy7lVP2+/bbb7tlllkmHJ5hhhncbbfd5vg1eeyxx9y3vvWtsJtra//85z/d1772NffBBx+E8y655BI3//zz2+nus88+c8cdd5w766yzQtrcc88d2lmRIbORtk2ybLzxxu7YY4/N5O7fJPq6H//4x+Eizz33XNHuyq56/PHHu1NPPTUcfuqpp7LPzvroMizaUUZcv3//+9/hud5xxx292gT9JX0ifexkk00Wn5Ldvv3220N/vvnmm7uf/OQn2TyXXXaZO+igg7LHlCgEhIAQEAIDg8Buu+0Wxtm5qzEePv/88x1jpPXWWy+Xpe1pjC0Y69cTxi+rrbZavWy9jjPn4buKMH5h/GVzkl4Z/c4JJ5zgTjnllCJ56aWXdrPNNpt75JFH3CuvvFKk872bb775iv1aG2PHjg1zJfI89NBDbvrpp6+V3cVj+FoZc2OuWvk59ve//92tscYaYUzG/k033eQWWWQRNvvI73//+zCutgPc76KLLuoY6zzxxBOWHMa/jIP7W+JxN89wjjnmaPqSjY7duNB///vfMH6zsX968SWXXNKdccYZbuTIkemhPvvtHscyjj799NPDddZcc81iu8+FMwlVsfjoo4/CHOqll14qSllppZXcDjvs4FZYYQU30UQTFen1NtoxjmXc/+ijj7ollljCXXPNNX0uyRxq3nnnDenwAYcddlifPJbw/vvvu8UWW8x2i1/mdrXaNnM14xZ23XVXt+eeexbn2gZ1pK4Iz4jnE0vMV1x00UVu9OjR8eGwzRzpmGOOCdv333+/m3HGGfvkGaoJzJXsO3T55ZcXc9LBuF+4BriZd955J8x34LHKhLkh71Yt4XsEDzXnnHP2yca9HnjggSGd+dk888zTJw/fKr5Z9M18k6oIXA7vLHLuuee6r3/962G7kX+NcAnM8z/++ONQPPNDvh3MKxlnpAKXZ/xNeqxsn+8Z36SqvEZZOUoXAo0iMNFQI/YhqNZee+0sDocccoiDxEP4IK266qruvffec1/96ldDGoNDPsRlL/A//vEPx4ABQhDlgCkj6CCMGIRsprMrG6DHJO348ePdl7/85XBt+2fEPh3rgw8+aMnFLxMIOi/k7rvv7kOqFhnbvNEqsR9PTO69914388wzN1xDBhoMop999tliAgDRyOCRQVS3SC1iP3cPfKRtgPib3/wm+7HlPNohOBhhHbcf0r7yla+E4lEO7LfffqHNpsqnl19+OUwUV1xxxVxVQhrEvimceCZMMFuRRj7GXCcm9nmnTRlhdWCQg+KEe6YvMNLajscD1rIJOWUw6OVjX0ZmW3n8otRDuRdLTnEXH++v7aoTIrs+Ck8GUkiZIsDef/o3nn8q7SiDMt94442AJYra119/vbgM7W3TTTctJivFgTobIvbrAKTDQkAICIEOQaDTiP14vA1EjAVQAkNg/frXvw5KBtIxKGJcMd1007FbVxjDxvOUa6+9tjD2yJ0M8c44ZsMNNwwGGja/YMwHoWvkKSTuFVdc4TCuqCXxvAflwsEHH1wrezgWE4GWGeUA48pnnnkmGBMw5kKuvPJKt9RSS1m2mr+Mh8eMGRPG9WTMjeniAhj/MU/CuANyMyasY0UMz4Rn1N9k42AT+4xVmQPRVnNCmzjttNPcTDPNlDvcK62d41jatBm/MW5k7lv1/aBSVcexr732Wh/SGeXfWmut1bDhWzvGsUbo1TKCMzKUMa0R470eRLTDXO2qq64qUmjXDzzwQNYAxzLBVfDckb322qswDLPj/D755JNu/fXXD0koNOhbYsGQzwy4yohrjMzMYGYg+Yi4noO13UnEfqzsvOGGG4q5fg6bbbbZJnBHdmyVVVYJhDrfDBTnvKcIxm+8g6liLJ4/8+3AMBYFQMqb8c0aMWKEW2CBBexSNX9NIYYygH48vW7Nk/93sFEuwco0hSbfIb5p7RDrB0TstwNNldEIAh1F7EOan3POOUX9zfLk6aef7mP9XmTyG2axzwcP6/4ywcLdtNKQcDvvvHMg581qBi3k9ttvX3Z6SN99992DNQk7WAZPM800YUBqg/Qq1ioQ+mgKTdsbX9CIfbCgk00FS2o6IYRB61xzzRW2+/ufEXu1BitldZgwYYKDTGbQ/53vfCesZijLWyUdi2sGsWeeeWbIznNHWTD11FNXOX3Q8zRK7KO5NqssPhK1hAmjSWqFhTYcrXgqKJFmmWWW8HFeZ511HNdLCf/4nE4i9hl45JQQWNkxOMCKLp3wsKLHPt7glVv9wP3apL4KsU9+yoJIZjDDR71VhQdlNiNVJ0RWtt0n+7mVGqTbwKfMCqkdZWAVFFsvoWjlG8BkEMulWWedNbRN0quKiP2qSCmfEBACQmBwEeg0Yj8m+hhnQl7FKxnjsUTZat8UUeYhkBhGgtezvk3Pz+0zhzFDI34xPKolKAIgg5GqVubMW5jfmLDSLV4ZHa+UhBSyVdSWP/fLdx2iCaUBAlEPOdMMqWPlx2MR7tFWb9rxdv8ONrG/3XbbOQx+EMhZ2hbjd+ZEELYIY3xWQUCw15N2jGO5FnNlE1a6L7TQQrZb6beRcSwr7iHI4xUb3Cur78HDFGH1Lhy3nWbHwkaclhF6zP0NizJr+rieKG6whue9Xnjhhd03v/nNwDvEedJtVnGY0SDtI7cilfaBpTKSs8iPFXlmCJleBwUKf0jZat/0nKGy30nEvnmMoM1D8tfqP41w5jnAy/DsTRHMahI4MOtPUCiZgsieG302bZDVAalwfea9tP0NNtggGM1a2WneeB+uAiUX0sqKPBH7MaraHq4IdBSxD6FolqM8ED7IdB580BAGwp/73Of6aOGN2C8jncLJ/h9L9mx5J5pqLF2wLNl///1DFpYr0unVktjyHOIQS30s9L///e+H0yAM0fo1K0bsf+Mb3+il5LDyHn/88bBciP1uIfZ5pkyQEKwAbBliSGjhnz13imjlY9BCFZo6tRFin0GdKbgavVjqwgoFC+2LdltLmATcfPPNpasqOonYZwUOg5NUcJuFxXyO2GcibUqhF198MT212DcXLVWJ/eLEQd5oZEJEVa+//vpg1cN22YoQrDpY6pxbAdGuMrBIZGKFEoE/LE/MHRLXMGHCGE8aLT33K2I/h4rShIAQEAKdh0CnEfsx0Zcz2sFlHGQbUvZtjFFOSX0U2bF7zjhvI9uM6cxlEMoGiJcyYR6EtTvzKYhgI3/L8lt6TPShXGfckApEIYRhPSMrzmMczGpLI/XBj3F8avmZXqPefuwyiHmZze/qndfs8cEk9v/617+6lVdeOVQ9t/Iitq7FstqI3Gbvtcp5KamPSw9bFV/lfMvT6DiW82h7vLMo4Exoixg1ce/MbWpJO8bCtDd4Ba4Vr5q267755pvBbQr7/flMcEPEqld4lJxLUNyoYtyIsJ1aVsdtq0z5aHPwKu97uNAQ+tcpxD7zejN2yn2jUshN8UR6zuVNTLKXtU++Y3AJsSItvQ77cHq/+MUv6vbpZnSIYoB3t1kX0yL2c09BacMNgY4m9iE10TzjSxkfjFiB5CzG7eNS9iG1h/qXv/ylGPDaICjWWtdbAko5phllG80ols5/+tOfwrI/0vCFztK3ZmWoEfuffPJJWCaJggalCcqTdglWGiwDQ8qWG7brWu0spxFin+vaAI32zSSinmCBjtacj2RO0Lgz4If4Z3LHM+L5gKdZkZniK3d+TOyXEcG588rSGv0Yx654miH24yXCterPCh6WoA51Yj9expkjBWJ/ndZvps+yHWXEZcbxHrDig4hg+bHFH6m61F/EfoyqtoWAEBACnYtApxH7setMfBMTMykVU3qXWehaflxfsGLVxlgHHHBA4VPY8jT7G5MxWC6b9WOuPGJkmeudRiypcZNnRhRlY3mbi3HdMotnjuEqBIUGmCCUx9i2StyccEKNf7ExTCOKixpF1jw0mMQ+41/mrYjNR9PKojDBCr/MWCzN38o+4zPmsCbpqg5Lr/LbDLFv5UK6Qihi3BPLVlttFZRJOd/h5GvHODY2/su9A/G8FQMji30W17Md2xD6KM3K+qW43aaru7l+bAhZpiAjVhvKC4zPGGsPJ+kUYj+ez9Zz6cbzOfTQQ93FF18cHlWu/48VT2WrPew5ozjCwBSjL5Tc/MHVwauZlMX0s+OxJ42yb6zlrffbKJdg5dmKdOaaKLHaIXzT5GO/HUiqjEYR6GhiP74ZIxNzmuF4MMmgFfI/J/GHzDTQ7777buELkvMYKJUtY4qXIMVKhE8//bTQdvOBw9q51gAVVzJ0njlL7KFG7McfHfzEt9MXPoHD6IgRcIuXCeeeP0sgGdhBDJuwVNPKsLT+/m2U2Dc3SNQLDXkzLocYpPGRJq4E5GxO4okbSgHeuZwwkLPgu1i4mLVALm+VtEY/xq0S+7FvSSblWPikywXB2XxOViH26UcgxVm6SBA6gvCwpLFZy4MquJXlaXRCFOOJL/s0eBArpqzNlK2MaUcZ8f2YC4SUQLB3oarVvoj9GFVtCwEhIAQ6F4FOI/Zj9zJl3xx8zEPWpyuOY5RTUp9vrMUpivM1ux0HNMy5T7ByIb1xXQghU6u+lj/+jQlz3DPEfr8tn62UZL8sXg/+/THIgWxGMCLBZU67xkrPP/98QZZWdY8UKtLkv3heWdWtUdmlGh27MR7jD4HEnXbaafsUDdaQyXFcuD6Z/pfQyjiW2A4oqxDm6dxLM5b6/6tKZR/7lj/3S8ww/MCnbqFwOYoRXmql3o5xbOybPhfzL14xjIFVPZedvCdYVmNVz1wL5eC6666bu91eaTaGJpG5XGroxXtHv0S7wMApx3sYOZlrO/AYNp+v6mKX+WIcBBwPDKzwaHWVTq8bH6CdVol93OLCNzG/4lmweikXKLne7dj7DSeFy6Z0Lpuej8ILsh3JGca98MILRSD4nPKZ+8a1E8diV2zxdWIvFvXiSBjnRZ9B/au6zYqvZ9uNcgl2nq00a6fy096dMsWaXVu/QqDdCHQNsW8WnPWIfT5ADChSjXxMTgFiPAAzzTbpZQNuVg7QkdlgFoIYhYIJgwQLOgJZTNCg9ENJGWhKWRbHRADSKSX3rZMr62C6yRUP94srFLS5Sy+9dAjqZXhV+eVemUwweEix5Hz8E6JxRsqC+4SD//sXW2NYehUNt+Vt12+jxH482K+nUUb7TbuCXI6X3cZkdi2XU/aBy71ndv8ESmNgjJRZh1EPFACssknfRSvHfhv9GMeD79zAhHJtgplzxcNxW/rHNgo93ldcRPFsGOTG73YVYv+oo47q4zqLgGUE8BpoidtL2eQ6rZP1Xzz31I8w/RltimO1gna1owyrF5Yb3Efaz9pkBWu/2B+/nZf+ithPEdG+EBACQqAzEeg0Yp/xJxa1jGEhxhgbQEaZ8D0015sonQl0mQrEHBaBZqlvRkVxPsavuAVk/N8owY3BESSCBZtnrFdGjsQrEGoZQcV1i7exDmfMhaTzF4g+xnvc56hRo/pYS3MOdWXVg7lwADvcPcTEHuNGCEBcC9UjPSkzFRuvkJ7zHZ7mb3V/MIn92AUT9UgJ39hwjZhupgQou+dmx7GxCxvGiVjq0wZMCPI8bty4QCJDAleRZsaxZeXinom5NwS5vYfkTdswaa2OYzH0Q6HBdXgfiJVnZGtsHFhFsYbPc+ZapgSjfkiOqP+/I///P+ewWgOxmIJ2NJ4P5shbywdmWHgjKG6Yx5vEz6fqPNoso62MKhhY3k77bYXYj63i7b6YZ0KI57gOy5P+/u1vf3PEY0TKVlWk57z66qtFXLrcynyUUeaejZiXcFGxWMBk3nOMWHPze9533FQjtVzUxYGvmbPz/W9FGuUS7Fr2zUA5ghI0/h6RB8NI5sWsSACzKs9IxL6hq9+BRmBQiX0Govzx4eBDw0AgJtRiMBjs8dLSmaQBcjkn1chjYUrwGAbmLAsy0p0y0TZivWyCVj/uvNAw0knSYfGRhqSEwOSFRxjgMyAgSKYJrkz4SNmggW3IQ4LbYilOnekwIdpM4uVv1BOfdmDxu9/9LmjmmQDMM888xUCfaxDAygLhsOQPjWmqibfyW/llAILrIu4fYcCHRQiKCNP2MnmYffbZSy3IWaJlwYhzvtxq1S+2HkfjyaCUe8XCgo8Z5LQts0SZw/OIJ1y5suMlkhxn0JW2m9x57UjDnQnPnucMeWwW0HzI7MM844wzujnmmKPP5fhIEgCMdwTByhylBs+Ce2bQiuUHSifeExMGHlNOOWXYpf0RzMaE6/OHKyk+UpTBJMHIUq6BZj8nsWsW2h6DANo590ebZvJrdU0/6rwfvE8MWE0YKKCgoSzekVh4x2LlF+2SlRpYNyAsKWcVAm0AAV8myNwH7ysWLijraENxkFz6HUh/e1/DySX/qhD75i4pLoIPeztdT8Vlx9u0D6zUeC4I74W1awgDiALufeaZZ3a0sZzEvljpu7Cgo6/l2dAPIbQXW8LfX2VYueYugDoQ6G+ppZYKbYvJPs+salA8+gUGbSisIBByYrEUcseUJgSEgBAQAgODQKcR+9x17DOcbzrjXwK6Y+DAt+WVV14J4JDPYngZWhACjKWMdGcskRKbjIVsTJ1bAcn8he8u8yOuj09/GycyJmfOYMQfpGSZK1CuwxiQsRnjIq7VqMR+t7kXXIkwPoNAxjgCAyqkzKVCbIxDPvyRG+nJPsL3GEVKOk/jGIQYczPGBZDY3AfzPMY3PAeMpmyux6oCxj8pSUM57ZRWiP1Wx24xQQgmrD5lLIrQ5iB0zS0G43RbhVp2/82MY2MCmXIhvmJSnzTcc0BwI1gE54ixVrEIhdf5x/wBN460W+bTtBXmBrG0YyzM+JRxK8JKH5R+kIK8x9Y+q7jhiYnbuI5l71ech22etynRmM/Bc/AOYxhj/RbzpJlmmik9NezHVvmQnrybGEChWDC3ZLz/jLPrCeN2VjfFUmt1UZyvU7aZW4IJfSnzXZQiCPNN7o2+DKM6m4+W1TtWhMV5cq5x4uPpNm3I5meNeESgb+VZIvTbcFX0k3AAfEMQnjcGsKmSGC7HYiaSj28Xym8LKg9GzBtNAUybN76D/LHAq1kctZgPi/OUbbfKJcTlxn04nBUGZcyn+b6ivL/uuuuK7Lk+ozgYbYjYj8DQ5oAiMGjEfjoYqHrXDF7KiH06IojwmNxMy4XQZzCZDvb4MNHB1SP6IB/5QKYDeK7DB5KBKwOGWkI9+ejH2m8sS4xUjc+1paSxu5/4ONtPP/20m2KKKdLklvZTzXpZYbUIYCuDDz8fjNxgrqxcCFrKtsFHWT7Sq34M45UZnNeMxRLnNSPmQqTeuTEZH+dlEMFgzCaI8bHctrUbOxZbF1gav7xPtJ20zeYmqfF5EMdlSrg4X2pFxKDfSP84X61trBh4rxHembSupNsy5DKSlvdyzz33JGshTEZ552zVR3HAb+DWCaUJFk5ViH3zxx+XUcsSJs7X6jZBwMG5nvCs8fkZKzjsHFbXgIUNxizdfpn88L5AaJRJO8qwspkEQULQ7lOhLgy06inyOE/Efoqe9oWAEBACnYlAJxL7jEUhO2Lyim9pPFcoU3rznYJcrSqMk83S0c4pG9PYcftlZStEdpkb0HjFaq1Vm1Ze2S8uB8eOHVscTrGA1OW+0zmWxUkrTqyzkQvcyHgAwqSeUCcIGFOA1MvfyvGYFIpXglcpsx1jt7SNMb+kDcRzBYxYIAHrzcGaGceySsVWste7Z55LOn+3c9qBhZVV75exKnPq3BiyHeNYjLcgB41UT+vDymsI0fQdSfNRFwJhp/PgqhbyxP/jWnFfFV8DY0nm6bXkhhtu6DN3svw8T/qnVJFjx+PfWGFCejOr+OPyBno77j/rXRvjqlqY5BQ2YNmIKxqUCyhqaBu881Xc8Fi96RswdkKBWiZl34h4pUZ8LnVg3ha3NebO9E/TTDNNnDVs45LNXHWVfT/7nBQltMolREUFw0ZWj9XCg/w8UxQoZd/YuEwR+zEa2h5IBAaN2MedBm4qciRdLQBYlhb7aCMvBCNEIx8KyCc+NHTCaAApH2IZIh4Ns/mEy12DOqH9tACNcR46XTR5WIuYFXR83LbR5vKxZICdCkoB6kAHYtpNy5N+9Cyd+vBhphPHMjnteMoG0XZ+s79YOZuFRa0ywITBYCqx/3vIUSzuGxU6fgZ7WAGlAxvKgvhHG5xbCpZeK44cz7EyH6Hpee3a5zkysK4ltFMmI2WDPTTIuHcpswKnLdBW1lxzzT4WGLH7GvLRjuIPsNWLjxFL4lLfk3Y8/uU9oS5pmwRbLPV5v2nzseQmDvHxdJvBAkoGK8eWzMX5GDwwkOIdjf1bWh7SaScWF8DS7RerJyze+Z111lnDveOrlMkrk9gqFilYKbBM3ayjuH8G7vGqHrteu39ji8JaZWPdxqCkrH2VTWg4DysNLFHqSTvKsGvQl9LX804wEKUNgCvkT26gaOfFvyL2YzS0LQSEgBDoXAQ6kdgHLch9rHCxiE4FQyEMhnLfVVa9QpxVmefwfUtd/XAtCEjG0BAquTEbeXDhw1i8lhsfiEZWA2NNin/nXH0pq4rwTTbLzjg/FsJYE+fGPWCIcU0Z2RmXw3aZcQnWrswLcnMCzmMMjFFFOsfiWH9IK8R+u8ZujHsxzIjJfLtXxvNY5Naat1reZsaxZW3Byox/IeN4djlpFxa5shtNa8c4lvEr7yTGNLHQHzC3qPr+8a4yf0SpxVwGAy+MEKsKRl3bbLNNnz4opzgrKzMNikw+5mYYOS6++OJlp/VKj1cxcGAg3GT1qkCLO7wbGBuV9cFWPLiAVz1eAuNOLNv5NjCHxfAsdaVlZeZ+Y5c6ZTxM7jxLo32ymgQXM7HQxph3sXI7Jzan4hhcQpmhHt9E5utl88Z4tUGjClGu3SqXQBmxENCd7ygGuvEzBg/6LXgVVjRVfW9F7MfoansgERg0Yr+dNxkT+/iBi4XBZNUX0c7jHHx/4aIHzRxuRsqWqtk56S9l0PHyMSDYKS5PGLg3Wpe03G7ZN4tuPlh8CGpNOKrcE9bVWHowcMUKh2cCCVtV+HCY+xbOadQ1UNXrDEQ+lDy4KoJQZwBKu6J9pUvm0rrQnlnuylJKzqN9Qvh/8sknIegWZeSCb6XlpPsoHKgLH0DcvVSZQKRldOI+E1cmLQxezO1TvXoyWOIdbybAcb2yB+o41kZMRrC+IJhTI++Z1bEdZVhZ/DbTj3OeDULligc0JEJACAiBzkWgU4l9Q4yxDkQG4x0IclaPDRSBTB0Y/7LambEb4y3c0LCasd7Yj3Nt1WMVlyzkryeMJbEIxiURGGAMgmvOgRLGWrh1ZI6FJTpzDca2ZURSf9WrFWK/nXXC5SsGKrRNxm7MkWgftVZZll1/KIxjy+6tkfR2jGN5ZwnCDZeAS8lm5ljUmTnfyJEjm+IQzHUM7yrjeYx1cqsVamGDghGlHK586PdYWZS60ap1fuwWiOs34wqsVvndeIx5DW5wmcM3KjxTlDY8F4zPmp1zwgHAraBgoL+gH681h7frmmtXrg+3ADFOP0z/C5dQqwzu1Yz06gXXbRSXVvNzf6yooA/kHlHUNNLO7foi9g0J/Q40AkOe2B9oQHW9/0MAa3t8GbJUjI/OYEtsMc+gBPcr9ZalDnaddf3BQyBe4UAbJoiQpPsQELHffc9MNRYCQmB4ItDpxH43PxWMW1AI4ONfY9/2PclOIfbbd0cqSQi0FwEUJLFlP37V8UAgGb4IsAKFFWqspG9W2dXJ6InY7+SnM7TrJmJ/aD9f3d3/EIitBVgCx7IqiRAAAZZ0Y02D1RnB7rCIw42OLTFku8yNjxDsbARE7Hf281HthIAQEAKGgIh9Q0K/3YKAiP1ueVKq52AhgDtdC6CKod+tt97alBX0YNVf1xUCjSIgYr9RxJS/XQh0NbGPxg+/bURoN59YuM0wYUnRsccea7v6HcYI4JsbwpbluuPHj29qOeMwhm/I3jq+BE844YTS+2PJKPEy2h2cuvSCOtBWBETstxVOFSYEhIAQ6DcEROz3G7QquJ8QiIl9LoGLJNw3nH/++cEdTj9dVsUKga5B4I477gjxCalwszH3uuZmVdFhiQAufHD5asHBjZPEQwQufSVCYKAQ6Gpin+ArBAyqJY8//ng2kFOtc3Rs6CGAH3kCKhPQxnyNDr271B01igBLQo855pjsafvuu28IOtZqfIhs4UocEARE7A8IzLqIEBACQqBlBETstwyhChhgBGyMkV4WMgdSRyIEhIALftjx8b/66qvLWl8NYsghALGP2940qHunxRAYcsDrhvog0NXE/oQJE9xtt90W3Gf0uTOfAIE7evTo3CGlCQEhIARCUNYHH3wwBKUjMN5ss80WVnXwO1wCXQ/lZmCTbgXPHcpPWfcmBITAUEBAxP5QeIrD7x5w4UgQSZPJJ59cqzwNDP0KASEgBIYBAgRDNkt9bpdYNiNGjBgGd65b7CQEuprY7yQgVRchIASEgBDoLARYpcPKC6wm9thjj2zlCPK9//77Z48pUQgIASEgBAYGAfpoyP2cnHrqqe7SSy91Rx11VLCMy+VRmhAQAkJACAgBISAEhIAQGI4IiNgfjk9d9ywEhIAQEAJCQAgIASEgBISAEBACQkAICAEhIASEgBAQAl2LgIj9rn10qrgQEAJCQAgIASEgBISAEBACQkAICAEhIASEgBAQAkJACAxHBETsD8enrnsWAkJACAgBISAEhIAQEAJCQAgIASEgBISAEBACQkAICIGuRUDEftc+OlVcCAgBISAEhIAQEAJCQAgIASEgBISAEBACQkAICAEhIASGIwIi9ofjU9c9CwEhIASEgBAQAkJACAgBISAEhIAQEAJCQAgIASEgBIRA1yIgYr9rH50qLgSEgBAQAkJACAgBISAEhIAQEAJCQAgIASEgBISAEBACwxEBEfvD8anrnoWAEBACQkAICAEhIASEgBAQAkJACAgBISAEhIAQEAJCoGsRELHftY9OFRcCQkAICAEhIASEgBAQAkJACAgBISAEhIAQEAJCQAgIgeGIgIj94fjUdc9CQAgIASEgBISAEBACQkAICAEhIASEgBAQAkJACAgBIdC1CIjY79pH1/0Vv/fee93BBx/sdt11V7fhhht2/w3pDoSAEBACQkAICAEhIASEgBAQAkJACAgBISAEhIAQEAIDgICI/QEAucolenp63EsvveQ+/PDDkH2OOeZw0047bZVTuzLPf/7zH7fKKqu4V155xW200UZu3Lhxle4DnCaaaKJKeZVJCAiB5hHohHetE+oAgp1Sj+afps4UAkJACAgBISAEhIAQEAJCQAgIASEgBIYaAiL2O+SJXnLJJe6QQw4parP22mu7U089tdgfrI133nnH3X///e53v/ud+8Mf/uBWX311d+CBB7ZcnZtvvtnttttuoZxLL73ULbfccqVlPvLII+7yyy93DzzwQFAEfP7zn3eLLrqo22KLLdxaa61Vep4OCAEh0BgCf/zjH92VV17p7rzzTvf++++7lVde2a2xxhpuvfXWa6ygFnK/++677vTTTw/v+5NPPul43xdeeOHQ92y55ZZu8sknLy39jjvucA899FDpcTsw1VRTuZ133tlNMskkltTrl3u/6KKL3MMPP+yeeOIJRz9InzN69Gi30047hTr1OqHCzv777+9++ctfuvnnnz/0oUsuuWSFs5RFCAgBISAEhIAQEAJCQAgIASEgBISAEBACeQQGjdjHYhuy9u23387XrCR16aWXdiussELJ0e5NhpD6/ve/X9zAN77xDXfOOecU+wO98eCDD7qf/OQnDmItFgh4iPhWBOvXddZZxz377LOBLLv++utLizvyyCPdueeeW3p8/fXXdyeccEJHW/G//PLL7rbbbnP//ve/e93HxBNPHNqyCL5esGhnkBBAgfbtb387e/X99tvP/eAHP8gea2ciyrvtttvOffDBB9li55577tD/zDzzzNnjX/nKV0rPTU9AWTnrrLOmyW78+PHuoIMOCmR+n4M+4Ytf/KK74IIL3HzzzZc7nE2jP91ss82KY7gg23bbbYt9bQgBISAEhIAQEAJCQAgIASEgBISAEBACQqBRBAaN2IcwhpRtVCBVsBwfioKyY4899ghWnYNN7B9++OHuwgsv7ANzO4j9e+65x2299dah7DPOOCNYBPe5kE947rnnimNY7WI1/LWvfc394x//cMccc0xB4I0dO9aNGTMmV0RHpJVhSeW4L9rziBEjOqKuqsTwROC1114L1ujcPW1yhx12cNNNN51jJRHvIXLSSSf1q+U+lvqsEDBS/0c/+pGjH/zkk0/cVVdd5S6++OJQD5S7KBdTa3vcmI0aNSrk4XeyySYL2/E/XH9hfY889dRTbsopp4wPhxVBX//614s0Vk6xYmHqqad2N9xwg7vxxhvDsQUXXNChkKy1esAKoV+n70KRaSJi35DQrxAQAkJACAgBISAEhIAQEAJCQAgIASHQLAKDRux//PHH7uijjw5ECtaMkDkQSksssUT2Xt54441AMJEHdxFDVSCzrr766kBoDabFPuT5fffd5/D1v9BCCwX3E7/61a+Cy5xWLfY333xzR+DcL33pS8HlR0rQ2bOF0MMaH6vaTTbZxE0xxRR2yL344otu1VVXDfvtUDYUBffDxmOPPeZQYHz00UehvUMuxtLpiom4rtoemgicfPLJ7sQTTww3d/bZZ7tvfvObYfutt95ykNuQ4ZDlRmz3Bwr0e/R/CO/9Bhts0OsyRx11VLGKiXoYiW+ZINBXXHHFQLbjSijXr1gZkPW8k6lA9pvbIVyjfe973+uVxfpnEnEXtOaaa/Y6ntsxN2soA9577z33+uuvh6DhstjPoaU0ISAEhIAQEAJCQAgIASEgBISAEBACQqAqAoNG7McVhOD47W9/67CULHO7ctdddwWSZaCIfRQNf/nLXwJJNOecc1ayzIzviW3cDOGGhTrPNttshVU2BBTuaCaddNL0lEBspcQ+JDtE9owzzhjKyRFWfQpqcwJuONpB7KOUMcIOq/tNN9206Zpus8027u677w74douyB6tn/lBqIJD8EH633HJLQzjQPl944YVwDm1r+umnL9wRoTT73Oc+V7e8Ztpn3ULbkOHTTz91zzzzTLAYN5zKiv3ss88ChvhE575Z0YMiKPdulZVBejvwrFV+Jx+jP0I5Bnm/0korufPPP79XdbGUP/TQQ0NajlDvlbmFHWJ34J4NYZVA2s/FK3h++tOfBmVfejnuBUnPJY129dWvfjU867LVByjfWDWF0mDXXXfltF5Cu8SNGLLLLru4vfbaq9fxdIe+G0xpX/jsx8UP77ws9lOktC8EhIAQEAJCQAgIASEgBISAEBACQkAINIpA1xD75r4lJvZxYbL77rsXrhXwD80qgCuuuCK4N8FnNIQfqwDwvYz15ciRI0sxmjBhgjvttNOCxby5a7DM+Hbm/O985ztZ0sjy4Q4Ca1MIKsicWPClTrBX/MZzHwSlJYhjLGYRigsKiCXIrtiFwwwzzBDc0Kyyyirxaf2+3S5in3sigCT3gY/rKgR07uZQjIARJBnueXJug3LnDWZaTKDynHHjQVtAcOtBcM5a8t///jcENj3zzDPDfcd5IcBpm9dee20gRVEOQWKm0mz7JPAnQVUR2i4k5eKLLx72iR2AgiaOx5BTVlB/lDE8dxPKIv4AyombbropWIRjbW0CUc+9pL7QUeRgZR7ntXP4BV8UhrVcpTSL5xFHHBFcw8TvN+0Z0nbDDTcM1aC/wi891tkm3Ou4ceNCEFhLS3+xGEeJySoZArXWqn96brP7jz76qNt4443D6T/+8Y8dAWpj4R1D6YrQ3/LXH/Kzn/3M0baRHLH/pz/9qQiW/fOf/9ytttpqDVXjN7/5TfDfz0mPP/54oWhtpJAYC1YeEYeklmD1j8W+uVYDRxH7tRDTMSEgBISAEBACQkAICAEhIASEgBAQAkKgKgIdTexvtdVW7l//+lcgPc1aE4LdyDxIzH322ae4V8i1eeaZx+HaJycQa5BHkOup/P73vw+Wmimhn+bDkhNCca655koPOVyu7LTTTr3IvD6ZogQIzfnnnz9K+T9CEiKznlx22WVu2WWXrZetbcfbQeyzegGCC4EojoMFN1JRSH38XZu1bLdYv9LGjDSF+EWpY4FzIeVxE1ImWNfvtttuwT1SWZ44HcIR4jGWVton8TBi4h6CeqONNgrFv/nmm8HiO74W2yjW8NNugmIDZUBMiHPsmmuuCVbiEPs5QRlgFuMcx6p6mWWW6VNOeu4Pf/jDwrVLeqwVPAmCmutjeEcg85HrrrvO7b333ullQx/Dc8xJGosBpQbtJGd9nju/2bTbb7/d7bjjjuF0lG4oFVLBrz19I8pT+tD+ENxzWZuN25ddC4WKrSZI25blqfVrSkUUAigGmhEUiDwnpGzVQDjo/8VxZMCYYLsi9g0d/QoBISAEhIAQEAJCQAgIASEgBISAEBACrSLQ0cQ+JD2CxTquNSB+sOw1Uh2iEMIfoglXPrFAIGOlD4kIoRpbvaek+F//+tfgR9oIR/wmQ9DPO++8IXDj008/HVYCGLGZC5yI72QII1MMYEENcQ2Z889//jMQsqmboZxbC7PYt3tBuYEVMJbtEJ9m0Yp1N1beAyXtIPYhZy0AJiTzNNNM01D1UQzgDujmm292TzzxRDgXRcsFF1zgvvCFLzRU1mBkRhHBM4tjAuy7776B2KY+ZVbEKDK23357h8WxCaQxbYD3ApKZFSKxdXiq7Gi1fXI+78EWW2wRqnDccce5b33rW1adQGLS9nkurFhBqBfKtlheffVVxx9urlDuIOSx9wZFBz7Oia+A4o739qyzziriKZCf9x5f6twvblGItcCqHFxVYX3OKhesohFW9UCQx9IqnigF6Itiy3UUTSjpbAUKdQQLLOCtrbLKAYVELqgrLltMyRPXtRnL9Pj8KtvU67DDDgtZua+ZZ565z2mm2OnP1TE8c549fTrCu0E/bsFzsXxHWK30i1/8ImxX/Uf7tRUsOf/9VcrhuVMfvhMoiVl5Mu2002ZPZTUICqCHH344vDMoJRAR+1m4lCgEhIAQEAJCQAgIASEgBISAEBACQkAINIOAJ7kGXbyLmx5viV/6513k1KyjJ6WKcz3R2+ODvvbK7/1w9/hAtEWelVdeuceTM0Ueby1dHPMBEYv0eIMyvE/lIt+xxx4bH+7xpG1xjG1vVdzrODveH3yRh/v17kT65PFkVpHHE259jnuL2eK49xnd53h/JXglRbguWDUj3qq7qLe3dG2miJ743sFv+eWX7/GuZZoqa6BP8sRicf/eQr24vCf+inQflLhIjzeuuuqqIs/qq6/e4wnt+HDY9mR5wMPeI9p7LO1on55gLeoR30N8Ha9EK/J4IjQ+1GvbE+9FPurMe+tJ+F552Clr4979T+mz94RrUTbvXCrtwJMyd9555+I6aZ/D8bjNe5csJJWKX5lUlGXPkF/q2t/ireOLa5e9T9ZH+6C6/Vod7zqtx64V42DbfiVKD+2wUfHK3OIeeRcbFa4Zfye85X7NIvyKjeJ6PgBxkZdvD/eSvp9FBm0IASEgBISAEBACQkAICAEhIASEgBAQAkKgIgIEcR10qUXkQII0Qux7VxKl9+OtmAuyxVt+h3zeUrZI80FdeyDwy+Tdd98NBCR1gqAxgXw04gmyOVYaWB77pX6W11umWnLxa8T+UkstVaTFG95ivzjfrzSID/XrdqvE/vHHH1/UO0dMV6k8JC3kPiSwYQjR6N1yVDl9UPN4i/qizpC4Jt6ytweynvvxLqIsudfv1ltvXZzrg3f2Ohbv+GC6BTYQmSbtap/9RezzPKl7o8K7e+utt/b4lTA9PhBzj3dl1ONjZAQy3NqHt/LuU2yreFqBfjVB8Vy++93vWnLxS52sHn//+9+L9LINv1qnyM954FJGtJeV0Uw6ZLnVs6z/s/ef/q0/5Y033uijwLO68evd4DRF7PvVJeEe/cqXhqvvV1/0eBdLBUbexVMPaWWCcoL+m/qeccYZvbKJ2O8Fh3aEgBAQAkJACAgBISAEhIAQEAJCQAgIgRYQ6ChiH8INYsn+jNDJWb/H92wW+xBhtcQHXyzImVNPPTVk9e5NijTv3qHW6eGY949d5PcudkIaZKvVtYo1uve33OPd8GSvZcQ+WOTkoYceKq710ksv5bL0S5oRe81Y7EN0GRnv3aS0XD8sbsHZMKdsrtHJgtKI+qKI+PWvf93rz7DluHfH0+c2DDvvpqTPsTSBVSCQ2bHyoF3ts7+IfSzsGxH6g5iMtnaQ+/VumvoU3SqecYHeHU/RDnk3TWJrfe+Ox5Jr/tLvseIBBQUW39a/1DypDQdjZSHKy5zYahkI8v4Srm2EOM/yxBNP7PHunHpoH9Yvkk5dUIhVFfpJaxvevVPV00I+rmPfF8pACRe/W7nCvKufcD3uJVXMxMQ+7bhMkZIrV2lCQAgIASEgBISAEBACQkAICAEhIASEgBCIEehoH/sbb7xx8L1t/vPxbYwPa/yKx+KtOB1BDfGzTSDOMvFEiltkkUXCYXxGe+LIXXnllYWvb29d6dZYY42y00M6/plPOeWUsG3Bb++4444iEOzYsWPdmDFjapZR66D52MeXs3fX0CcrftgtaKkniIt4A30ytjmhFR/7xBY48sgjQ43wkU/sgnaIPXfKOumkk4J/7naU2+4yLPBzlXK94qRXEF3iM9CuEWuzVcqJ87SrfXrLf7fAAguEolMf+3Y9fNqbH/6cj33LR1wLT3KGXWJH2Htpx8t+8V2/xx57OIK8mhDbgjaF33P8oN9///1FTA3aCHEqTNqBp5XFr19pEGJrsL3SSisVwV29tX6IDUB6zs8/6Z0ixH0g/gNCHIc555yzT9Xwa+8J8hCLxCtF+xxvR0Jcj1xsAb/qx9m1re+tcl2CndPXI40E3cVPPr7x+bYgnth3V1xxhRs5cmTYL/tngYaJ7QBusVicAK9ccq+99lqIn3LQQQfFWbQtBISAEBACQkAICAEhIASEgBAQAkJACAiBSgh0NLEPiQe5QrBJ78rCEbgxDjxqd2gEL0E4IRPLhICd3mI6HN52220dAUYJFrn55puHNO8H23m3QGWnh3SClnpr2rBNUN5ZZpnF+ZUAzrtRCWneD39BktUsqOTgUCP2vZW3Gz16dFDQoDRBedIu8X7NnXeBEoqDmAT7ThQfj6G4bwi9nEDyWQDZOIiu18KFILkoteoprnLlktau9hkT+wSs9pbTfS55zz33OL/aJKT3B7EPMWvXpT9AoZMLnGyBt1Nivx14pjftrckLhSKKxdlnn90tu+yyIZv1M+k5nbRPP7bllluGKp199tlFH2l19Fbnztptf97PrrvuGhQ2BB43Za7Vgd84wDBk+HbbbRcfzm7z/aCdEGiZwLVpAPPsST6Rbw/XQPGLUCdI/Vxg4ZAh+mdtL0oq3fRufRx9vkQICAEhIASEgBAQAkJACAgBISAEhIAQEAINIxCb7w/WtvnY57dMLCgnbjRSiV0leKI+PVzsexKwcMlgQSk9mVqk4WYG1wtlggsGcxXBr0nsogRXDezXElzJ/PnPf85mMZcTnkDLHn/ssceK+uJiYqDE3MU06oqHIKvmBqPdvvDjwLOpL+scLgRc3XTTTYM7HFzi8GftIJe/HWm42rA248nw0iLjgK9pEF1PuhYYvvzyy6VlcIDr4Y4ndvHRrvZJmfYsy4JM4+/e8lQNnvvkk0/WvKf4YBwEuyxWw9/+9reiDjlXPK3iGdeHba8wLK7He3v00UcX+/iMryq4TOL9p4/DZ79fyVD11JbyEdzVnlkuyG/srqzMhVhcAfzP85yIGUHbx22SV1zFWbLb5u6H9zIncTvO1TN3jl+9Udxb1Xeddm79MLjQp+Naqapwv/STuT/DmVgFtMNaMTOqXk/5hIAQEAJCQAgIASEgBISAEBACQkAICIHhiUBH+divRex7C85A0NQj9vFhDNGWSkxOQa688sorRRYLrEj6RRddVKTHG5BVcXBLlAmx7LzzzgWBBIGbUxBQBkQj98C1cuS+EUpDgdjnfiHpuFcI9UYFJQbkfQ5LyvIW+gXmEHj1JCbPqRN/jz76aL3TWjoet7taJB5Ymf/tNIjuxRdfXNwnhG/qt9sqyP1ZGWnQ2Ha1TwhJcIOETYVgtnacPP1B7BMc154dwZRTwU87hKrlyRH77cAzvW4cXNWuDcFfVWjjPHc7136rEOJVr1Ern7UP+qbUzz7BYqkPx8raXlw2gcmt/vab9pdxftv2qyuK83KBweP3N1V+WRnp7wEHHFCUmd5Xmpd9nkMcZJ24Ful5r776asjjVwzliqiZZu8nig+JEBACQkAICAEhIASEgBAQAkJACAgBISAEWkFgUF3x4B6Bv0MPPdR5q93g7gHXGTnBrYcPmBr8aHuL5F5ZzBVPnIjLiC9/+cvBpQLudm655ZbicOrGwVtBO3zam3gSOvjMx9c07kc8Ae/wmY3rFwTfyT4ArhsxYoSdEtyo4OoBlykI2zvssEPwgf/xxx876ox/aPytm/hgm2766acPu57YdfgdBwtPYAX3K7g7wa2DxRTAVcv48eODiwhOwt8/Lj+oT7vFB6N1uC7i/hEf0NN5EtzNN998zhOWIW2qqaYKbkemnnrqsJ/+IwbA9ttvH5JxgQEmVcVbOjtPEofsCy64YPCfz73i491bZAfXNt56OBzHTQbPg/gLtSSOj0A+XHSY/+xa5zVzzBOEAT9w8+R+KOLqq692uIuaY4453MQTT1wUi9932qAP3lz4jsfFDPXDzQxl4SqFdoxwv/vvv79baKGFgpsq/LxzH3feeWdRJvEZ4jZN2wH/ZtunFWyxFtjHhRX+9PFtz/vLO+IVZpY13M+iiy7qZpxxxpBGW8ItkLe8Dq61fCDqkE57ol3Fwn78ftkxsDQXLODAO7bMMsu4CRMmOE/0O1zJ2D1yDv71N9lkk+AfnfaKtAPPUFD0L44ZYMkPPPBAXX/slpc2jY/+VHzg3cJNTnqsnfuxCyXaCTEUeK7nnXeeox9C6FNxX1ZPaJvmwibO++KLL8a7fbZxv8M1ENoN74D5+6fv8cqH8L3gOO3AjrGfkzimShz/IJfX0rzCoNc97rTTTm666aazw+GXGA68a2VxUHpl9jv07XxDqA/vD++ivTt8oyaZZJL0FO0LASEgBISAEBACQkAICAEhIASEgBAQAkKgLgKDRuw/++yzIRBj3RomGSCbyoh9SFOI8Fp+9iEFIZ5SMgVieJ999ulFCiaXDruQ6BCwuWCfEP/4iYa4qSXU07sycQRZNPErBZy3arXd4tdb8Lsdd9wxEOwWuLQ4+L+Np59+2k0xxRRpckv7kKHeWr5uGQSHBI+cWBmQtAS7nGiiiXLZsmmQYZQdE8XZjD6RQKqQ3PWEYMwQhCaQeMRs6A8hIOzuu++eLRqi1PzEe7cfbv7558/mQ7FhwTZRgHl3SIFAz2aOEr0rkCJuRJQcFFPNtk8rh3dvgw02sN26v7wvBI9FCKBc1cd5WTwG8Npss816Pce0ErQ3YnLEBD9tEcWgSTvwtLLslxgd9rwa9Z2OssGvbunT3q+99lq3+OKL2yX67Zfr0/9Y/dMLoVzjfUlJ7jQf+zfccIPbc889ex1CWVDl2fuVD867zCnOpf2gEIr7VJQLpgAoMmY24neQZ08bqCcrrLBCoTyol3edddYpAqnXyhsHBU7zobzwqwLSZO0LASEgBISAEBACQkAICAEhIASEgBAQAkKgLgKDRux7Nx0h4GxM2NStrc+QI1PMYh+iHPLpsssucwSExCKe8iH6IOKxeiYAaZlQJ0hXLKtTQaGA9Tnk6pRTTpkeLvaxvoZEuvzyy4s024Ckog5jxozpE/Aztpi1/PwaCeyXZbhVV13Veb/68eGwyoFgvqmiolemJnaOOOIId/7559c9E0wOPPDAPvniIKfNklc+FoE78cQTQyDNHMEP8Q/JV89yl8ph0Y0VsMmSSy7Zi0C09Hb9ejdC4VnH5DJlo9ShfUDiIjxXVojklChY9ULSm6Ds4JmASVoueQhayzlYAZdJs+0zLo+VGBCw8bvL+0EQUN6v9ddfv8geK354J3JtpcgcbZS1K7J4f+dhBQnEbSxgy3ko784666xgdW7HCXqNxXcs7cAzLi+2VI9X48R5am1jBc77zqoe8OR5omwcKCkj93lvIOVtdVG9+rBCifZhK2rol+mjqyjfIPFZJcDqj1R4vqxoWnfddSspCWlr1g9XfR5jx44Nqz7Sa+f2yUtfXk9QbLGyJRWeMe3UVialx7UvBISAEBACQkAICAEhIASEgBAQAkJACAiBWggMGrFfq1KNHouJ/SuuuKLX6ZB3jZLenON9Wwf3KJNNNllwpzPTTDP1KrfeDmV4X8wO9xO4qpllllmCy5xG61LvOp16HNcwPBfvYzu4yTF3Qs3W1/u5Dis1sLTGlc1cc83lZp111srF3XXXXc7HcCjyN+oaqDixQzYgt3HBAxlL25ptttnquiKKq95q++S61AFlGFbcXL+RFRlxXZrd5vq4MMK1D6sezOVPM+W1imfszsvHfnB77bVXM9UI5+CGauTIkQ33W01fMDnRBwkPiiYfbNottthiDb1ncVHeH394NlWs/OPz2EYBRfum/8TFFv3IvPPOW1OpmpbhgwIHt130vyh3JUJACAgBISAEhIAQEAJCQAgIASEgBISAEBhKCAx5Yn8oPaxuuhes7fGzjR/qTiDVsIQ+88wzA4S4FcF9z0AT0d30/FTXxhBgtYKt9GH1BbERJEJACAgBISAEhIAQEAJCQAgIASEgBISAEBACQqC/EBCx31/IqtyOQmDDDTd0TzzxRKgT8Q3WXHPNjqqfKtO9CGBVjpsshLgKZbEVuvcOVXMhIASEgBAQAkJACAgBISAEhIAQEAJCQAgIgU5DoKuJfXxRH3fccSE4p/kcHzVqVIExwWaPPfbYYl8bwxeBtdde2xGwGZce48ePHzQ3J8P3CQydO3/88ccd/tU/+uijcFO47bJ4A8TRIJ7HuHHj3DTTTDN0blp3IgSEgBAQAkJACAgBISAEhIAQEAJCQAgIASHQUQh0NbF/0UUXucMOO6wmoJBwI0aMqJlHB4c+AvgG4OiDAAABx0lEQVRhJ6AygXbnmWeeoX/DusN+Q4CAp7ngrvEFL7nkEgVFjQHRthAQAkJACAgBISAEhIAQEAJCQAgIASEgBIRAWxHoamJ/woQJ7rbbbissZ1NkIHBHjx6dJmtfCAgBIdA0AgRyvv32291nn32WLWOGGWZwa6yxhlaFZNFRohAQAkJACAgBISAEhIAQEAJCQAgIASEgBIRAOxDoamK/HQCoDCEgBISAEBACQkAICAEhIASEgBAQAkJACAgBISAEhIAQEALdhICI/W56WqqrEBACQkAICAEhIASEgBAQAkJACAgBISAEhIAQEAJCQAgMewRE7A/7JiAAhIAQEAJCQAgIASEgBISAEBACQkAICAEhIASEgBAQAkKgmxAQsd9NT0t1FQJCQAgIASEgBISAEBACQkAICAEhIASEgBAQAkJACAiBYY+AiP1h3wQEgBAQAkJACAgBISAEhIAQEAJCQAgIASEgBISAEBACQkAIdBMCIva76WmprkJACAgBISAEhIAQEAJCQAgIASEgBISAEBACQkAICAEhMOwRELE/7JuAABACQkAICAEhIASEgBAQAkJACAgBISAEhIAQEAJCQAgIgW5C4P8BSOhSsXH1r18AAAAASUVORK5CYII=)"
      ],
      "metadata": {
        "id": "jUFJh2ZaM4iA"
      }
    },
    {
      "cell_type": "markdown",
      "source": [
        "#Analysis\n",
        "This is awesome. With just 10% of the dataset and only 1 epoch, we obtained an accuracy of 87%. I think the maximum accuracy for the IMDB dataset is around 96%. You could train the above model with the full dataset and a larger number of epochs to get even better result."
      ],
      "metadata": {
        "id": "YepGP5lLNGRH"
      }
    },
    {
      "cell_type": "markdown",
      "source": [
        "# Hierirchal Attention\n",
        "## Plan\n",
        "1. Hierarchical attention: This model uses a two-level hierarchical attention mechanism:\n",
        "  * Local attention: Applied to individual sentences in a document to create sentence representations.\n",
        "  * Global attention: Applied to sentence representations to create a document representation.\n"
      ],
      "metadata": {
        "id": "p7UZSYibzI7z"
      }
    },
    {
      "cell_type": "markdown",
      "source": [
        "## Data preparation\n",
        "The data preparation is exactly similar to data preparation we did above."
      ],
      "metadata": {
        "id": "nx2PP9sYjRvr"
      }
    },
    {
      "cell_type": "code",
      "source": [
        "import torch\n",
        "import torch.nn as nn\n",
        "import torch.optim as optim\n",
        "from torch.utils.data import DataLoader, Dataset, random_split\n",
        "from datasets import load_dataset\n",
        "import nltk\n",
        "from transformers import BertTokenizer, BertModel\n",
        "\n",
        "# IMDB Dataset preparation\n",
        "imdb_data = load_dataset('imdb')\n",
        "\n",
        "from transformers import AlbertTokenizer\n",
        "\n",
        "tokenizer = AlbertTokenizer.from_pretrained(\"albert-base-v2\")\n",
        "\n",
        "class IMDBDataset(Dataset):\n",
        "    def __init__(self, data, tokenizer, max_sentence_length=48):\n",
        "        self.data = data\n",
        "        self.tokenizer = tokenizer\n",
        "        self.max_sentence_length = max_sentence_length\n",
        "\n",
        "    def __len__(self):\n",
        "        return len(self.data)\n",
        "\n",
        "    def __getitem__(self, idx):\n",
        "        text = self.data[idx]['text']\n",
        "        label = self.data[idx]['label']\n",
        "        sentences = nltk.sent_tokenize(text)\n",
        "        input_ids = [tokenizer.encode(sentence, max_length=self.max_sentence_length, truncation=True, padding='max_length') for sentence in sentences]\n",
        "        attention_masks = [[1 if token_id != tokenizer.pad_token_id else 0 for token_id in sentence] for sentence in input_ids]\n",
        "        return {'input_ids': torch.tensor(input_ids, dtype=torch.long),\n",
        "                'attention_mask': torch.tensor(attention_masks, dtype=torch.long),\n",
        "                'label': torch.tensor(label, dtype=torch.long)}\n",
        "\n",
        "train_dataset = IMDBDataset(imdb_data['train'], tokenizer)\n",
        "test_dataset = IMDBDataset(imdb_data['test'], tokenizer)\n",
        "\n",
        "train_5_percent = int(len(train_dataset) * 0.05)\n",
        "test_5_percent = int(len(test_dataset) * 0.05)\n",
        "\n",
        "# Calculate the number of samples for the remaining 90%\n",
        "train_95_percent = len(train_dataset) - train_5_percent\n",
        "test_95_percent = len(test_dataset) - test_5_percent\n",
        "\n",
        "# Split the datasets into 10% and 90%\n",
        "train_data_5_percent, _ = random_split(train_dataset, [train_5_percent, train_95_percent])\n",
        "test_data_5_percent, _ = random_split(test_dataset, [test_5_percent, test_95_percent])\n",
        "\n",
        "def pad_collate(batch):\n",
        "    max_num_sentences = max([item['input_ids'].shape[0] for item in batch])\n",
        "\n",
        "    input_ids_batch = []\n",
        "    attention_masks_batch = []\n",
        "\n",
        "    for item in batch:\n",
        "        num_sentences = item['input_ids'].shape[0]\n",
        "        pad_length = max_num_sentences - num_sentences\n",
        "        input_ids = torch.cat([item['input_ids'], torch.zeros(pad_length, item['input_ids'].shape[1], dtype=torch.long)], dim=0)\n",
        "        attention_mask = torch.cat([item['attention_mask'], torch.zeros(pad_length, item['attention_mask'].shape[1], dtype=torch.long)], dim=0)\n",
        "\n",
        "        input_ids_batch.append(input_ids)\n",
        "        attention_masks_batch.append(attention_mask)\n",
        "\n",
        "    input_ids_tensor = torch.stack(input_ids_batch, dim=0)\n",
        "    attention_masks_tensor = torch.stack(attention_masks_batch, dim=0)\n",
        "    labels_tensor = torch.tensor([item['label'] for item in batch], dtype=torch.long)\n",
        "\n",
        "    return {'input_ids': input_ids_tensor, 'attention_mask': attention_masks_tensor, 'label': labels_tensor}\n",
        "\n",
        "train_loader = DataLoader(train_data_5_percent, batch_size=2, shuffle=True, collate_fn=pad_collate)\n",
        "test_loader = DataLoader(test_data_5_percent, batch_size=2, shuffle=True, collate_fn=pad_collate)\n",
        "\n"
      ],
      "metadata": {
        "id": "b7GUVas9_DuF",
        "colab": {
          "base_uri": "https://localhost:8080/",
          "height": 67,
          "referenced_widgets": [
            "d90cc429a72b4dd6b50acaf6120f884b",
            "5a8436aa77f249d8a730fd3f7c404a4a",
            "bde57097b0634f429abfed8a0649c506",
            "d5430e6ce18d4861aacdfa9f9f76829c",
            "92c5781644824e3d943f8ec0ae6fe939",
            "862b5a87d2504ae6a25596ebd78096b9",
            "d77ed94b7fb94174824b92eda94838a2",
            "7bf9463b8ca64f3bb2a3c7864b4a6743",
            "6e94bd3d410e4fa48a4331dffa8ff123",
            "9021deedd19040b6a60aee40de0a6988",
            "76634187d92d4d3c9a5d90fb18547455"
          ]
        },
        "outputId": "29fa9b5f-acc5-4fac-83e2-6dbcc23c3a09"
      },
      "execution_count": null,
      "outputs": [
        {
          "output_type": "stream",
          "name": "stderr",
          "text": [
            "Found cached dataset imdb (/Users/premtimsina/.cache/huggingface/datasets/imdb/plain_text/1.0.0/d613c88cf8fa3bab83b4ded3713f1f74830d1100e171db75bbddb80b3345c9c0)\n"
          ]
        },
        {
          "output_type": "display_data",
          "data": {
            "text/plain": [
              "  0%|          | 0/3 [00:00<?, ?it/s]"
            ],
            "application/vnd.jupyter.widget-view+json": {
              "version_major": 2,
              "version_minor": 0,
              "model_id": "d90cc429a72b4dd6b50acaf6120f884b"
            }
          },
          "metadata": {}
        }
      ]
    },
    {
      "cell_type": "code",
      "source": [
        "len(train_loader)"
      ],
      "metadata": {
        "colab": {
          "base_uri": "https://localhost:8080/"
        },
        "id": "bf8pgtXH0jEW",
        "outputId": "4fedcc7a-8066-40e4-beae-6e5aaea3df70"
      },
      "execution_count": null,
      "outputs": [
        {
          "output_type": "execute_result",
          "data": {
            "text/plain": [
              "625"
            ]
          },
          "metadata": {},
          "execution_count": 4
        }
      ]
    },
    {
      "cell_type": "markdown",
      "source": [
        "## 2.2. Model Architecture"
      ],
      "metadata": {
        "id": "eCFcPLlgjiWK"
      }
    },
    {
      "cell_type": "code",
      "source": [
        "from transformers import AlbertModel\n",
        "\n",
        "class AlbertTextClassifier(nn.Module):\n",
        "    def __init__(self, num_classes):\n",
        "        super(AlbertTextClassifier, self).__init__()\n",
        "        self.albert = AlbertModel.from_pretrained(\"albert-base-v2\")\n",
        "        self.attention = nn.Linear(self.albert.config.hidden_size, 1)\n",
        "        self.classifier = nn.Linear(self.albert.config.hidden_size, num_classes)\n",
        "        self.dropout = nn.Dropout(0.1)\n",
        "\n",
        "    def forward(self, input_ids, attention_mask):\n",
        "        batch_size, num_sentences, seq_len = input_ids.shape\n",
        "        input_ids = input_ids.view(batch_size * num_sentences, seq_len)\n",
        "        attention_mask = attention_mask.view(batch_size * num_sentences, seq_len)\n",
        "\n",
        "        outputs = self.albert(input_ids, attention_mask=attention_mask)\n",
        "        hidden_states = outputs.last_hidden_state\n",
        "        attention_weights = torch.softmax(self.attention(hidden_states), dim=1)\n",
        "        sentence_representation = torch.sum(attention_weights * hidden_states, dim=1)\n",
        "        sentence_representation = sentence_representation.view(batch_size, num_sentences, -1)\n",
        "\n",
        "        doc_attention_weights = torch.softmax(self.attention(sentence_representation), dim=1)\n",
        "        doc_representation = torch.sum(doc_attention_weights * sentence_representation, dim=1)\n",
        "        doc_representation = self.dropout(doc_representation)  # Add dropout\n",
        "\n",
        "        logits = self.classifier(doc_representation)\n",
        "        return logits\n"
      ],
      "metadata": {
        "id": "Dlq0EVVxCvji"
      },
      "execution_count": null,
      "outputs": []
    },
    {
      "cell_type": "markdown",
      "source": [
        "###The above code might be confusing: Let's explain through example:\n",
        "Assume we have the following input:\n",
        "\n",
        "  * 2 documents (batch_size = 2)\n",
        "  * Each document has 3 sentences (num_sentences = 3)\n",
        "  * Each sentence has 4 tokens (seq_len = 4)\n",
        "  * The input data would have the following dimensions:\n",
        "  ```\n",
        "  input_ids: (2, 3, 4)\n",
        "  attention_mask: (2, 3, 4)\n",
        "  ```\n",
        "Now, let's walk through the processing steps:\n",
        "\n",
        "1. Reshape input_ids and attention_mask:\n",
        "  ```\n",
        "  input_ids: (6, 4) [2 * 3 = 6, #since we have 2 documents with 3 sentences each]\n",
        "  attention_mask: (6, 4)\n",
        "  ```\n",
        "2. Pass input_ids and attention_mask to the ALBERT model:\n",
        "\n",
        "  * Obtain hidden_states with dimensions (6, 4, hidden_size)\n",
        "  * Compute attention weights for each token:\n",
        "\n",
        "3. Apply self.attention to hidden_states, resulting in a tensor of shape (6, 4, 1)\n",
        "4. Apply softmax to compute attention_weights: (6, 4, 1)\n",
        "5. Calculate sentence representations:\n",
        "\n",
        "  * Multiply attention_weights with hidden_states (element-wise): (6, 4, hidden_size)\n",
        "  * Sum along the sequence dimension (dim=1): (6, hidden_size)\n",
        "  * Reshape the tensor to (2, 3, hidden_size)\n",
        "\n",
        "6. Compute document-level attention weights:\n",
        "\n",
        "  * Apply self.attention to sentence_representation, resulting in a tensor of shape (2, 3, 1)\n",
        "  * Apply softmax to compute doc_attention_weights: (2, 3, 1)\n",
        "7. Calculate document representations:\n",
        "\n",
        "  * Multiply doc_attention_weights with sentence_representation (element-wise): (2, 3, hidden_size)\n",
        "  * Sum along the sentences dimension (dim=1): (2, hidden_size)\n",
        "  * Apply dropout to the document representations:\n",
        "\n",
        "8. doc_representation: (2, hidden_size)\n",
        "9. Pass the document representation through the classifier layer:\n"
      ],
      "metadata": {
        "id": "w4SuWMxNhO1s"
      }
    },
    {
      "cell_type": "markdown",
      "source": [
        "## 2.3. Training loop"
      ],
      "metadata": {
        "id": "-opWvf-Ajnmn"
      }
    },
    {
      "cell_type": "code",
      "source": [
        "import torch\n",
        "import torch.nn as nn\n",
        "import torch.optim as optim\n",
        "from torch.utils.data import DataLoader, Dataset, random_split\n",
        "from datasets import load_dataset\n",
        "from accelerate import Accelerator\n",
        "from tqdm import tqdm\n",
        "\n",
        "accelerator = Accelerator()\n",
        "device = accelerator.device\n",
        "\n",
        "model = AlbertTextClassifier(num_classes=2)\n",
        "optimizer = optim.Adam(model.parameters(), lr=1e-5)\n",
        "\n",
        "model, optimizer = accelerator.prepare(model, optimizer)\n",
        "\n",
        "criterion = nn.CrossEntropyLoss()\n",
        "\n",
        "train_loader, test_loader = accelerator.prepare(train_loader, test_loader)\n",
        "save_interval=100\n",
        "\n",
        "# Training loop\n",
        "num_epochs = 1\n",
        "\n",
        "for epoch in range(num_epochs):\n",
        "    model.train()\n",
        "    train_loader_progress = tqdm(enumerate(train_loader), desc=f\"Epoch {epoch + 1}/{num_epochs}, Training\", total=len(train_loader))\n",
        "    for batch_idx, batch in train_loader_progress:\n",
        "        input_ids = batch['input_ids'].to(device)\n",
        "        attention_mask = batch['attention_mask'].to(device)\n",
        "        labels = batch['label'].to(device)\n",
        "\n",
        "        optimizer.zero_grad()\n",
        "        logits = model(input_ids, attention_mask)\n",
        "        loss = criterion(logits, labels)\n",
        "        accelerator.backward(loss)\n",
        "        torch.nn.utils.clip_grad_norm_(model.parameters(), 1.0)\n",
        "\n",
        "        optimizer.step()\n",
        "\n",
        "        if batch_idx % 10 == 0:\n",
        "            train_loader_progress.set_postfix(loss=loss.item())\n",
        "        if (batch_idx + 1) % save_interval == 0:\n",
        "            model_save_path = f\"/Users/premtimsina/Documents/bpbbook/chapter6/model/AlbertTextClassifier_epoch{epoch + 1}_batch{batch_idx + 1}.pt\"\n",
        "            torch.save(model.state_dict(), model_save_path)\n",
        "    model.eval()\n",
        "    total_correct = 0\n",
        "    total_samples = 0\n",
        "    test_loader_progress = tqdm(test_loader, desc=f\"Epoch {epoch + 1}/{num_epochs}, Testing\")\n",
        "\n",
        "    with torch.no_grad():\n",
        "        for batch in test_loader_progress:\n",
        "            input_ids = batch['input_ids'].to(device)\n",
        "            attention_mask = batch['attention_mask'].to(device)\n",
        "            labels = batch['label'].to(device)\n",
        "\n",
        "            logits = model(input_ids, attention_mask)\n",
        "            _, preds = torch.max(logits, dim=1)\n",
        "            total_correct += (preds == labels).sum().item()\n",
        "            total_samples += labels.size(0)\n",
        "\n",
        "    accuracy = total_correct / total_samples\n",
        "    print(f\"Epoch {epoch + 1}/{num_epochs}, Accuracy: {accuracy:.4f}\")"
      ],
      "metadata": {
        "colab": {
          "base_uri": "https://localhost:8080/"
        },
        "id": "Pau8b1Cmzmwv",
        "outputId": "372dcae5-a685-428f-b297-0c9a32426543"
      },
      "execution_count": null,
      "outputs": [
        {
          "output_type": "stream",
          "name": "stderr",
          "text": [
            "Some weights of the model checkpoint at albert-base-v2 were not used when initializing AlbertModel: ['predictions.dense.bias', 'predictions.dense.weight', 'predictions.bias', 'predictions.LayerNorm.bias', 'predictions.decoder.weight', 'predictions.decoder.bias', 'predictions.LayerNorm.weight']\n",
            "- This IS expected if you are initializing AlbertModel from the checkpoint of a model trained on another task or with another architecture (e.g. initializing a BertForSequenceClassification model from a BertForPreTraining model).\n",
            "- This IS NOT expected if you are initializing AlbertModel from the checkpoint of a model that you expect to be exactly identical (initializing a BertForSequenceClassification model from a BertForSequenceClassification model).\n",
            "Epoch 1/1, Training: 100%|█████| 625/625 [02:27<00:00,  4.24it/s, loss=0.000264]\n",
            "Epoch 1/1, Testing: 100%|█████████████████████| 625/625 [00:44<00:00, 14.15it/s]"
          ]
        },
        {
          "output_type": "stream",
          "name": "stdout",
          "text": [
            "Epoch 1/1, Accuracy: 0.8688\n"
          ]
        },
        {
          "output_type": "stream",
          "name": "stderr",
          "text": [
            "\n"
          ]
        }
      ]
    },
    {
      "cell_type": "markdown",
      "source": [
        "It's awesome, we obtained 86% accuracy which is similar to document chuncking approach"
      ],
      "metadata": {
        "id": "h21R5y2vjsze"
      }
    },
    {
      "cell_type": "code",
      "source": [],
      "metadata": {
        "id": "-tvIHsxb1Cu9"
      },
      "execution_count": null,
      "outputs": []
    }
  ]
}