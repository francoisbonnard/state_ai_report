{
  "nbformat": 4,
  "nbformat_minor": 0,
  "metadata": {
    "colab": {
      "provenance": []
    },
    "kernelspec": {
      "name": "python3",
      "display_name": "Python 3"
    },
    "language_info": {
      "name": "python"
    }
  },
  "cells": [
    {
      "cell_type": "markdown",
      "source": [
        "# Import all Packages"
      ],
      "metadata": {
        "id": "ZfX9I4zwNdM9"
      }
    },
    {
      "cell_type": "code",
      "execution_count": 1,
      "metadata": {
        "id": "vBzwpSkOtPAe"
      },
      "outputs": [],
      "source": [
        "import os\n",
        "import numpy as np\n",
        "import pandas as pd\n",
        "from PIL import Image\n",
        "import torch\n",
        "import torch.nn as nn\n",
        "import torch.optim as optim\n",
        "from torch.utils.data import Dataset, DataLoader\n",
        "from torchvision import transforms\n",
        "from sklearn.model_selection import train_test_split\n",
        "from tqdm import tqdm"
      ]
    },
    {
      "cell_type": "markdown",
      "source": [
        "# Data Preparation\n",
        "1. We will be using the model `vit_base_patch16_224`\n",
        "  * This means all image need to be reshaped to (224,224)\n",
        "2. In training, we are using data augmentation process: `RandomHorizontalFlip`. \n",
        "  * It is optional step\n",
        "  *  It randomly flips an input image horizontally\n",
        "  * It  artificially increase the size and diversity of the training dataset\n",
        "3. We also normalizes the image `transforms.Normalize`\n",
        "  * This will reduce the scale of image\n",
        "  * It helps on Faster convergence, better generalization, and numercial stability\n"
      ],
      "metadata": {
        "id": "-hieKe9SfUWN"
      }
    },
    {
      "cell_type": "code",
      "source": [
        "# Please download the images from `https://www.kaggle.com/datasets/jr2ngb/cataractdataset` and place in your machine's directory\n",
        "DATA_DIR = \"/Users/premtimsina/Documents/chapter7/dataset/\"\n",
        "CLASSES = [\"normal\", \"cataract\", \"glaucoma\", \"retina_disease\"]\n",
        "\n",
        "data = []\n",
        "for class_idx, class_name in enumerate(CLASSES):\n",
        "    class_dir = os.path.join(DATA_DIR, class_name)\n",
        "    for img_name in os.listdir(class_dir):\n",
        "        img_path = os.path.join(class_dir, img_name)\n",
        "        data.append([img_path, class_idx])\n",
        "\n",
        "df = pd.DataFrame(data, columns=[\"image_path\", \"label\"])\n",
        "train_df, test_df = train_test_split(df, test_size=0.2, random_state=42, stratify=df[\"label\"])\n",
        "\n",
        "train_transforms = transforms.Compose([\n",
        "    transforms.Resize((224, 224)),\n",
        "    transforms.RandomHorizontalFlip(),\n",
        "    transforms.ToTensor(),\n",
        "    transforms.Normalize(mean=[0.485, 0.456, 0.406], std=[0.229, 0.224, 0.225]),\n",
        "])\n",
        "\n",
        "test_transforms = transforms.Compose([\n",
        "    transforms.Resize((224, 224)),\n",
        "    transforms.ToTensor(),\n",
        "    transforms.Normalize(mean=[0.485, 0.456, 0.406], std=[0.229, 0.224, 0.225]),\n",
        "])\n",
        "\n",
        "class CataractDataset(Dataset):\n",
        "    def __init__(self, image_paths, labels, transform=None):\n",
        "        self.image_paths = image_paths\n",
        "        self.labels = labels\n",
        "        self.transform = transform\n",
        "\n",
        "    def __len__(self):\n",
        "        return len(self.image_paths)\n",
        "\n",
        "    def __getitem__(self, idx):\n",
        "        img_path = self.image_paths[idx]\n",
        "        label = self.labels[idx]\n",
        "        img = Image.open(img_path).convert(\"RGB\")\n",
        "\n",
        "        if self.transform:\n",
        "            img = self.transform(img)\n",
        "\n",
        "        return img, label\n",
        "\n",
        "train_dataset = CataractDataset(train_df[\"image_path\"].values, train_df[\"label\"].values, transform=train_transforms)\n",
        "test_dataset = CataractDataset(test_df[\"image_path\"].values, test_df[\"label\"].values, transform=test_transforms)\n",
        "\n",
        "train_loader = DataLoader(train_dataset, batch_size=4, shuffle=True)\n",
        "test_loader = DataLoader(test_dataset, batch_size=4, shuffle=False)\n",
        "\n"
      ],
      "metadata": {
        "id": "Onl2qdgttxX6"
      },
      "execution_count": 2,
      "outputs": []
    },
    {
      "cell_type": "markdown",
      "source": [
        "# Let's review our dataloader\n",
        "1. We are just viewing the image from train_dataloader\n",
        "2. There is one very important step:\n",
        "  * matplotlib need the image in [H, W, C]; where dataloader has image of shape [C, H,W]\n",
        "  * Thus, before plotting we are transposing so that the data is suitable for viewing for matplotlib"
      ],
      "metadata": {
        "id": "-1253g1TPL6i"
      }
    },
    {
      "cell_type": "code",
      "source": [
        "import torchvision.transforms as transforms\n",
        "import matplotlib.pyplot as plt\n",
        "import numpy as np\n",
        "\n",
        "data_iter = iter(train_loader)\n",
        "images, labels = next(data_iter)\n",
        "\n",
        "# Function to unnormalize and convert a tensor image to numpy array\n",
        "def imshow(img_tensor):\n",
        "    img = img_tensor.numpy()\n",
        "    # transposing\n",
        "    img = np.transpose(img, (1, 2, 0)) \n",
        "    mean = np.array([0.485, 0.456, 0.406])\n",
        "    std = np.array([0.229, 0.224, 0.225])\n",
        "    img = std * img + mean\n",
        "    img = np.clip(img, 0, 1)\n",
        "    return img\n",
        "\n",
        "# Display the images and their labels\n",
        "fig, axes = plt.subplots(1, len(images), figsize=(12, 12))\n",
        "\n",
        "for idx, (image, label) in enumerate(zip(images, labels)):\n",
        "    axes[idx].imshow(imshow(image))\n",
        "    axes[idx].set_title(f\"Label: {label.item()}\")\n",
        "    axes[idx].axis(\"off\")\n",
        "\n",
        "plt.show()\n"
      ],
      "metadata": {
        "colab": {
          "base_uri": "https://localhost:8080/",
          "height": 245
        },
        "id": "rD9vNXxBLM2g",
        "outputId": "822e300d-5738-4f8e-8050-37a594ade2a4"
      },
      "execution_count": 6,
      "outputs": [
        {
          "output_type": "display_data",
          "data": {
            "text/plain": [
              "<Figure size 1200x1200 with 4 Axes>"
            ],
            "image/png": "[encoded data removed]"
          },
          "metadata": {}
        }
      ]
    },
    {
      "cell_type": "markdown",
      "source": [
        "# Declare the model\n",
        "1. We are using the pre-trained model from timm\n",
        "2. If the image is color, \n",
        "  * in_chans=3;\n",
        "3. if image is graysclae, \n",
        "  * in_chans=3=1\n",
        "4. We need to declare, how many classes we have in out dataset: \n",
        "  * For our case, it was 4.\n",
        "  * num_classes=4\n",
        "5. `pretrained=True`\n",
        "  * We are mentioning that we want weight of pre-trained model. If you want to train from scratch, you could just mention \n",
        "    * pretrained=False"
      ],
      "metadata": {
        "id": "ySxcYUlrQCyh"
      }
    },
    {
      "cell_type": "code",
      "source": [
        "import timm\n",
        "model = timm.create_model(\"vit_base_patch16_224\", in_chans=3, num_classes=4, pretrained=True)\n"
      ],
      "metadata": {
        "id": "48WE3Cmntu_M"
      },
      "execution_count": 8,
      "outputs": []
    },
    {
      "cell_type": "markdown",
      "source": [
        "# Declare the train and test loop\n",
        "1. In the below code: I am converting output and target into 'cpu'. Somehow my M1 chip is producing the problem. You may not encounter the problem. Thus, this is totally optional step."
      ],
      "metadata": {
        "id": "4o3rjbj4QLGT"
      }
    },
    {
      "cell_type": "code",
      "source": [
        "def train(model, device, train_loader, optimizer, criterion, epoch, accelerator):\n",
        "    model.train()\n",
        "    running_loss = 0.0\n",
        "\n",
        "    for batch_idx, (data, target) in enumerate(tqdm(train_loader)):\n",
        "        data, target = data.to(device), target.to(device)\n",
        "        optimizer.zero_grad()\n",
        "        output = model(data)\n",
        "        loss = criterion(output, target)\n",
        "        accelerator.backward(loss)\n",
        "        optimizer.step()\n",
        "        running_loss += loss.item()\n",
        "\n",
        "    avg_loss = running_loss / len(train_loader)\n",
        "    print(f\"Epoch: {epoch}, Loss: {avg_loss:.4f}\")\n",
        "\n",
        "from sklearn.metrics import confusion_matrix, recall_score, precision_score\n",
        "\n",
        "def test(model, device, test_loader, criterion, accelerator):\n",
        "    model.eval()\n",
        "    test_loss = 0\n",
        "    correct = 0\n",
        "    all_preds = []\n",
        "    all_targets = []\n",
        "    \n",
        "    with torch.no_grad():\n",
        "        for data, target in test_loader:\n",
        "            data, target = data.to(device), target.to(device)\n",
        "            output = model(data)\n",
        "            test_loss += criterion(output, target).item()\n",
        "            output_cpu = output.to('cpu')\n",
        "            target_cpu=target.to('cpu')\n",
        "            pred = output_cpu.argmax(dim=1, keepdim=True)\n",
        "            correct += pred.eq(target_cpu.view_as(pred)).sum().item()\n",
        "            \n",
        "            all_preds.extend(pred.flatten().tolist())\n",
        "            all_targets.extend(target.flatten().tolist())\n",
        "\n",
        "    test_loss /= len(test_loader)\n",
        "    accuracy = 100. * correct / len(test_loader.dataset)\n",
        "    print(f\"Test Loss: {test_loss:.4f}, Accuracy: {accuracy:.2f}%\")\n",
        "    \n",
        "    # Calculate confusion matrix, sensitivity (recall), and specificity\n",
        "    cm = confusion_matrix(all_targets, all_preds)\n",
        "    sensitivity = recall_score(all_targets, all_preds, average=None)\n",
        "    specificity = (cm.sum(axis=0) - cm.diagonal()) / cm.sum(axis=0)\n",
        "    \n",
        "    for i, (sens, spec) in enumerate(zip(sensitivity, specificity)):\n",
        "        print(f\"Class {i}: Sensitivity (Recall): {sens:.4f}, Specificity: {spec:.4f}\")\n",
        "\n"
      ],
      "metadata": {
        "id": "LiSLKNCqt48G"
      },
      "execution_count": 18,
      "outputs": []
    },
    {
      "cell_type": "code",
      "source": [
        "from accelerate import Accelerator\n",
        "from torch.optim import Adam\n",
        "\n",
        "accelerator = Accelerator()\n",
        "device = accelerator.device\n",
        "learning_rate = 1e-4\n",
        "\n",
        "optimizer = Adam(model.parameters(), lr=learning_rate)\n",
        "criterion = nn.CrossEntropyLoss()\n",
        "\n",
        "train_loader, test_loader = accelerator.prepare(train_loader, test_loader)\n",
        "model, optimizer, criterion = accelerator.prepare(model, optimizer, criterion)\n",
        "\n",
        "\n",
        "\n"
      ],
      "metadata": {
        "id": "nTzHALszt_0I"
      },
      "execution_count": 19,
      "outputs": []
    },
    {
      "cell_type": "code",
      "source": [
        "\n",
        "\n",
        "num_epochs = 50\n",
        "for epoch in range(1, num_epochs + 1):\n",
        "    train(model, device, train_loader, optimizer, criterion, epoch, accelerator)\n",
        "    test(model, device, test_loader, criterion, accelerator)"
      ],
      "metadata": {
        "colab": {
          "base_uri": "https://localhost:8080/"
        },
        "id": "M26lZZr66wWE",
        "outputId": "c4147988-57b3-49e4-baca-f47bef767fb1"
      },
      "execution_count": 22,
      "outputs": [
        {
          "output_type": "stream",
          "name": "stderr",
          "text": [
            "100%|█████████████████████████████████████████| 120/120 [01:08<00:00,  1.74it/s]\n"
          ]
        },
        {
          "output_type": "stream",
          "name": "stdout",
          "text": [
            "Epoch: 1, Loss: 0.9448\n"
          ]
        },
        {
          "output_type": "stream",
          "name": "stderr",
          "text": [
            "/var/folders/dt/v286l_1506x752dg9dwh_yl40000gn/T/ipykernel_57405/263114855.py:46: RuntimeWarning: invalid value encountered in divide\n",
            "  specificity = (cm.sum(axis=0) - cm.diagonal()) / cm.sum(axis=0)\n"
          ]
        },
        {
          "output_type": "stream",
          "name": "stdout",
          "text": [
            "Test Loss: 1.1269, Accuracy: 48.76%\n",
            "Class 0: Sensitivity (Recall): 0.6066, Specificity: 0.3509\n",
            "Class 1: Sensitivity (Recall): 0.7500, Specificity: 0.4643\n",
            "Class 2: Sensitivity (Recall): 0.0000, Specificity: nan\n",
            "Class 3: Sensitivity (Recall): 0.3500, Specificity: 0.8056\n"
          ]
        },
        {
          "output_type": "stream",
          "name": "stderr",
          "text": [
            "100%|█████████████████████████████████████████| 120/120 [01:09<00:00,  1.72it/s]\n"
          ]
        },
        {
          "output_type": "stream",
          "name": "stdout",
          "text": [
            "Epoch: 2, Loss: 0.9016\n",
            "Test Loss: 1.0736, Accuracy: 53.72%\n",
            "Class 0: Sensitivity (Recall): 0.7049, Specificity: 0.3582\n",
            "Class 1: Sensitivity (Recall): 0.5500, Specificity: 0.5000\n",
            "Class 2: Sensitivity (Recall): 0.5500, Specificity: 0.5000\n",
            "Class 3: Sensitivity (Recall): 0.0000, Specificity: 1.0000\n"
          ]
        },
        {
          "output_type": "stream",
          "name": "stderr",
          "text": [
            "100%|█████████████████████████████████████████| 120/120 [01:09<00:00,  1.72it/s]\n"
          ]
        },
        {
          "output_type": "stream",
          "name": "stdout",
          "text": [
            "Epoch: 3, Loss: 0.8900\n",
            "Test Loss: 1.0879, Accuracy: 58.68%\n",
            "Class 0: Sensitivity (Recall): 0.9344, Specificity: 0.4300\n",
            "Class 1: Sensitivity (Recall): 0.4500, Specificity: 0.2500\n",
            "Class 2: Sensitivity (Recall): 0.1000, Specificity: 0.0000\n",
            "Class 3: Sensitivity (Recall): 0.1500, Specificity: 0.5714\n"
          ]
        },
        {
          "output_type": "stream",
          "name": "stderr",
          "text": [
            "100%|█████████████████████████████████████████| 120/120 [01:09<00:00,  1.72it/s]\n"
          ]
        },
        {
          "output_type": "stream",
          "name": "stdout",
          "text": [
            "Epoch: 4, Loss: 0.8520\n",
            "Test Loss: 1.2384, Accuracy: 46.28%\n",
            "Class 0: Sensitivity (Recall): 0.4098, Specificity: 0.2857\n",
            "Class 1: Sensitivity (Recall): 0.5500, Specificity: 0.3529\n",
            "Class 2: Sensitivity (Recall): 0.7500, Specificity: 0.7222\n",
            "Class 3: Sensitivity (Recall): 0.2500, Specificity: 0.6667\n"
          ]
        },
        {
          "output_type": "stream",
          "name": "stderr",
          "text": [
            "100%|█████████████████████████████████████████| 120/120 [01:09<00:00,  1.72it/s]\n"
          ]
        },
        {
          "output_type": "stream",
          "name": "stdout",
          "text": [
            "Epoch: 5, Loss: 0.8687\n",
            "Test Loss: 0.9601, Accuracy: 61.16%\n",
            "Class 0: Sensitivity (Recall): 0.7869, Specificity: 0.3425\n",
            "Class 1: Sensitivity (Recall): 0.5500, Specificity: 0.4500\n",
            "Class 2: Sensitivity (Recall): 0.7500, Specificity: 0.4444\n",
            "Class 3: Sensitivity (Recall): 0.0000, Specificity: 1.0000\n"
          ]
        },
        {
          "output_type": "stream",
          "name": "stderr",
          "text": [
            "100%|█████████████████████████████████████████| 120/120 [01:09<00:00,  1.72it/s]\n"
          ]
        },
        {
          "output_type": "stream",
          "name": "stdout",
          "text": [
            "Epoch: 6, Loss: 0.8112\n",
            "Test Loss: 1.0747, Accuracy: 57.02%\n",
            "Class 0: Sensitivity (Recall): 0.9016, Specificity: 0.4388\n",
            "Class 1: Sensitivity (Recall): 0.5500, Specificity: 0.2667\n",
            "Class 2: Sensitivity (Recall): 0.1500, Specificity: 0.2500\n",
            "Class 3: Sensitivity (Recall): 0.0000, Specificity: 1.0000\n"
          ]
        },
        {
          "output_type": "stream",
          "name": "stderr",
          "text": [
            "100%|█████████████████████████████████████████| 120/120 [01:09<00:00,  1.72it/s]\n"
          ]
        },
        {
          "output_type": "stream",
          "name": "stdout",
          "text": [
            "Epoch: 7, Loss: 0.6973\n",
            "Test Loss: 1.0880, Accuracy: 60.33%\n",
            "Class 0: Sensitivity (Recall): 0.8033, Specificity: 0.3797\n",
            "Class 1: Sensitivity (Recall): 0.6000, Specificity: 0.4545\n",
            "Class 2: Sensitivity (Recall): 0.5500, Specificity: 0.3889\n",
            "Class 3: Sensitivity (Recall): 0.0500, Specificity: 0.5000\n"
          ]
        },
        {
          "output_type": "stream",
          "name": "stderr",
          "text": [
            "100%|█████████████████████████████████████████| 120/120 [01:09<00:00,  1.72it/s]\n"
          ]
        },
        {
          "output_type": "stream",
          "name": "stdout",
          "text": [
            "Epoch: 8, Loss: 0.7467\n"
          ]
        },
        {
          "output_type": "stream",
          "name": "stderr",
          "text": [
            "/var/folders/dt/v286l_1506x752dg9dwh_yl40000gn/T/ipykernel_57405/263114855.py:46: RuntimeWarning: invalid value encountered in divide\n",
            "  specificity = (cm.sum(axis=0) - cm.diagonal()) / cm.sum(axis=0)\n"
          ]
        },
        {
          "output_type": "stream",
          "name": "stdout",
          "text": [
            "Test Loss: 1.2283, Accuracy: 52.89%\n",
            "Class 0: Sensitivity (Recall): 0.5410, Specificity: 0.3529\n",
            "Class 1: Sensitivity (Recall): 0.7500, Specificity: 0.4828\n",
            "Class 2: Sensitivity (Recall): 0.8000, Specificity: 0.6098\n",
            "Class 3: Sensitivity (Recall): 0.0000, Specificity: nan\n"
          ]
        },
        {
          "output_type": "stream",
          "name": "stderr",
          "text": [
            "100%|█████████████████████████████████████████| 120/120 [01:09<00:00,  1.72it/s]\n"
          ]
        },
        {
          "output_type": "stream",
          "name": "stdout",
          "text": [
            "Epoch: 9, Loss: 0.7473\n",
            "Test Loss: 1.2848, Accuracy: 54.55%\n",
            "Class 0: Sensitivity (Recall): 0.8361, Specificity: 0.3780\n",
            "Class 1: Sensitivity (Recall): 0.3000, Specificity: 0.1429\n",
            "Class 2: Sensitivity (Recall): 0.2500, Specificity: 0.4444\n",
            "Class 3: Sensitivity (Recall): 0.2000, Specificity: 0.8261\n"
          ]
        },
        {
          "output_type": "stream",
          "name": "stderr",
          "text": [
            "100%|█████████████████████████████████████████| 120/120 [01:09<00:00,  1.72it/s]\n"
          ]
        },
        {
          "output_type": "stream",
          "name": "stdout",
          "text": [
            "Epoch: 10, Loss: 0.7980\n",
            "Test Loss: 1.0402, Accuracy: 59.50%\n",
            "Class 0: Sensitivity (Recall): 0.7213, Specificity: 0.3433\n",
            "Class 1: Sensitivity (Recall): 0.5500, Specificity: 0.3889\n",
            "Class 2: Sensitivity (Recall): 0.7000, Specificity: 0.5000\n",
            "Class 3: Sensitivity (Recall): 0.1500, Specificity: 0.6250\n"
          ]
        },
        {
          "output_type": "stream",
          "name": "stderr",
          "text": [
            "100%|█████████████████████████████████████████| 120/120 [01:10<00:00,  1.71it/s]\n"
          ]
        },
        {
          "output_type": "stream",
          "name": "stdout",
          "text": [
            "Epoch: 11, Loss: 0.6878\n",
            "Test Loss: 1.1001, Accuracy: 57.85%\n",
            "Class 0: Sensitivity (Recall): 0.7213, Specificity: 0.3333\n",
            "Class 1: Sensitivity (Recall): 0.6000, Specificity: 0.5000\n",
            "Class 2: Sensitivity (Recall): 0.6000, Specificity: 0.4783\n",
            "Class 3: Sensitivity (Recall): 0.1000, Specificity: 0.7500\n"
          ]
        },
        {
          "output_type": "stream",
          "name": "stderr",
          "text": [
            "100%|█████████████████████████████████████████| 120/120 [01:10<00:00,  1.70it/s]\n"
          ]
        },
        {
          "output_type": "stream",
          "name": "stdout",
          "text": [
            "Epoch: 12, Loss: 0.6879\n"
          ]
        },
        {
          "output_type": "stream",
          "name": "stderr",
          "text": [
            "/var/folders/dt/v286l_1506x752dg9dwh_yl40000gn/T/ipykernel_57405/263114855.py:46: RuntimeWarning: invalid value encountered in divide\n",
            "  specificity = (cm.sum(axis=0) - cm.diagonal()) / cm.sum(axis=0)\n"
          ]
        },
        {
          "output_type": "stream",
          "name": "stdout",
          "text": [
            "Test Loss: 1.2598, Accuracy: 57.02%\n",
            "Class 0: Sensitivity (Recall): 0.9344, Specificity: 0.4519\n",
            "Class 1: Sensitivity (Recall): 0.5500, Specificity: 0.3125\n",
            "Class 2: Sensitivity (Recall): 0.0500, Specificity: 0.0000\n",
            "Class 3: Sensitivity (Recall): 0.0000, Specificity: nan\n"
          ]
        },
        {
          "output_type": "stream",
          "name": "stderr",
          "text": [
            "100%|█████████████████████████████████████████| 120/120 [01:10<00:00,  1.69it/s]\n"
          ]
        },
        {
          "output_type": "stream",
          "name": "stdout",
          "text": [
            "Epoch: 13, Loss: 0.6774\n",
            "Test Loss: 1.2294, Accuracy: 49.59%\n",
            "Class 0: Sensitivity (Recall): 0.4918, Specificity: 0.3617\n",
            "Class 1: Sensitivity (Recall): 0.6000, Specificity: 0.4545\n",
            "Class 2: Sensitivity (Recall): 0.7500, Specificity: 0.6341\n",
            "Class 3: Sensitivity (Recall): 0.1500, Specificity: 0.7273\n"
          ]
        },
        {
          "output_type": "stream",
          "name": "stderr",
          "text": [
            "100%|█████████████████████████████████████████| 120/120 [01:10<00:00,  1.70it/s]\n"
          ]
        },
        {
          "output_type": "stream",
          "name": "stdout",
          "text": [
            "Epoch: 14, Loss: 0.5857\n",
            "Test Loss: 1.3928, Accuracy: 57.02%\n",
            "Class 0: Sensitivity (Recall): 0.7869, Specificity: 0.4286\n",
            "Class 1: Sensitivity (Recall): 0.7500, Specificity: 0.3750\n",
            "Class 2: Sensitivity (Recall): 0.1000, Specificity: 0.6667\n",
            "Class 3: Sensitivity (Recall): 0.2000, Specificity: 0.4286\n"
          ]
        },
        {
          "output_type": "stream",
          "name": "stderr",
          "text": [
            "100%|█████████████████████████████████████████| 120/120 [01:10<00:00,  1.70it/s]\n"
          ]
        },
        {
          "output_type": "stream",
          "name": "stdout",
          "text": [
            "Epoch: 15, Loss: 0.5913\n",
            "Test Loss: 1.2990, Accuracy: 54.55%\n",
            "Class 0: Sensitivity (Recall): 0.5082, Specificity: 0.2791\n",
            "Class 1: Sensitivity (Recall): 0.8000, Specificity: 0.4483\n",
            "Class 2: Sensitivity (Recall): 0.7000, Specificity: 0.5758\n",
            "Class 3: Sensitivity (Recall): 0.2500, Specificity: 0.6875\n"
          ]
        },
        {
          "output_type": "stream",
          "name": "stderr",
          "text": [
            "100%|█████████████████████████████████████████| 120/120 [01:10<00:00,  1.71it/s]\n"
          ]
        },
        {
          "output_type": "stream",
          "name": "stdout",
          "text": [
            "Epoch: 16, Loss: 0.5987\n",
            "Test Loss: 1.1137, Accuracy: 55.37%\n",
            "Class 0: Sensitivity (Recall): 0.6885, Specificity: 0.3731\n",
            "Class 1: Sensitivity (Recall): 0.5500, Specificity: 0.3529\n",
            "Class 2: Sensitivity (Recall): 0.5000, Specificity: 0.4737\n",
            "Class 3: Sensitivity (Recall): 0.2000, Specificity: 0.7778\n"
          ]
        },
        {
          "output_type": "stream",
          "name": "stderr",
          "text": [
            "100%|█████████████████████████████████████████| 120/120 [01:10<00:00,  1.69it/s]\n"
          ]
        },
        {
          "output_type": "stream",
          "name": "stdout",
          "text": [
            "Epoch: 17, Loss: 0.5024\n",
            "Test Loss: 1.1910, Accuracy: 66.12%\n",
            "Class 0: Sensitivity (Recall): 0.7541, Specificity: 0.2069\n",
            "Class 1: Sensitivity (Recall): 0.9000, Specificity: 0.4194\n",
            "Class 2: Sensitivity (Recall): 0.4500, Specificity: 0.3077\n",
            "Class 3: Sensitivity (Recall): 0.3500, Specificity: 0.6316\n"
          ]
        },
        {
          "output_type": "stream",
          "name": "stderr",
          "text": [
            "100%|█████████████████████████████████████████| 120/120 [01:10<00:00,  1.69it/s]\n"
          ]
        },
        {
          "output_type": "stream",
          "name": "stdout",
          "text": [
            "Epoch: 18, Loss: 0.4766\n",
            "Test Loss: 1.3796, Accuracy: 53.72%\n",
            "Class 0: Sensitivity (Recall): 0.5410, Specificity: 0.2826\n",
            "Class 1: Sensitivity (Recall): 0.7000, Specificity: 0.5484\n",
            "Class 2: Sensitivity (Recall): 0.6500, Specificity: 0.5517\n",
            "Class 3: Sensitivity (Recall): 0.2500, Specificity: 0.6667\n"
          ]
        },
        {
          "output_type": "stream",
          "name": "stderr",
          "text": [
            "100%|█████████████████████████████████████████| 120/120 [01:10<00:00,  1.70it/s]\n"
          ]
        },
        {
          "output_type": "stream",
          "name": "stdout",
          "text": [
            "Epoch: 19, Loss: 0.6051\n",
            "Test Loss: 1.1983, Accuracy: 57.02%\n",
            "Class 0: Sensitivity (Recall): 0.6885, Specificity: 0.3115\n",
            "Class 1: Sensitivity (Recall): 0.6000, Specificity: 0.3333\n",
            "Class 2: Sensitivity (Recall): 0.6500, Specificity: 0.5938\n",
            "Class 3: Sensitivity (Recall): 0.1000, Specificity: 0.8000\n"
          ]
        },
        {
          "output_type": "stream",
          "name": "stderr",
          "text": [
            "100%|█████████████████████████████████████████| 120/120 [01:10<00:00,  1.70it/s]\n"
          ]
        },
        {
          "output_type": "stream",
          "name": "stdout",
          "text": [
            "Epoch: 20, Loss: 0.4295\n",
            "Test Loss: 1.3232, Accuracy: 53.72%\n",
            "Class 0: Sensitivity (Recall): 0.5574, Specificity: 0.2917\n",
            "Class 1: Sensitivity (Recall): 0.6000, Specificity: 0.5000\n",
            "Class 2: Sensitivity (Recall): 0.7500, Specificity: 0.5714\n",
            "Class 3: Sensitivity (Recall): 0.2000, Specificity: 0.7143\n"
          ]
        },
        {
          "output_type": "stream",
          "name": "stderr",
          "text": [
            "100%|█████████████████████████████████████████| 120/120 [01:10<00:00,  1.71it/s]\n"
          ]
        },
        {
          "output_type": "stream",
          "name": "stdout",
          "text": [
            "Epoch: 21, Loss: 0.4376\n",
            "Test Loss: 1.5208, Accuracy: 46.28%\n",
            "Class 0: Sensitivity (Recall): 0.5410, Specificity: 0.3889\n",
            "Class 1: Sensitivity (Recall): 0.6000, Specificity: 0.5714\n",
            "Class 2: Sensitivity (Recall): 0.1500, Specificity: 0.2500\n",
            "Class 3: Sensitivity (Recall): 0.4000, Specificity: 0.7714\n"
          ]
        },
        {
          "output_type": "stream",
          "name": "stderr",
          "text": [
            "100%|█████████████████████████████████████████| 120/120 [01:10<00:00,  1.71it/s]\n"
          ]
        },
        {
          "output_type": "stream",
          "name": "stdout",
          "text": [
            "Epoch: 22, Loss: 0.4133\n",
            "Test Loss: 1.4732, Accuracy: 54.55%\n",
            "Class 0: Sensitivity (Recall): 0.6393, Specificity: 0.3036\n",
            "Class 1: Sensitivity (Recall): 0.7000, Specificity: 0.4615\n",
            "Class 2: Sensitivity (Recall): 0.5500, Specificity: 0.6207\n",
            "Class 3: Sensitivity (Recall): 0.1000, Specificity: 0.8000\n"
          ]
        },
        {
          "output_type": "stream",
          "name": "stderr",
          "text": [
            "100%|█████████████████████████████████████████| 120/120 [01:10<00:00,  1.71it/s]\n"
          ]
        },
        {
          "output_type": "stream",
          "name": "stdout",
          "text": [
            "Epoch: 23, Loss: 0.4382\n",
            "Test Loss: 1.5196, Accuracy: 47.11%\n",
            "Class 0: Sensitivity (Recall): 0.5246, Specificity: 0.3043\n",
            "Class 1: Sensitivity (Recall): 0.5000, Specificity: 0.5238\n",
            "Class 2: Sensitivity (Recall): 0.2000, Specificity: 0.2000\n",
            "Class 3: Sensitivity (Recall): 0.5500, Specificity: 0.7755\n"
          ]
        },
        {
          "output_type": "stream",
          "name": "stderr",
          "text": [
            "100%|█████████████████████████████████████████| 120/120 [01:10<00:00,  1.71it/s]\n"
          ]
        },
        {
          "output_type": "stream",
          "name": "stdout",
          "text": [
            "Epoch: 24, Loss: 0.3861\n",
            "Test Loss: 1.4471, Accuracy: 57.02%\n",
            "Class 0: Sensitivity (Recall): 0.6230, Specificity: 0.2963\n",
            "Class 1: Sensitivity (Recall): 0.6500, Specificity: 0.4583\n",
            "Class 2: Sensitivity (Recall): 0.6500, Specificity: 0.5517\n",
            "Class 3: Sensitivity (Recall): 0.2500, Specificity: 0.6429\n"
          ]
        },
        {
          "output_type": "stream",
          "name": "stderr",
          "text": [
            "100%|█████████████████████████████████████████| 120/120 [01:10<00:00,  1.71it/s]\n"
          ]
        },
        {
          "output_type": "stream",
          "name": "stdout",
          "text": [
            "Epoch: 25, Loss: 0.2717\n",
            "Test Loss: 1.3845, Accuracy: 61.16%\n",
            "Class 0: Sensitivity (Recall): 0.6721, Specificity: 0.3167\n",
            "Class 1: Sensitivity (Recall): 0.7000, Specificity: 0.3000\n",
            "Class 2: Sensitivity (Recall): 0.6000, Specificity: 0.4545\n",
            "Class 3: Sensitivity (Recall): 0.3500, Specificity: 0.6316\n"
          ]
        },
        {
          "output_type": "stream",
          "name": "stderr",
          "text": [
            "100%|█████████████████████████████████████████| 120/120 [01:10<00:00,  1.71it/s]\n"
          ]
        },
        {
          "output_type": "stream",
          "name": "stdout",
          "text": [
            "Epoch: 26, Loss: 0.4292\n",
            "Test Loss: 1.2562, Accuracy: 42.98%\n",
            "Class 0: Sensitivity (Recall): 0.3934, Specificity: 0.3514\n",
            "Class 1: Sensitivity (Recall): 0.6500, Specificity: 0.4583\n",
            "Class 2: Sensitivity (Recall): 0.7000, Specificity: 0.7586\n",
            "Class 3: Sensitivity (Recall): 0.0500, Specificity: 0.5000\n"
          ]
        },
        {
          "output_type": "stream",
          "name": "stderr",
          "text": [
            "100%|█████████████████████████████████████████| 120/120 [01:10<00:00,  1.71it/s]\n"
          ]
        },
        {
          "output_type": "stream",
          "name": "stdout",
          "text": [
            "Epoch: 27, Loss: 0.4134\n",
            "Test Loss: 1.4674, Accuracy: 52.89%\n",
            "Class 0: Sensitivity (Recall): 0.7049, Specificity: 0.3768\n",
            "Class 1: Sensitivity (Recall): 0.5500, Specificity: 0.3529\n",
            "Class 2: Sensitivity (Recall): 0.2500, Specificity: 0.4444\n",
            "Class 3: Sensitivity (Recall): 0.2500, Specificity: 0.8077\n"
          ]
        },
        {
          "output_type": "stream",
          "name": "stderr",
          "text": [
            "100%|█████████████████████████████████████████| 120/120 [01:10<00:00,  1.71it/s]\n"
          ]
        },
        {
          "output_type": "stream",
          "name": "stdout",
          "text": [
            "Epoch: 28, Loss: 0.3746\n",
            "Test Loss: 1.3833, Accuracy: 49.59%\n",
            "Class 0: Sensitivity (Recall): 0.6066, Specificity: 0.3273\n",
            "Class 1: Sensitivity (Recall): 0.3000, Specificity: 0.2500\n",
            "Class 2: Sensitivity (Recall): 0.6500, Specificity: 0.5938\n",
            "Class 3: Sensitivity (Recall): 0.2000, Specificity: 0.8462\n"
          ]
        },
        {
          "output_type": "stream",
          "name": "stderr",
          "text": [
            "100%|█████████████████████████████████████████| 120/120 [01:10<00:00,  1.69it/s]\n"
          ]
        },
        {
          "output_type": "stream",
          "name": "stdout",
          "text": [
            "Epoch: 29, Loss: 0.3730\n",
            "Test Loss: 1.4943, Accuracy: 54.55%\n",
            "Class 0: Sensitivity (Recall): 0.6721, Specificity: 0.4225\n",
            "Class 1: Sensitivity (Recall): 0.8000, Specificity: 0.4286\n",
            "Class 2: Sensitivity (Recall): 0.3000, Specificity: 0.4000\n",
            "Class 3: Sensitivity (Recall): 0.1500, Specificity: 0.7500\n"
          ]
        },
        {
          "output_type": "stream",
          "name": "stderr",
          "text": [
            "100%|█████████████████████████████████████████| 120/120 [01:10<00:00,  1.70it/s]\n"
          ]
        },
        {
          "output_type": "stream",
          "name": "stdout",
          "text": [
            "Epoch: 30, Loss: 0.2675\n",
            "Test Loss: 1.9772, Accuracy: 53.72%\n",
            "Class 0: Sensitivity (Recall): 0.5902, Specificity: 0.3793\n",
            "Class 1: Sensitivity (Recall): 0.7500, Specificity: 0.4000\n",
            "Class 2: Sensitivity (Recall): 0.4000, Specificity: 0.4667\n",
            "Class 3: Sensitivity (Recall): 0.3000, Specificity: 0.7391\n"
          ]
        },
        {
          "output_type": "stream",
          "name": "stderr",
          "text": [
            "100%|█████████████████████████████████████████| 120/120 [01:10<00:00,  1.69it/s]\n"
          ]
        },
        {
          "output_type": "stream",
          "name": "stdout",
          "text": [
            "Epoch: 31, Loss: 0.4079\n",
            "Test Loss: 1.2920, Accuracy: 55.37%\n",
            "Class 0: Sensitivity (Recall): 0.7049, Specificity: 0.3175\n",
            "Class 1: Sensitivity (Recall): 0.5500, Specificity: 0.3529\n",
            "Class 2: Sensitivity (Recall): 0.6000, Specificity: 0.5556\n",
            "Class 3: Sensitivity (Recall): 0.0500, Specificity: 0.9286\n"
          ]
        },
        {
          "output_type": "stream",
          "name": "stderr",
          "text": [
            "100%|█████████████████████████████████████████| 120/120 [01:10<00:00,  1.69it/s]\n"
          ]
        },
        {
          "output_type": "stream",
          "name": "stdout",
          "text": [
            "Epoch: 32, Loss: 0.2767\n",
            "Test Loss: 1.5353, Accuracy: 56.20%\n",
            "Class 0: Sensitivity (Recall): 0.6393, Specificity: 0.2909\n",
            "Class 1: Sensitivity (Recall): 0.5000, Specificity: 0.4118\n",
            "Class 2: Sensitivity (Recall): 0.6500, Specificity: 0.5185\n",
            "Class 3: Sensitivity (Recall): 0.3000, Specificity: 0.7273\n"
          ]
        },
        {
          "output_type": "stream",
          "name": "stderr",
          "text": [
            "100%|█████████████████████████████████████████| 120/120 [01:11<00:00,  1.69it/s]\n"
          ]
        },
        {
          "output_type": "stream",
          "name": "stdout",
          "text": [
            "Epoch: 33, Loss: 0.2330\n",
            "Test Loss: 1.7612, Accuracy: 42.98%\n",
            "Class 0: Sensitivity (Recall): 0.3934, Specificity: 0.3684\n",
            "Class 1: Sensitivity (Recall): 0.7000, Specificity: 0.4167\n",
            "Class 2: Sensitivity (Recall): 0.3500, Specificity: 0.6111\n",
            "Class 3: Sensitivity (Recall): 0.3500, Specificity: 0.8293\n"
          ]
        },
        {
          "output_type": "stream",
          "name": "stderr",
          "text": [
            "100%|█████████████████████████████████████████| 120/120 [01:11<00:00,  1.69it/s]\n"
          ]
        },
        {
          "output_type": "stream",
          "name": "stdout",
          "text": [
            "Epoch: 34, Loss: 0.3126\n",
            "Test Loss: 1.4320, Accuracy: 55.37%\n",
            "Class 0: Sensitivity (Recall): 0.8033, Specificity: 0.3951\n",
            "Class 1: Sensitivity (Recall): 0.2500, Specificity: 0.4444\n",
            "Class 2: Sensitivity (Recall): 0.6000, Specificity: 0.4783\n",
            "Class 3: Sensitivity (Recall): 0.0500, Specificity: 0.8750\n"
          ]
        },
        {
          "output_type": "stream",
          "name": "stderr",
          "text": [
            "100%|█████████████████████████████████████████| 120/120 [01:10<00:00,  1.69it/s]\n"
          ]
        },
        {
          "output_type": "stream",
          "name": "stdout",
          "text": [
            "Epoch: 35, Loss: 0.2884\n",
            "Test Loss: 1.7068, Accuracy: 47.93%\n",
            "Class 0: Sensitivity (Recall): 0.6393, Specificity: 0.4091\n",
            "Class 1: Sensitivity (Recall): 0.6000, Specificity: 0.4783\n",
            "Class 2: Sensitivity (Recall): 0.1500, Specificity: 0.6667\n",
            "Class 3: Sensitivity (Recall): 0.2000, Specificity: 0.8261\n"
          ]
        },
        {
          "output_type": "stream",
          "name": "stderr",
          "text": [
            "100%|█████████████████████████████████████████| 120/120 [01:11<00:00,  1.69it/s]\n"
          ]
        },
        {
          "output_type": "stream",
          "name": "stdout",
          "text": [
            "Epoch: 36, Loss: 0.3131\n",
            "Test Loss: 1.5639, Accuracy: 58.68%\n",
            "Class 0: Sensitivity (Recall): 0.8197, Specificity: 0.3827\n",
            "Class 1: Sensitivity (Recall): 0.6000, Specificity: 0.4286\n",
            "Class 2: Sensitivity (Recall): 0.1500, Specificity: 0.6250\n",
            "Class 3: Sensitivity (Recall): 0.3000, Specificity: 0.4545\n"
          ]
        },
        {
          "output_type": "stream",
          "name": "stderr",
          "text": [
            "100%|█████████████████████████████████████████| 120/120 [01:10<00:00,  1.69it/s]\n"
          ]
        },
        {
          "output_type": "stream",
          "name": "stdout",
          "text": [
            "Epoch: 37, Loss: 0.2329\n",
            "Test Loss: 1.7258, Accuracy: 46.28%\n",
            "Class 0: Sensitivity (Recall): 0.4590, Specificity: 0.3488\n",
            "Class 1: Sensitivity (Recall): 0.5500, Specificity: 0.3529\n",
            "Class 2: Sensitivity (Recall): 0.7000, Specificity: 0.6889\n",
            "Class 3: Sensitivity (Recall): 0.1500, Specificity: 0.8125\n"
          ]
        },
        {
          "output_type": "stream",
          "name": "stderr",
          "text": [
            "100%|█████████████████████████████████████████| 120/120 [01:10<00:00,  1.71it/s]\n"
          ]
        },
        {
          "output_type": "stream",
          "name": "stdout",
          "text": [
            "Epoch: 38, Loss: 0.1365\n",
            "Test Loss: 2.2104, Accuracy: 48.76%\n",
            "Class 0: Sensitivity (Recall): 0.4918, Specificity: 0.3333\n",
            "Class 1: Sensitivity (Recall): 0.7500, Specificity: 0.5000\n",
            "Class 2: Sensitivity (Recall): 0.3000, Specificity: 0.6250\n",
            "Class 3: Sensitivity (Recall): 0.4000, Specificity: 0.7333\n"
          ]
        },
        {
          "output_type": "stream",
          "name": "stderr",
          "text": [
            "100%|█████████████████████████████████████████| 120/120 [01:09<00:00,  1.71it/s]\n"
          ]
        },
        {
          "output_type": "stream",
          "name": "stdout",
          "text": [
            "Epoch: 39, Loss: 0.2390\n",
            "Test Loss: 1.6950, Accuracy: 60.33%\n",
            "Class 0: Sensitivity (Recall): 0.6393, Specificity: 0.2909\n",
            "Class 1: Sensitivity (Recall): 0.9500, Specificity: 0.4722\n",
            "Class 2: Sensitivity (Recall): 0.4000, Specificity: 0.4667\n",
            "Class 3: Sensitivity (Recall): 0.3500, Specificity: 0.5333\n"
          ]
        },
        {
          "output_type": "stream",
          "name": "stderr",
          "text": [
            "100%|█████████████████████████████████████████| 120/120 [01:09<00:00,  1.71it/s]\n"
          ]
        },
        {
          "output_type": "stream",
          "name": "stdout",
          "text": [
            "Epoch: 40, Loss: 0.1917\n",
            "Test Loss: 1.9211, Accuracy: 59.50%\n",
            "Class 0: Sensitivity (Recall): 0.8852, Specificity: 0.4130\n",
            "Class 1: Sensitivity (Recall): 0.5000, Specificity: 0.1667\n",
            "Class 2: Sensitivity (Recall): 0.3000, Specificity: 0.2500\n",
            "Class 3: Sensitivity (Recall): 0.1000, Specificity: 0.7778\n"
          ]
        },
        {
          "output_type": "stream",
          "name": "stderr",
          "text": [
            "100%|█████████████████████████████████████████| 120/120 [01:09<00:00,  1.71it/s]\n"
          ]
        },
        {
          "output_type": "stream",
          "name": "stdout",
          "text": [
            "Epoch: 41, Loss: 0.2512\n",
            "Test Loss: 1.9276, Accuracy: 52.07%\n",
            "Class 0: Sensitivity (Recall): 0.5410, Specificity: 0.3265\n",
            "Class 1: Sensitivity (Recall): 0.7500, Specificity: 0.4444\n",
            "Class 2: Sensitivity (Recall): 0.6500, Specificity: 0.6389\n",
            "Class 3: Sensitivity (Recall): 0.1000, Specificity: 0.7778\n"
          ]
        },
        {
          "output_type": "stream",
          "name": "stderr",
          "text": [
            "100%|█████████████████████████████████████████| 120/120 [01:09<00:00,  1.71it/s]\n"
          ]
        },
        {
          "output_type": "stream",
          "name": "stdout",
          "text": [
            "Epoch: 42, Loss: 0.2036\n",
            "Test Loss: 1.8680, Accuracy: 51.24%\n",
            "Class 0: Sensitivity (Recall): 0.6557, Specificity: 0.3846\n",
            "Class 1: Sensitivity (Recall): 0.5000, Specificity: 0.4737\n",
            "Class 2: Sensitivity (Recall): 0.3000, Specificity: 0.6250\n",
            "Class 3: Sensitivity (Recall): 0.3000, Specificity: 0.7143\n"
          ]
        },
        {
          "output_type": "stream",
          "name": "stderr",
          "text": [
            "100%|█████████████████████████████████████████| 120/120 [01:10<00:00,  1.71it/s]\n"
          ]
        },
        {
          "output_type": "stream",
          "name": "stdout",
          "text": [
            "Epoch: 43, Loss: 0.2432\n",
            "Test Loss: 1.4052, Accuracy: 54.55%\n",
            "Class 0: Sensitivity (Recall): 0.7869, Specificity: 0.4000\n",
            "Class 1: Sensitivity (Recall): 0.5500, Specificity: 0.4211\n",
            "Class 2: Sensitivity (Recall): 0.3000, Specificity: 0.6250\n",
            "Class 3: Sensitivity (Recall): 0.0500, Specificity: 0.8333\n"
          ]
        },
        {
          "output_type": "stream",
          "name": "stderr",
          "text": [
            "100%|█████████████████████████████████████████| 120/120 [01:10<00:00,  1.71it/s]\n"
          ]
        },
        {
          "output_type": "stream",
          "name": "stdout",
          "text": [
            "Epoch: 44, Loss: 0.1992\n",
            "Test Loss: 1.7148, Accuracy: 52.89%\n",
            "Class 0: Sensitivity (Recall): 0.7705, Specificity: 0.4337\n",
            "Class 1: Sensitivity (Recall): 0.6500, Specificity: 0.4091\n",
            "Class 2: Sensitivity (Recall): 0.1000, Specificity: 0.6667\n",
            "Class 3: Sensitivity (Recall): 0.1000, Specificity: 0.8000\n"
          ]
        },
        {
          "output_type": "stream",
          "name": "stderr",
          "text": [
            "100%|█████████████████████████████████████████| 120/120 [01:10<00:00,  1.71it/s]\n"
          ]
        },
        {
          "output_type": "stream",
          "name": "stdout",
          "text": [
            "Epoch: 45, Loss: 0.1616\n",
            "Test Loss: 1.9114, Accuracy: 52.07%\n",
            "Class 0: Sensitivity (Recall): 0.7869, Specificity: 0.4000\n",
            "Class 1: Sensitivity (Recall): 0.2500, Specificity: 0.5455\n",
            "Class 2: Sensitivity (Recall): 0.3500, Specificity: 0.2222\n",
            "Class 3: Sensitivity (Recall): 0.1500, Specificity: 0.8571\n"
          ]
        },
        {
          "output_type": "stream",
          "name": "stderr",
          "text": [
            "100%|█████████████████████████████████████████| 120/120 [01:10<00:00,  1.71it/s]\n"
          ]
        },
        {
          "output_type": "stream",
          "name": "stdout",
          "text": [
            "Epoch: 46, Loss: 0.1832\n",
            "Test Loss: 2.1460, Accuracy: 55.37%\n",
            "Class 0: Sensitivity (Recall): 0.7213, Specificity: 0.3889\n",
            "Class 1: Sensitivity (Recall): 0.6000, Specificity: 0.4286\n",
            "Class 2: Sensitivity (Recall): 0.3000, Specificity: 0.2500\n",
            "Class 3: Sensitivity (Recall): 0.2500, Specificity: 0.7500\n"
          ]
        },
        {
          "output_type": "stream",
          "name": "stderr",
          "text": [
            "100%|█████████████████████████████████████████| 120/120 [01:10<00:00,  1.70it/s]\n"
          ]
        },
        {
          "output_type": "stream",
          "name": "stdout",
          "text": [
            "Epoch: 47, Loss: 0.2471\n",
            "Test Loss: 1.7554, Accuracy: 52.89%\n",
            "Class 0: Sensitivity (Recall): 0.6557, Specificity: 0.3443\n",
            "Class 1: Sensitivity (Recall): 0.6500, Specificity: 0.5185\n",
            "Class 2: Sensitivity (Recall): 0.4000, Specificity: 0.6190\n",
            "Class 3: Sensitivity (Recall): 0.1500, Specificity: 0.7500\n"
          ]
        },
        {
          "output_type": "stream",
          "name": "stderr",
          "text": [
            "100%|█████████████████████████████████████████| 120/120 [01:10<00:00,  1.70it/s]\n"
          ]
        },
        {
          "output_type": "stream",
          "name": "stdout",
          "text": [
            "Epoch: 48, Loss: 0.1398\n",
            "Test Loss: 2.0755, Accuracy: 55.37%\n",
            "Class 0: Sensitivity (Recall): 0.7869, Specificity: 0.3924\n",
            "Class 1: Sensitivity (Recall): 0.6500, Specificity: 0.4583\n",
            "Class 2: Sensitivity (Recall): 0.2500, Specificity: 0.3750\n",
            "Class 3: Sensitivity (Recall): 0.0500, Specificity: 0.9000\n"
          ]
        },
        {
          "output_type": "stream",
          "name": "stderr",
          "text": [
            "100%|█████████████████████████████████████████| 120/120 [01:10<00:00,  1.70it/s]\n"
          ]
        },
        {
          "output_type": "stream",
          "name": "stdout",
          "text": [
            "Epoch: 49, Loss: 0.3330\n",
            "Test Loss: 1.6170, Accuracy: 50.41%\n",
            "Class 0: Sensitivity (Recall): 0.5082, Specificity: 0.3542\n",
            "Class 1: Sensitivity (Recall): 0.7000, Specificity: 0.4400\n",
            "Class 2: Sensitivity (Recall): 0.5500, Specificity: 0.5217\n",
            "Class 3: Sensitivity (Recall): 0.2500, Specificity: 0.8000\n"
          ]
        },
        {
          "output_type": "stream",
          "name": "stderr",
          "text": [
            "100%|█████████████████████████████████████████| 120/120 [01:10<00:00,  1.70it/s]\n"
          ]
        },
        {
          "output_type": "stream",
          "name": "stdout",
          "text": [
            "Epoch: 50, Loss: 0.2016\n",
            "Test Loss: 1.9680, Accuracy: 46.28%\n",
            "Class 0: Sensitivity (Recall): 0.4262, Specificity: 0.3810\n",
            "Class 1: Sensitivity (Recall): 0.5500, Specificity: 0.4762\n",
            "Class 2: Sensitivity (Recall): 0.6500, Specificity: 0.4583\n",
            "Class 3: Sensitivity (Recall): 0.3000, Specificity: 0.8235\n"
          ]
        }
      ]
    },
    {
      "cell_type": "markdown",
      "source": [
        "# Analysis:\n",
        "1. The loss is decreasing. We need more epoch."
      ],
      "metadata": {
        "id": "OmuIiGVBQtsM"
      }
    },
    {
      "cell_type": "code",
      "source": [
        "#"
      ],
      "metadata": {
        "id": "kr7E1x71HAgW"
      },
      "execution_count": null,
      "outputs": []
    }
  ]
}